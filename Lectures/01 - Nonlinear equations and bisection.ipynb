{
 "metadata": {
  "name": ""
 },
 "nbformat": 3,
 "nbformat_minor": 0,
 "worksheets": [
  {
   "cells": [
    {
     "cell_type": "heading",
     "level": 1,
     "metadata": {
      "slideshow": {
       "slide_type": "slide"
      }
     },
     "source": [
      "Nonlinear Equations and bisection"
     ]
    },
    {
     "cell_type": "markdown",
     "metadata": {
      "slideshow": {
       "slide_type": "slide"
      }
     },
     "source": [
      "A large number of  nonlinear equations obviously *have* solutions, but the solutions cannot always be found in closed form. For example,\n",
      "\n",
      "\\begin{equation}\n",
      "  f(x) = e^x + x - 2 = 0.\n",
      "\\end{equation}"
     ]
    },
    {
     "cell_type": "code",
     "collapsed": false,
     "input": [
      "%matplotlib inline"
     ],
     "language": "python",
     "metadata": {
      "slideshow": {
       "slide_type": "skip"
      }
     },
     "outputs": [],
     "prompt_number": 1
    },
    {
     "cell_type": "code",
     "collapsed": false,
     "input": [
      "import matplotlib.pyplot as plt\n",
      "import numpy as np\n",
      "\n",
      "x = np.linspace(0.0, 1.0)\n",
      "def fn(x):\n",
      "    return np.exp(x) + x - 2.0\n",
      "f = fn(x)\n",
      "\n",
      "plt.figure()\n",
      "plt.plot(x, f, label = r'$f(x) = e^x + x - 2$')\n",
      "plt.xlabel('$x$')\n",
      "plt.ylabel('$f(x)$')\n",
      "plt.legend(loc = 2)\n",
      "plt.show()"
     ],
     "language": "python",
     "metadata": {
      "slideshow": {
       "slide_type": "subslide"
      }
     },
     "outputs": [
      {
       "metadata": {},
       "output_type": "display_data",
       "png": "[encoded data removed]",
       "text": [
        "<matplotlib.figure.Figure at 0x3a87890>"
       ]
      }
     ],
     "prompt_number": 16
    },
    {
     "cell_type": "markdown",
     "metadata": {
      "slideshow": {
       "slide_type": "subslide"
      }
     },
     "source": [
      "Numerical methods can give accurate, approximate solutions."
     ]
    },
    {
     "cell_type": "markdown",
     "metadata": {
      "slideshow": {
       "slide_type": "slide"
      }
     },
     "source": [
      "Write the problem as\n",
      "  \n",
      "\\begin{equation}\n",
      "    f(x) = 0.\n",
      "\\end{equation}\n",
      "  \n",
      "Goal: given $f$, find $x$. \n",
      "\n",
      "Assume: $f$ real, continuous. Sometimes restrict to $f$ differentiable.\n",
      "\n",
      "May consider equivalent problem\n",
      "\n",
      "\\begin{equation}\n",
      "    g(x) = x.\n",
      "\\end{equation}\n",
      "  \n",
      "Same problem, different (geometric) interpretation.\n",
      "\n",
      "Assume that evaluating $f$ or $g$ is \\emph{expensive}. Want to minimize the number of evaluations. "
     ]
    },
    {
     "cell_type": "markdown",
     "metadata": {
      "slideshow": {
       "slide_type": "subslide"
      }
     },
     "source": [
      "Given $f: x \\in \\mathbb{R} \\to \\mathbb{R}$, continuous, find $x$ such that\n",
      "\n",
      "\\begin{equation}\n",
      "    f(x) = 0.\n",
      "\\end{equation}\n",
      "\n",
      "Simple and robust method: **bisection**. \n",
      "\n",
      "1. Assume we have found (somehow!) two points, $x^{(L)}$ and $x^{(R)}$ that bracket root. \n",
      "2. Check halfway point $x^{(M)}$. Either $f(x^{(M)})=0$ (problem solved), or $x^{(M)}$ and one of $x^{(L,R)}$ bracket the root. \n",
      "3. Repeat to converge."
     ]
    },
    {
     "cell_type": "code",
     "collapsed": false,
     "input": [
      "xL = 0.1\n",
      "xR = 0.9\n",
      "xM = 0.5 * (xL + xR)\n",
      "\n",
      "plt.figure()\n",
      "plt.plot(x, f)\n",
      "plt.plot([xL], [fn(xL)], 'bo'); plt.plot([xL, xL], [0, fn(xL)], 'b--')\n",
      "plt.plot([xR], [fn(xR)], 'bo'); plt.plot([xR, xR], [0, fn(xR)], 'b--')\n",
      "plt.plot([xM], [fn(xM)], 'go'); plt.plot([xM, xM], [0, fn(xM)], 'g--')\n",
      "plt.axhline(color = 'black', linestyle = '--')\n",
      "plt.xlabel('$x$')\n",
      "plt.ylabel('$f(x)$')\n",
      "plt.show()"
     ],
     "language": "python",
     "metadata": {
      "slideshow": {
       "slide_type": "subslide"
      }
     },
     "outputs": [
      {
       "metadata": {},
       "output_type": "display_data",
       "png": "[encoded data removed]",
       "text": [
        "<matplotlib.figure.Figure at 0x3d19ad0>"
       ]
      }
     ],
     "prompt_number": 13
    }
   ],
   "metadata": {}
  }
 ]
}