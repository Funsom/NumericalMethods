{
 "metadata": {
  "name": "",
  "signature": "sha256:8f253abbc34c61eee4de47eab61ddf34e89d5d04dd835dea41d38b5e3e774fa0"
 },
 "nbformat": 3,
 "nbformat_minor": 0,
 "worksheets": [
  {
   "cells": [
    {
     "cell_type": "heading",
     "level": 1,
     "metadata": {},
     "source": [
      "Quadrature"
     ]
    },
    {
     "cell_type": "code",
     "collapsed": false,
     "input": [
      "%matplotlib inline"
     ],
     "language": "python",
     "metadata": {},
     "outputs": [],
     "prompt_number": 1
    },
    {
     "cell_type": "code",
     "collapsed": false,
     "input": [
      "import numpy as np\n",
      "import matplotlib\n",
      "import matplotlib.pyplot as plt\n",
      "\n",
      "matplotlib.rcParams.update({'font.size': 14})"
     ],
     "language": "python",
     "metadata": {},
     "outputs": [],
     "prompt_number": 2
    },
    {
     "cell_type": "heading",
     "level": 2,
     "metadata": {},
     "source": [
      "Numerical Quadrature"
     ]
    },
    {
     "cell_type": "markdown",
     "metadata": {},
     "source": [
      "The aim of numerical quadrature is to compute\n",
      "\n",
      "$$\\int_a^b f(x) \\, \\text{d}x$$\n",
      "\n",
      "where $f$ is a real function of a single variable $x$.\n",
      "\n",
      "More complex integrals are best evaluated by analytical reduction to a\n",
      "(set of) integral(s) in the form above.\n",
      "\n",
      "Here we will always assume that $f(x)$ is finite within $[a, b]$, and\n",
      "frequently we will implicitly assume that it is differentiable."
     ]
    },
    {
     "cell_type": "heading",
     "level": 2,
     "metadata": {},
     "source": [
      "The simplest quadrature"
     ]
    },
    {
     "cell_type": "markdown",
     "metadata": {},
     "source": [
      "Standard situation: the value of the function is known (or can be\n",
      "evaluated) at a set of points or *nodes*.\n",
      "\n",
      "The simplest evaluation of the quadrature uses the Riemann integral: a\n",
      "rectangular area is computed for each node, and the total integral is\n",
      "the sum of these areas."
     ]
    },
    {
     "cell_type": "heading",
     "level": 2,
     "metadata": {},
     "source": [
      "Function representation"
     ]
    },
    {
     "cell_type": "markdown",
     "metadata": {},
     "source": [
      "The simple rule from the Riemann integral is not very accurate. Most\n",
      "improvements change how the function is represented using a finite\n",
      "amount of information.\n",
      "\n",
      "Simplest assumption: know the *values* $f(x_j)$ at nodes $x_j$. This\n",
      "does not give us complete information about the function.\n",
      "\n",
      "We need information about how the function behaves away from the nodes.\n",
      "We *assume* the function behaves in a suitably simple way, so that the\n",
      "resulting *interpolating function* is easy to use.\n",
      "\n",
      "If the interpolating function is integrable then we are done; compute\n",
      "the integrals between each node and sum.\n",
      "\n",
      "The choice of interpolating function is definitely not unique. With\n",
      "quadrature this is not so much of an issue.\n",
      "\n",
      "A different assumption is that we can compute the function at any point\n",
      "in the interval, but that we wish to do this as little as possible.\n",
      "\n",
      "We then pick the nodes and the interpolating function to get the highest\n",
      "degree of accuracy possible. If the nodes are chosen based on the values\n",
      "of the function $f$ itself then this is an *adaptive* algorithm.\n",
      "\n",
      "\n",
      "Another possibility is that we might know (or compute) the coefficients\n",
      "of the function with respect to some basis, such as the Fourier\n",
      "coefficients\n",
      "\n",
      "$$f(x) \\simeq \\sum_{n=1}^N a_n \\sin \\left(\\frac{2 \\pi n}{L}\n",
      "              x\\right).$$\n",
      "\n",
      "Use linearity to compute the integral of each basis function, and\n",
      "compute the total integral using the appropriate weighted sum."
     ]
    },
    {
     "cell_type": "heading",
     "level": 2,
     "metadata": {},
     "source": [
      "Polynomial interpolation"
     ]
    },
    {
     "cell_type": "markdown",
     "metadata": {},
     "source": [
      "The general class of methods that have the name of *Newton-Cotes*\n",
      "formulae are simple and robust. They make the following assumptions:\n",
      "\n",
      "-   The function $f(x)$ is known (or can be evaluated) at a finite set\n",
      "    of nodes $\\{x_j\\}$, with $j = 0, \\dots, N$, in the interval\n",
      "    $[a, b]$.\n",
      "\n",
      "-   An interpolating function $g(x)$ is found that passes through these\n",
      "    points, i.e.\n",
      "\n",
      "    $$g(x_j) = f(x_j) \\left( = f_j \\right), \\quad j = 0, \\dots, N.$$\n",
      "\n",
      "-   The interpolating function is a polynomial or piecewise polynomial.\n",
      "\n",
      "-   The integral is computed from the exact integral of $g(x)$ over the\n",
      "    interval.\n",
      "\n",
      "Different methods based on the order of the polynomials used and\n",
      "restrictions on the nodes."
     ]
    },
    {
     "cell_type": "heading",
     "level": 2,
     "metadata": {},
     "source": [
      "Trapezoidal rule"
     ]
    },
    {
     "cell_type": "markdown",
     "metadata": {},
     "source": [
      "The trapezoidal rule uses an interpolating polynomial $g(x)$ of order 1:\n",
      "a straight line.\n",
      "\n",
      "\n",
      "Hence\n",
      "\n",
      "$$\\int_a^b f(x) \\, \\text{d}x = \\tfrac{1}{2} (b - a) \\left[ f(b) +\n",
      "              f(a) \\right].$$\n",
      "\n",
      "\n",
      "Very inaccurate unless the interval is small or $f(x)$ is very boring.\n",
      "\n",
      "\n",
      "Instead use the *composite* trapezoidal rule. Divide interval into $N$\n",
      "equal subintervals length\n",
      "\n",
      "$$h = (b - a) / N,$$\n",
      "\n",
      "and apply trapezoidal rule to each.\n",
      "\n",
      "\n",
      "Resulting interpolation polynomial $g$ is *piecewise* linear. Area in\n",
      "each subinterval is\n",
      "\n",
      "$$A_j = \\tfrac{1}{2} (x_j - x_{j-1}) \\left[ f(x_j) + f(x_{j-1})\n",
      "            \\right].$$"
     ]
    },
    {
     "cell_type": "heading",
     "level": 3,
     "metadata": {},
     "source": [
      "Composite Trapezoidal Rule"
     ]
    },
    {
     "cell_type": "markdown",
     "metadata": {},
     "source": [
      "From each subinterval the area is\n",
      "\n",
      "$$A_j = \\tfrac{1}{2} (x_j - x_{j-1}) \\left[ f(x_j) + f(x_{j-1})\n",
      "              \\right]$$\n",
      "\n",
      "and we obtain the full answer by summing each segment to get\n",
      "\n",
      "$$\\int_a^b f(x)\\, \\text{d}x = \\tfrac{h}{2} \\sum_{j=1}^N\n",
      "              \\left[ f_j + f_{j-1} \\right]$$\n",
      "\n",
      "\n",
      "This is often written as\n",
      "\n",
      "$$\\begin{aligned}\n",
      "              \\int_a^b f(x)\\, \\text{d}x& = \\tfrac{h}{2} \\left(f_0 +\n",
      "                f_N\\right) \\\\&+ h \\left(f_1 + \\dots f_{N-1} \\right).\n",
      "            \\end{aligned}$$"
     ]
    },
    {
     "cell_type": "heading",
     "level": 2,
     "metadata": {},
     "source": [
      "Error analysis"
     ]
    },
    {
     "cell_type": "markdown",
     "metadata": {},
     "source": [
      "To compute the error from a composite quadrature rule we bound the error\n",
      "in any subinterval. This will depend on the width of the interval, $h$.\n",
      "\n",
      "We firstly write the trapezoidal rule on one interval as\n",
      "\n",
      "$$A_j = \\tfrac{h}{2} \\left(f_j + f_{j+1}\\right).$$\n",
      "\n",
      "If we Taylor expand $f_{j+1}$ about $f_j$ we have\n",
      "\n",
      "$$A_j = h f_j + \\tfrac{h^2}{2} f'_j + \\tfrac{h^3}{4} f^{(2)}_j + \\dots$$\n",
      "\n",
      "To find the error, we need the exact result in powers of $h$. So define\n",
      "\n",
      "$$F(t) = \\int_{x_j}^{x_j + t} f(x) \\, \\text{d}x$$\n",
      "\n",
      "so that\n",
      "\n",
      "$$F(h) = \\int_{x_j}^{x_{j+1}} f(x) \\, \\text{d}x.$$\n",
      "\n",
      "We note that\n",
      "\n",
      "$$\\frac{\\text{d}^n F}{\\text{d}t^n} = f^{(n-1)}(x_j + t)$$\n",
      "\n",
      "or in particular\n",
      "\n",
      "$$\\frac{\\text{d} F}{\\text{d}t} = f(x_j + t).$$\n",
      "\n",
      "\n",
      "From this we can Taylor expand about $t=0$ to find\n",
      "\n",
      "$$F(h) = F(0) + h \\left. \\frac{\\text{d}F}{\\text{d}t} \\right|_{t=0}\n",
      "    + \\dots$$\n",
      "\n",
      "From the definition of $\\text{d}F / \\text{d}t$ we have\n",
      "\n",
      "$$F(h) = h f_j + \\tfrac{h^2}{2} f'_j + \\tfrac{h^3}{6} f^{(2)}_j + \\dots.$$\n",
      "\n",
      "Comparing with the trapezoidal rule\n",
      "\n",
      "$$F(h) \\simeq A_j = h f_j + \\tfrac{h^2}{2} f'_j + \\tfrac{h^3}{4}\n",
      "    f^{(2)}_j + \\dots$$\n",
      "\n",
      "the error in the subinterval is\n",
      "\n",
      "$$| A_j - F(h) | \\leq \\tfrac{h^3}{12} |f^{(2)}_j| .$$\n",
      "\n",
      "Summing over all $N$ subintervals and using $h N = (b - a)$ gives\n",
      "\n",
      "$$\\text{Error} \\leq \\frac{(b - a) h^2}{12} M_2, \\quad M_2 =\n",
      "    \\max_{x\\in[a,b]} | f^{(2)}(x) |.$$"
     ]
    },
    {
     "cell_type": "heading",
     "level": 2,
     "metadata": {},
     "source": [
      "Example"
     ]
    },
    {
     "cell_type": "markdown",
     "metadata": {},
     "source": [
      "We look at\n",
      "\n",
      "$$\\int_0^{\\pi / 2} \\sin(x) \\, \\text{d}x$$\n",
      "\n",
      "using the trapezoidal rule. The exact answer is 1.\n",
      "\n",
      "With three points $x_j = \\{0, \\pi / 4, \\pi / 2\\}$ we have $h =\n",
      "       \\pi / 4$ and\n",
      "\n",
      "|  $j$  |   $x_j$     |    $f_j$         |\n",
      "|:-----:|:-----------:|:----------------:|\n",
      "|  $0$  |      $0$    |     $0$          |\n",
      "|  $1$  |  $\\pi / 4$  | $1 / \\sqrt{2}$   |\n",
      "|  $2$  |  $\\pi / 2$  |       $1$        |\n",
      "\n",
      "So\n",
      "\n",
      "$$\\begin{aligned}\n",
      "         \\int_0^{\\pi / 2} \\sin(x) \\, \\text{d}x & \\simeq \\frac{\\pi / 4}{2}\n",
      "         \\left( 0 + 1 \\right) + \\pi / 4 \\left( \\tfrac{1}{\\sqrt{2}} \\right)\n",
      "         \\\\\n",
      "         & = \\tfrac{\\pi}{8} \\left( 1 + \\sqrt{2} \\right) \\\\\n",
      "         & \\simeq 0.948.\n",
      "       \\end{aligned}$$\n",
      "\n",
      "\n",
      "\n",
      "With four points $x_j = \\{0, \\pi / 6, \\pi / 3, \\pi / 2\\}$ we have\n",
      "$h = \\pi / 6$ and\n",
      "\n",
      "|   $j$ |    $x_j$    |     $f_j$        |\n",
      "|:-----:|:-----------:|:----------------:|\n",
      "|  $0$  |    $0$      |     $0$          |\n",
      "|  $1$  |  $\\pi / 6$  |    $1 / 2$       |\n",
      "|  $2$  |  $\\pi / 3$  | $\\sqrt{3} / 2$   |\n",
      "|  $3$  |  $\\pi / 2$  |     $1$          |\n",
      "\n",
      "So\n",
      "\n",
      "$$\\begin{aligned}\n",
      "        \\int_0^{\\pi / 2} \\sin(x) \\, \\text{d}x & \\simeq \\frac{\\pi / 6}{2}\n",
      "        \\left( 0 + 1 \\right) + \\pi / 6 \\left( \\tfrac{1}{2} +\n",
      "          \\tfrac{\\sqrt{3}}{2} \\right)\n",
      "        \\\\\n",
      "        & = \\tfrac{\\pi}{12} \\left( 2 + \\sqrt{3} \\right) \\simeq 0.977.\n",
      "      \\end{aligned}$$\n",
      "\n",
      "The example converges as expected with resolution."
     ]
    },
    {
     "cell_type": "code",
     "collapsed": false,
     "input": [
      "def trapezoidal_quadrature(fn, a, b, N):\n",
      "    \"\"\"Integrate the function fn of one variable x over the interval [a, b] using the trapezoidal rule with N+1 nodes.\"\"\"\n",
      "    import numpy as np\n",
      "    \n",
      "    nodes = np.linspace(a, b, N+1)\n",
      "    values = fn(nodes)\n",
      "    \n",
      "    h = (b - a) / float(N)\n",
      "    \n",
      "    return 0.5 * h * (values[0] + values[-1] + 2.0 * np.sum(values[1:-1]))\n",
      "\n",
      "def fn_sin(x):\n",
      "    \"\"\"Function used in quadrature example - fn = sin(x).\"\"\"\n",
      "    import numpy as np\n",
      "    \n",
      "    return np.sin(x)\n",
      "\n",
      "# Check the examples above\n",
      "print(\"The quadrature of sin(x) between 0, pi/2, using N=2 is {}.\".format(trapezoidal_quadrature(fn_sin, 0.0, np.pi / 2.0, 2)))\n",
      "print(\"The quadrature of sin(x) between 0, pi/2, using N=3 is {}.\".format(trapezoidal_quadrature(fn_sin, 0.0, np.pi / 2.0, 3)))"
     ],
     "language": "python",
     "metadata": {},
     "outputs": [
      {
       "output_type": "stream",
       "stream": "stdout",
       "text": [
        "The quadrature of sin(x) between 0, pi/2, using N=2 is 0.948059448969.\n",
        "The quadrature of sin(x) between 0, pi/2, using N=3 is 0.977048616657.\n"
       ]
      }
     ],
     "prompt_number": 3
    },
    {
     "cell_type": "code",
     "collapsed": false,
     "input": [
      "# Now show the behaviour with resolution\n",
      "\n",
      "Npoints = np.array([2**i for i in range(1, 11)])\n",
      "h = np.pi / 2.0 / Npoints\n",
      "err = np.zeros_like(h)\n",
      "for i in range(len(Npoints)):\n",
      "    N = Npoints[i]\n",
      "    quad = trapezoidal_quadrature(fn_sin, 0.0, np.pi / 2.0, N)\n",
      "    err[i] = np.abs(1.0 - quad)\n",
      "\n",
      "# Find the best fit to the data: if err ~ A h^s then the best fit straight line of log(err) vs log(h) has slope s.\n",
      "p = np.polyfit(np.log(h), np.log(err), 1)\n",
      "    \n",
      "fig = plt.figure(figsize = (10,6))\n",
      "ax = fig.add_subplot(111)\n",
      "ax.loglog(h, err, 'kx', label = 'Numerical data')\n",
      "ax.loglog(h, np.exp(p[1])*h**(p[0]), 'b-', label = \"Line slope {:.2f}\".format(p[0]))\n",
      "ax.set_xlabel('h')\n",
      "ax.set_ylabel('$\\|$ Error $\\|$')\n",
      "ax.set_title('Convergence of trapezoidal rule for $\\int_0^{\\pi/2} \\sin(x) \\, dx$')\n",
      "ax.legend(loc = 2)\n",
      "fig.tight_layout()\n",
      "plt.show()"
     ],
     "language": "python",
     "metadata": {},
     "outputs": [
      {
       "metadata": {},
       "output_type": "display_data",
       "png": "[encoded data removed]",
       "text": [
        "<matplotlib.figure.Figure at 0x7fa2313673d0>"
       ]
      }
     ],
     "prompt_number": 4
    }
   ],
   "metadata": {}
  }
 ]
}