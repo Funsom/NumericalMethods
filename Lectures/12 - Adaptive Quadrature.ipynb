{
 "metadata": {
  "name": "",
  "signature": "sha256:8cf6cd0f5959b278169cf25643e848347d7c29fc132dc98a93d886c7a821fa8f"
 },
 "nbformat": 3,
 "nbformat_minor": 0,
 "worksheets": [
  {
   "cells": [
    {
     "cell_type": "heading",
     "level": 1,
     "metadata": {},
     "source": [
      "Adaptive Quadrature"
     ]
    },
    {
     "cell_type": "code",
     "collapsed": false,
     "input": [
      "%matplotlib inline"
     ],
     "language": "python",
     "metadata": {},
     "outputs": [],
     "prompt_number": 1
    },
    {
     "cell_type": "code",
     "collapsed": false,
     "input": [
      "import numpy as np\n",
      "import matplotlib\n",
      "import matplotlib.pyplot as plt\n",
      "\n",
      "matplotlib.rcParams.update({'font.size': 14})"
     ],
     "language": "python",
     "metadata": {},
     "outputs": [],
     "prompt_number": 2
    },
    {
     "cell_type": "heading",
     "level": 2,
     "metadata": {},
     "source": [
      "Minimizing cost"
     ]
    },
    {
     "cell_type": "markdown",
     "metadata": {},
     "source": [
      "The aim of numerical quadrature is to compute\n",
      "\n",
      "$$\\int_a^b f(x) \\, \\text{d}x$$\n",
      "\n",
      "where $f$ is a real function of a single variable $x$.\n",
      "\n",
      "Looked at polynomial quadrature with equally spaced nodes. Can be\n",
      "inefficient and inaccurate.\n",
      "\n",
      "Efficiency requires minimizing the number of function evaluations, which\n",
      "means minimizing the number of nodes. Either\n",
      "\n",
      "-   Use standard quadrature methods, placing nodes depending on the\n",
      "    local behaviour of the function $f$, or\n",
      "\n",
      "-   Use methods that give the best accuracy for a \u201cgeneric\u201d function\n",
      "    $f$."
     ]
    },
    {
     "cell_type": "heading",
     "level": 2,
     "metadata": {},
     "source": [
      "Adaptive Quadrature"
     ]
    },
    {
     "cell_type": "markdown",
     "metadata": {},
     "source": [
      "The aim of adaptive quadrature is to compute the integral\n",
      "\n",
      "$$\\int_a^b f(x) \\, \\text{d}x$$\n",
      "\n",
      "for arbitrary $f$ to a given tolerance $\\epsilon$.\n",
      "\n",
      "Error depends on derivatives of $f$ and the spacing $h$. Most efficient\n",
      "to put more nodes (decrease $h$) where the function varies rapidly.\n",
      "\n",
      "Adaptive quadrature therefore\n",
      "\n",
      "1.  Computes an approximation with few subintervals;\n",
      "\n",
      "2.  Estimates the error on each subinterval;\n",
      "\n",
      "3.  Subdivides subintervals where error is \u201ctoo large\u201d."
     ]
    },
    {
     "cell_type": "heading",
     "level": 2,
     "metadata": {},
     "source": [
      "Example subdivision"
     ]
    },
    {
     "cell_type": "markdown",
     "metadata": {},
     "source": [
      "An example of the subintervals created by adaptive quadrature."
     ]
    },
    {
     "cell_type": "heading",
     "level": 2,
     "metadata": {},
     "source": [
      "Estimating the error"
     ]
    },
    {
     "cell_type": "markdown",
     "metadata": {},
     "source": [
      "Recursively dividing an interval into two equal subintervals is\n",
      "straightforward. But how do we choose which intervals need subdividing?\n",
      "For this we need some error measure.\n",
      "\n",
      "Use Richardson extrapolation. For any (sub)interval:\n",
      "\n",
      "1.  Compute $I_{2h}$;\n",
      "\n",
      "2.  Compute $I_h$;\n",
      "\n",
      "3.  If $I \\simeq I_h + C h^s$ then the *computable estimate of the\n",
      "    error* is\n",
      "\n",
      "    $$E_{2 h} \\equiv \\frac{|I_{2h} - I_h|}{2^s - 1}.$$"
     ]
    },
    {
     "cell_type": "heading",
     "level": 2,
     "metadata": {},
     "source": [
      "Total vs.\u00a0local error"
     ]
    },
    {
     "cell_type": "markdown",
     "metadata": {},
     "source": [
      "Computable error is the *local* error for one subinterval. Aim: To make\n",
      "the *total* error over the *whole* interval less than $\\epsilon$.\n",
      "\n",
      "Total error bounded by the sum of the errors in each subinterval,\n",
      "\n",
      "$$|{\\cal E}| \\leq \\sum_{\\text{intervals } j} |{\\cal E}_j|.$$\n",
      "\n",
      "Expect ${\\cal E}_j$ to be proportional to the width of the subinterval,\n",
      "\n",
      "$$|{\\cal E}_j| \\leq D (x_j - x_{j-1}).$$\n",
      "\n",
      "If we bound the error on each subinterval by\n",
      "\n",
      "$$|{\\cal E}_j| \\leq \\frac{\\epsilon}{b - a} (x_j - x_{j-1})$$\n",
      "\n",
      "then the resulting total error ${\\cal E}$ will be less than our required\n",
      "tolerance $\\epsilon$."
     ]
    },
    {
     "cell_type": "markdown",
     "metadata": {},
     "source": [
      "### Example 1"
     ]
    },
    {
     "cell_type": "markdown",
     "metadata": {},
     "source": [
      "The nodes for adaptive quadrature of a Heaviside function - the accuracy\n",
      "is $\\sim 10^{-9}$ with $\\sim 50$ nodes."
     ]
    },
    {
     "cell_type": "markdown",
     "metadata": {},
     "source": [
      "### Example 2"
     ]
    },
    {
     "cell_type": "markdown",
     "metadata": {},
     "source": [
      "The nodes for adaptive quadrature of a more complex function."
     ]
    },
    {
     "cell_type": "heading",
     "level": 1,
     "metadata": {},
     "source": [
      "Gaussian Quadrature"
     ]
    },
    {
     "cell_type": "markdown",
     "metadata": {},
     "source": [
      "Algorithms used so far use nodes $\\{x_j\\}$ to find a formula of type\n",
      "\n",
      "$$\\int_a^b f(x) \\, \\text{d}x \\simeq \\sum_{j=1}^n w_j f_j.$$\n",
      "\n",
      "Location of the nodes fixed in advance. Choice of\n",
      "polynomial then fixes *weights* $w_j$. \n",
      "\n",
      "In Gaussian Quadrature instead both weights *and* nodes are to be\n",
      "determined. Use this freedom to evaluate integral \u201cas accurately as\n",
      "possible\u201d.\n",
      "\n",
      "\n",
      "We have $2n$ degrees of freedom in the above formula, so can perfectly\n",
      "represent a polynomial of order $2n-1$. So fix nodes and weights by\n",
      "ensuring\n",
      "\n",
      "$$\\int_a^b x^s \\, \\text{d}x = \\sum_{j=1}^n w_j x_j^s \\quad\n",
      "        \\forall s = 0, 1, \\dots, 2 n - 1.$$\n",
      "\n",
      "\n",
      "If $f$ behaves in known ways (i.e., decays exponentially), can improve\n",
      "accuracy by introducing a *weight function* $W(x)$:\n",
      "\n",
      "$$\\int_a^b W(x) x^s \\, \\text{d}x = \\sum_{j=1}^n w_j x_j^s\n",
      "        \\quad \\forall s = 0, 1, \\dots, 2 n - 1.$$"
     ]
    },
    {
     "cell_type": "heading",
     "level": 2,
     "metadata": {},
     "source": [
      "Example"
     ]
    },
    {
     "cell_type": "markdown",
     "metadata": {},
     "source": [
      "Gauss-Legendre quadrature on $[-1,1]$, $n=2$ nodes:\n",
      "\n",
      "$$\\int_{-1}^1 x^s \\, \\text{d}x = \\sum_{j=1}^n w_j x_j^s \\quad\n",
      "     s = 0, 1, 2, 3.$$\n",
      "\n",
      "This gives the four equations\n",
      "\n",
      "$$\\begin{aligned}\n",
      "  &&s & = 0 : & w_1 + w_2 & = 2 &&\\\\\n",
      "  &&s & = 1 : & w_1 x_1 + w_2 x_2 & = 0 &&\\\\\n",
      "  &&s & = 2 : & w_1 x_1^2 + w_2 x_2^2 & = 2 / 3 &&\\\\\n",
      "  &&s & = 3 : & w_1 x_1^3 + w_2 x_2^3 & = 0.&&\n",
      "  \\end{aligned}$$\n",
      "\n",
      "The solution is $w_1 = 1 = w_2$, $x_1 = - 1 / \\sqrt{3} = -\n",
      "  x_2$.\n",
      "\n",
      "Therefore the Gauss-Legendre formula is\n",
      "\n",
      "$$\\int_{-1}^{1} f(x) \\, \\text{d}x \\simeq f(-1 / \\sqrt{3}) +  f(1 /\n",
      "    \\sqrt{3}).$$"
     ]
    },
    {
     "cell_type": "heading",
     "level": 2,
     "metadata": {},
     "source": [
      "Example: 2"
     ]
    },
    {
     "cell_type": "markdown",
     "metadata": {},
     "source": [
      "If we allow ourself $n=3$ nodes we have to solve\n",
      "\n",
      "$$\\int_{-1}^1 x^s \\, \\text{d}x = \\sum_{j=1}^n w_j x_j^s \\quad\n",
      "     s = 0, 1, 2, 3, 4, 5.$$\n",
      "\n",
      "This has solution for the weights $w_1 = \\tfrac{5}{9} = w_3$, $w_2 =\n",
      "  \\tfrac{8}{9}$ when evaluated at the nodes $x_1 = -\n",
      "  \\sqrt{\\tfrac{3}{5}} = - x_3$, $x_2 = 0$.\n",
      "\n",
      "Therefore the Gauss-Legendre formula is\n",
      "\n",
      "$$\\int_{-1}^{1} f(x) \\, \\text{d}x \\simeq \\frac{1}{9} \\left( 5\n",
      "      f(-\\sqrt{\\tfrac{3}{5}}) + 8 f(0) + 5 f(\\sqrt{\\tfrac{3}{5}}) \\right).$$\n",
      "\n",
      "In general, nodes are given by zeros of orthogonal polynomials (type\n",
      "depends on weight function)."
     ]
    },
    {
     "cell_type": "heading",
     "level": 2,
     "metadata": {},
     "source": [
      "Example: Explicit calculation 1"
     ]
    },
    {
     "cell_type": "markdown",
     "metadata": {},
     "source": [
      "If we apply the Gauss-Legendre formula with 2 nodes to\n",
      "\n",
      "$$\\int_{-1}^{1} \\cos^2 \\left(\\tfrac{\\pi x}{2}\\right) \\, \\text{d}x$$\n",
      "\n",
      "then we find\n",
      "\n",
      "$$\\int_{-1}^{1} \\cos^2 \\left(\\tfrac{\\pi x}{2}\\right) \\, \\text{d}x\n",
      "    \\simeq 0.75938.$$\n",
      "\n",
      "The Gauss-Legendre formula with 3 nodes gives\n",
      "\n",
      "$$\\int_{-1}^{1} \\cos^2 \\left(\\tfrac{\\pi x}{2}\\right) \\, \\text{d}x\n",
      "    \\simeq 1.133565.$$\n",
      "\n",
      "Compare with the trapezoidal rule ($0$!) and Simpson\u2019s rule ($4/3$) \u2013\n",
      "the exact answer is $1$ and only two (three) function evaluations are\n",
      "needed."
     ]
    },
    {
     "cell_type": "heading",
     "level": 2,
     "metadata": {},
     "source": [
      "Example: Explicit calculation 1"
     ]
    },
    {
     "cell_type": "code",
     "collapsed": false,
     "input": [
      "def fn_simple_gq(x):\n",
      "    \"\"\"Function used in Gauss quadrature example.\"\"\"\n",
      "    \n",
      "    return (np.cos(np.pi * x / 2.0))**2\n",
      "\n",
      "def fn_complex_gq(x):\n",
      "    \"\"\"Function used in complex Gauss quadrature example.\"\"\"\n",
      "    \n",
      "    return (np.sin(2.0 * np.pi * abs(5.0 * x) + np.pi / 2.0) * np.exp(-2.0 * (5.0 * x)**2))\n",
      "\n",
      "N = np.array(range(2, 70))\n",
      "err_simple  = np.zeros_like(N, float)\n",
      "err_complex = np.zeros_like(N, float)\n",
      "for i in range(len(N)):\n",
      "    nodes, weights = np.polynomial.legendre.leggauss(N[i])\n",
      "    quad_simple = np.dot(weights, fn_simple_gq(nodes))\n",
      "    quad_complex = np.dot(weights, fn_complex_gq(nodes))\n",
      "    err_simple [i] = abs(1.0 - quad_simple)\n",
      "    err_complex[i] = abs(np.sqrt(np.pi / 2.0) * np.exp(-np.pi**2 / 2.0) / 5.0 - quad_complex)\n",
      "\n",
      "fig = plt.figure(figsize = (10,6))\n",
      "ax = fig.add_subplot(111)\n",
      "ax.semilogy(N[:12], err_simple[:12], 'kx', label = \"$\\int_{-1}^{1} \\cos^2 (\\pi x / 2) \\, dx$\")\n",
      "ax.semilogy(N, err_complex, 'bo', label = \"$\\int_{-1}^{1} \\sin(10 \\pi |x| + \\pi / 2) \\exp(-50 x^2) \\, dx$\")\n",
      "ax.set_xlabel('Nodes')\n",
      "ax.set_ylabel('$\\|$ Error $\\|$')\n",
      "ax.set_title(\"Convergence of Gauss quadrature\")\n",
      "ax.legend(loc = \"lower center\")\n",
      "fig.tight_layout()\n",
      "plt.show()"
     ],
     "language": "python",
     "metadata": {},
     "outputs": [
      {
       "metadata": {},
       "output_type": "display_data",
       "png": "[encoded data removed]",
       "text": [
        "<matplotlib.figure.Figure at 0x7f3c185b1a10>"
       ]
      }
     ],
     "prompt_number": 3
    },
    {
     "cell_type": "markdown",
     "metadata": {},
     "source": [
      "Simple example: very few nodes sufficient for high accuracy. More\n",
      "complex example: more nodes required, but Gauss quadrature still more\n",
      "accurate than standard Newton-Cotes methods."
     ]
    }
   ],
   "metadata": {}
  }
 ]
}