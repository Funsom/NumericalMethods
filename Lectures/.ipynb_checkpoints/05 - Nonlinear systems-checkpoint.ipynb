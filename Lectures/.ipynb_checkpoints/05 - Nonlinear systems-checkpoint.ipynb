{
 "metadata": {
  "name": "",
  "signature": "sha256:80550f9321b2b209eb3e818ea9fb6f9d069b36213bdf4cdad3a98b685ad78984"
 },
 "nbformat": 3,
 "nbformat_minor": 0,
 "worksheets": [
  {
   "cells": [
    {
     "cell_type": "heading",
     "level": 1,
     "metadata": {},
     "source": [
      "Systems of nonlinear equations"
     ]
    },
    {
     "cell_type": "code",
     "collapsed": false,
     "input": [
      "%matplotlib inline"
     ],
     "language": "python",
     "metadata": {},
     "outputs": [],
     "prompt_number": 1
    },
    {
     "cell_type": "code",
     "collapsed": false,
     "input": [
      "import numpy as np\n",
      "import matplotlib\n",
      "import matplotlib.pyplot as plt\n",
      "import math\n",
      "\n",
      "matplotlib.rcParams.update({'font.size': 14})"
     ],
     "language": "python",
     "metadata": {},
     "outputs": [],
     "prompt_number": 2
    },
    {
     "cell_type": "markdown",
     "metadata": {},
     "source": [
      "A considerably more difficult problem than solving the single equation\n",
      "\n",
      "$$f(x) = 0$$\n",
      "\n",
      "for the root $s$ of the single variable $x$, is solving the system size\n",
      "$n$:\n",
      "\n",
      "$${\\boldsymbol{f}}({\\boldsymbol{x}}) = {\\boldsymbol{0}}.$$\n",
      "\n",
      "In general case may not be possible to check existence of root, let\n",
      "alone uniqueness.\n",
      "\n",
      "Where possible we shall extend the previous results."
     ]
    },
    {
     "cell_type": "heading",
     "level": 2,
     "metadata": {},
     "source": [
      "Simple example"
     ]
    },
    {
     "cell_type": "markdown",
     "metadata": {},
     "source": [
      "Consider the system\n",
      "\n",
      "$$\\begin{aligned}\n",
      "        x_1^2 + x_2^2 - 1 & = 0 \\\\\n",
      "        5 x_1^2 + 21 x_2^2 - 9 & = 0.\n",
      "      \\end{aligned}$$\n",
      "\n",
      "Have ${\\bf x} = (x_1, x_2)^T$, ${\\bf f} = (f_1,\n",
      "      f_2)^T$\n",
      "\n",
      "$$\\begin{aligned}\n",
      "        f_1(x_1, x_2) & = x_1^2 + x_2^2 - 1, \\\\\n",
      "        f_2(x_1, x_2) & = 5 x_1^2 + 21 x_2^2 - 9.\n",
      "      \\end{aligned}$$\n",
      "\n",
      "*Four* solutions ${\\bf \\xi} = (\\pm \\sqrt{3} /\n",
      "      2, \\pm 1 / 2)^T$. Match the four intersections of the two curves.\n",
      "\n",
      "Functional iteration\n",
      "${\\boldsymbol{g}}(\\boldsymbol{x}) = {\\boldsymbol{f}}(\\boldsymbol{x}) - \\boldsymbol{x}$ fails!"
     ]
    },
    {
     "cell_type": "code",
     "collapsed": false,
     "input": [
      "x1 = np.linspace(-2.0, 2.0)\n",
      "x2 = np.linspace(-2.0, 2.0)\n",
      "X1, X2 = np.meshgrid(x1,x2)\n",
      "F1 = X1**2 + X2**2 - 1.0\n",
      "F2 = 5.0*X1**2 + 21.0*X2**2 - 9.0\n",
      "\n",
      "fig = plt.figure(figsize = (8,8))\n",
      "ax = fig.add_subplot(111)\n",
      "ax.contour(X1,X2,F1,[0])\n",
      "ax.contour(X1,X2,F2,[0],colors='r')\n",
      "ax.set_xlabel(r\"$x_1$\")\n",
      "ax.set_ylabel(r\"$x_2$\")\n",
      "fig.tight_layout()\n",
      "plt.show()"
     ],
     "language": "python",
     "metadata": {},
     "outputs": [
      {
       "metadata": {},
       "output_type": "display_data",
       "png": "[encoded data removed]",
       "text": [
        "<matplotlib.figure.Figure at 0x3826550>"
       ]
      }
     ],
     "prompt_number": 7
    },
    {
     "cell_type": "heading",
     "level": 2,
     "metadata": {},
     "source": [
      "Contraction mapping"
     ]
    },
    {
     "cell_type": "markdown",
     "metadata": {},
     "source": [
      "Again find root ${\\boldsymbol{s}}$ by constructing sequence\n",
      "$\\{ {\\boldsymbol{x}}_n \\}$ using map\n",
      "${\\mathbf g}: {\\mathbb R}^n \\rightarrow {\\mathbb R}^n$:\n",
      "\n",
      "$${\\boldsymbol{x}}_{n+1} = {\\boldsymbol{g}} ({\\boldsymbol{x}}_n)$$\n",
      "\n",
      "In analogy with scalar case define interval $I$ as\n",
      "\n",
      "$$I = \\{ {\\boldsymbol{x}} \\in {\\mathbb R}^n \\,\\, | \\, a_j < x_j < b_j, \\,\\, j\n",
      "    = 1, 2, \\dots, n \\}.$$\n",
      "\n",
      "Hence define contraction map as a Lipschitz continuous map\n",
      "${\\boldsymbol{g}}({\\boldsymbol{x}})$ such that\n",
      "${\\boldsymbol{g}}(I) \\subseteq I$ and with Lipschitz constant $L < 1$:\n",
      "\n",
      "$$\\| {\\boldsymbol{g}}({\\boldsymbol{x}}) - {\\boldsymbol{g}}({\\boldsymbol{y}}) \\| \\leq L \\| {\\boldsymbol{x}} -\n",
      "    {\\boldsymbol{y}} \\| \\quad \\forall {\\boldsymbol{x}}, {\\boldsymbol{y}} \\in I.$$"
     ]
    },
    {
     "cell_type": "heading",
     "level": 3,
     "metadata": {},
     "source": [
      "Contraction mapping theorems"
     ]
    },
    {
     "cell_type": "markdown",
     "metadata": {},
     "source": [
      "**Theorem**: If ${\\boldsymbol{g}}$ is continuous in $I$ and ${\\boldsymbol{g}}(I)\n",
      "  \\subseteq I$ then ${\\boldsymbol{g}}$ has at least one fixed point in\n",
      "$I$.\n",
      "\n",
      "**Contraction mapping theorem in $\\mathbf{R}^n$**: If ${\\boldsymbol{g}}({\\boldsymbol{x}})$ is a contraction mapping in\n",
      "$I$ then there exists one and only one fixed point in $I$.\n",
      "\n",
      "**Theorem**: If ${\\boldsymbol{g}}({\\boldsymbol{x}})$ is a contraction mapping in\n",
      "$I$ then for arbitrary ${\\boldsymbol{x}}_0 \\in I$ then the sequence\n",
      "$\\{ {\\boldsymbol{x}}_n\n",
      "  \\}$ converges to the unique fixed point with error\n",
      "\n",
      "$$\\| {\\boldsymbol{e}}_n \\|_{\\infty} \\leq \\frac{L^n}{1 - L} \\| {\\boldsymbol{x}}_1 -\n",
      "    {\\boldsymbol{x}}_0 \\|_{\\infty}.$$\n",
      "\n",
      "**Theorem**: If ${\\boldsymbol{g}}({\\boldsymbol{x}})$ is a differentiable\n",
      "contraction map in $I$, i.e.\n",
      "\n",
      "$$\\left| \\frac{\\partial g_i}{\\partial x_j} \\right| \\leq \\frac{L}{n},$$\n",
      "\n",
      "then there exists one and only one fixed point in $I$."
     ]
    },
    {
     "cell_type": "heading",
     "level": 3,
     "metadata": {},
     "source": [
      "Example"
     ]
    },
    {
     "cell_type": "markdown",
     "metadata": {},
     "source": [
      "Look at map\n",
      "\n",
      "$${\\boldsymbol{g}}({\\boldsymbol{x}}) = \\left\\{\n",
      "      \\begin{aligned}\n",
      "        g_1 (x_1, x_2, x_3) & = \\tfrac{1}{3} \\cos( x_2 x_3 ) +\n",
      "        \\tfrac{1}{6} \\\\\n",
      "        g_2 (x_1, x_2, x_3) & = \\tfrac{1}{9} \\sqrt{x_1^2 + \\sin{x_3} +\n",
      "        1.06} - 0.1 \\\\\n",
      "        g_3 (x_1, x_2, x_3) & = -\\tfrac{1}{20} \\exp(-x_1 x_2) - (10\n",
      "        \\pi - 3) / 60\n",
      "      \\end{aligned}\n",
      "    \\right. .$$\n",
      "\n",
      "By computing the Jacobian of the map\n",
      "\n",
      "$$J({\\boldsymbol{x}}) =\n",
      "    \\begin{pmatrix}\n",
      "      0 & -\\tfrac{1}{3} \\sin(x_2 x_3) x_3 &  -\\tfrac{1}{3} \\sin(x_2\n",
      "      x_3) x_2 \\\\\n",
      "      \\tfrac{1}{9} \\frac{x_1}{\\sqrt{x_1^2 + \\sin(x_3) + 1.06}} & 0 &\n",
      "      \\tfrac{1}{18} \\frac{\\cos(x_3)}{\\sqrt{x_1^2 + \\sin(x_3) + 1.06}}\n",
      "      \\\\\n",
      "      \\tfrac{1}{20} x_2 \\exp(-x_1 x_2) & \\tfrac{1}{20} x_1 \\exp(-x_1\n",
      "      x_2) & 0\n",
      "    \\end{pmatrix}$$\n",
      "\n",
      "see that all elements of $J$ are less than $1/3$ in magnitude in\n",
      "$I = [-1,1]^3$. Hence there is a unique fixed point in $I$.\n",
      "\n",
      "Iterate starting from ${\\boldsymbol{x}} = (0.2, 0.3, 0.4)$: appears to\n",
      "converge to a fixed point\n",
      "\n",
      "|  $n$ |    $x_1$   |   $x_2$   |   $x_3$   |\n",
      "|:----:|:----------:|:---------:|:---------:|\n",
      "|    0 |     0.2    |     0.3   |    0.4    |\n",
      "|    1 |  0.4976029 |  0.0356019| -0.5206870|\n",
      "|    2 |  0.4999427 |  0.0000082| -0.5227208|\n",
      "|    3 |  0.5000000 |  0.0000434| -0.5235986|\n",
      "|    4 |  0.5000000 |  0.0000000| -0.5235977|\n",
      "|    5 |  0.5000000 |  0.0000001| -0.5235988|\n",
      "\n",
      "Convergence is linear, as usual. Geometric picture not straightforward."
     ]
    },
    {
     "cell_type": "code",
     "collapsed": false,
     "input": [
      "def fn_iteration(g, x0, n_iterations = 20):\n",
      "    \"\"\"Functional iteration for a system given the map.\"\"\"\n",
      "    iters = np.zeros((n_iterations+1, len(x0)))\n",
      "    iters[0, :] = x0\n",
      "    for n in range(n_iterations):\n",
      "        iters[n+1, :] = g(iters[n, :])\n",
      "        \n",
      "    return iters"
     ],
     "language": "python",
     "metadata": {},
     "outputs": [],
     "prompt_number": 11
    },
    {
     "cell_type": "code",
     "collapsed": false,
     "input": [
      "def g1(x):\n",
      "    g = np.zeros_like(x)\n",
      "    g[0] = 1.0/6.0 + np.cos(x[1]*x[2])/3.0\n",
      "    g[1] = 1.0/9.0*np.sqrt(x[0]**2 + np.sin(x[2]) + 1.06) - 0.1\n",
      "    g[2] = -np.exp(-x[0]*x[1])/20.0 - (10.0 * np.pi - 3.0) / 60.0\n",
      "    return g"
     ],
     "language": "python",
     "metadata": {},
     "outputs": [],
     "prompt_number": 17
    },
    {
     "cell_type": "code",
     "collapsed": false,
     "input": [
      "x0 = np.array([0.2, 0.3, 0.4])\n",
      "result = fn_iteration(g1, x0)\n",
      "\n",
      "for i in range(6):\n",
      "    print(\"Result after {} iterations is {}\".format(i, result[i, :]))"
     ],
     "language": "python",
     "metadata": {},
     "outputs": [
      {
       "output_type": "stream",
       "stream": "stdout",
       "text": [
        "Result after 0 iterations is [ 0.2  0.3  0.4]\n",
        "Result after 1 iterations is [ 0.49760288  0.03560192 -0.520687  ]\n",
        "Result after 2 iterations is [  4.99942729e-01   8.17315463e-06  -5.22720795e-01]\n",
        "Result after 3 iterations is [  5.00000000e-01   4.34028313e-05  -5.23598571e-01]\n",
        "Result after 4 iterations is [  5.00000000e-01   1.09216245e-08  -5.23597691e-01]\n",
        "Result after 5 iterations is [  5.00000000e-01   5.80001612e-08  -5.23598775e-01]\n"
       ]
      }
     ],
     "prompt_number": 20
    },
    {
     "cell_type": "code",
     "collapsed": false,
     "input": [
      "iters = range(len(result))\n",
      "errors = np.linalg.norm(result-result[-1,:],2,axis=1)\n",
      "\n",
      "fig = plt.figure(figsize = (10,6))\n",
      "ax = fig.add_subplot(111)\n",
      "ax.semilogy(iters, errors, 'kx')\n",
      "ax.set_xlabel(\"Iterations\")\n",
      "ax.set_ylabel(r\"$\\|$ Error $\\|$\")\n",
      "ax.set_xbound(0.0,15.0)\n",
      "ax.set_title(\"Convergence of functional iteration for a system\")\n",
      "fig.tight_layout()\n",
      "plt.show()"
     ],
     "language": "python",
     "metadata": {},
     "outputs": [
      {
       "metadata": {},
       "output_type": "display_data",
       "png": "[encoded data removed]",
       "text": [
        "<matplotlib.figure.Figure at 0x3352410>"
       ]
      }
     ],
     "prompt_number": 25
    },
    {
     "cell_type": "heading",
     "level": 3,
     "metadata": {},
     "source": [
      "Geometric picture"
     ]
    },
    {
     "cell_type": "markdown",
     "metadata": {},
     "source": [
      "Trying to find unique point giving the intersection of *each* map with\n",
      "the appropriate axis plane; we move along each in turn."
     ]
    },
    {
     "cell_type": "heading",
     "level": 3,
     "metadata": {},
     "source": [
      "(Non)linear systems analogies"
     ]
    },
    {
     "cell_type": "markdown",
     "metadata": {},
     "source": [
      "Consider e.g.\u00a0Jacobi for $A {\\boldsymbol{x}} = {\\boldsymbol{b}}$:\n",
      "constructs sequence $\\{ {\\boldsymbol{x}}_n\\}$ with correct answer in the\n",
      "limit. Analogous to iterative methods here. Inspires:\n",
      "\n",
      "1.  \u201cGauss-Seidel\u201d: use guess as soon as possible. I.e.,\n",
      "\n",
      "    $$\\begin{aligned}\n",
      "          &&(x_1)_{n+1} & = g_1\\left((x_1)_n, (x_2)_n\\right) \\\\\n",
      "          \\text{then }&& (x_2)_{n+1} &= g_2\\left((x_1)_{n+1}, (x_2)_n\\right).\n",
      "        \\end{aligned}$$\n",
      "\n",
      "2.  \u201cRelaxation\u201d:\n",
      "    $\\hat{{\\boldsymbol{x}}}_{n+1} = {\\boldsymbol{g}}({\\boldsymbol{x}}_n)$,\n",
      "    but *actual* next iterate uses \u201ccorrection\u201d as\n",
      "\n",
      "    $${\\boldsymbol{x}}_{n+1} = \\boldsymbol{x}_n + \\omega (\\hat{\\boldsymbol{x}}_{n+1} - \\boldsymbol{x}_n).$$\n",
      "\n",
      "    Typically take $\\omega < 1$ to promote convergence (*under*\n",
      "    relaxation); can be impractical (slow)."
     ]
    },
    {
     "cell_type": "heading",
     "level": 2,
     "metadata": {},
     "source": [
      "Newton\u2019s method in two dimensions"
     ]
    },
    {
     "cell_type": "heading",
     "level": 3,
     "metadata": {},
     "source": [
      "Newton\u2019s method \u2013 graphical approach"
     ]
    },
    {
     "cell_type": "markdown",
     "metadata": {},
     "source": [
      "\u201cBest\u201d method in scalar case: Newton iteration.\n",
      "\n",
      "Scalar geometric picture: follow tangent from curve to axis.\n",
      "\n",
      "Derive using Taylor expansion:\n",
      "\n",
      "$$\\begin{aligned}\n",
      "        z &= f(x_n) + (x - x_n) f'(x_n) \\\\\n",
      "        z & = 0 \\quad \\implies \\quad x_{n+1} = x_n - \\frac{f(x_n)}{f'(x_n)}.\n",
      "      \\end{aligned}$$\n",
      "\n",
      "System geometric picture: follow tangent *planes*. Apply to each\n",
      "component (map). Find mutual intersections."
     ]
    },
    {
     "cell_type": "heading",
     "level": 3,
     "metadata": {},
     "source": [
      "Newton\u2019s method from Taylor series"
     ]
    },
    {
     "cell_type": "markdown",
     "metadata": {},
     "source": [
      "The planes tangent to the surface are given by the Taylor expansion\n",
      "\n",
      "$$\\begin{aligned}\n",
      "    z_1 = & f_1 (x_n,y_n) + (x - x_n) \\frac{\\partial\n",
      "      f_1}{\\partial x}+ (y - y_n) \\frac{\\partial\n",
      "      f_1}{\\partial y}, \\\\\n",
      "    z_2 = &f_2 (x_n,y_n) + (x - x_n) \\frac{\\partial\n",
      "      f_2}{\\partial x}+ (y - y_n) \\frac{\\partial\n",
      "      f_2}{\\partial y}.\n",
      "  \\end{aligned}$$\n",
      "\n",
      "Set $z_1=0$, $z_2=0$ to find next iterate.\n",
      "\n",
      "$$\\begin{aligned}\n",
      "    \\begin{pmatrix}\n",
      "      \\frac{\\partial f_1}{\\partial x} & \\frac{\\partial f_1}{\\partial y} \\\\ \\frac{\\partial f_2}{\\partial x} & \\frac{\\partial f_2}{\\partial y}\n",
      "    \\end{pmatrix}\n",
      "    \\begin{pmatrix}\n",
      "      x_{n+1} - x_{n} \\\\ y_{n+1} - y_{n}\n",
      "    \\end{pmatrix}\n",
      "    =\n",
      "    \\begin{pmatrix}\n",
      "      -f_1 (x_n,y_n) \\\\ -f_2 (x_n,y_n)\n",
      "    \\end{pmatrix}.\n",
      "  \\end{aligned}$$\n",
      "\n",
      "This can be written as a matrix equation\n",
      "\n",
      "$$J (\\boldsymbol{x}_n) \\cdot ( \\boldsymbol{x}_{n+1} - \\boldsymbol{x}_n ) = -( {\\boldsymbol{f}}(\\boldsymbol{x}_n))$$\n",
      "\n",
      "where $J$ is the *Jacobian* matrix. Therefore the iteration scheme is\n",
      "\n",
      "$$\\boldsymbol{x}_{n+1} = \\boldsymbol{x}_n - J^{-1} {\\boldsymbol{f}}(\\boldsymbol{x}_n).$$"
     ]
    },
    {
     "cell_type": "heading",
     "level": 3,
     "metadata": {},
     "source": [
      "Newton\u2019s method algorithm"
     ]
    },
    {
     "cell_type": "markdown",
     "metadata": {},
     "source": [
      "Final algorithm. Given guess $\\boldsymbol{x}_0 \\implies \\boldsymbol{x}_n$. At step $n+1$:\n",
      "\n",
      "1.  Compute ${\\boldsymbol{f}}(\\boldsymbol{x}_n)$.\n",
      "\n",
      "2.  Compute Jacobian $J (\\boldsymbol{x}_n)$.\n",
      "\n",
      "3.  Solve for \u201ccorrection\u201d ${\\boldsymbol{c}}$ from\n",
      "    $J (\\boldsymbol{x}_n) {\\boldsymbol{c}} = -{\\boldsymbol{f}}(\\boldsymbol{x}_n)$.\n",
      "\n",
      "4.  Compute $\\boldsymbol{x}_{n+1} = \\boldsymbol{x}_n + {\\boldsymbol{c}}$.\n",
      "\n",
      "Never invert Jacobian explicitly.\n",
      "\n",
      "Newton\u2019s method is computationally expensive: generalization of secant\n",
      "method exists."
     ]
    },
    {
     "cell_type": "heading",
     "level": 3,
     "metadata": {},
     "source": [
      " Simple example revisited"
     ]
    },
    {
     "cell_type": "markdown",
     "metadata": {},
     "source": [
      "Consider the system\n",
      "\n",
      "$$\\begin{aligned}\n",
      "        x_1^2 + x_2^2 - 1 & = 0 \\\\\n",
      "        5 x_1^2 + 21 x_2^2 - 9 & = 0.\n",
      "      \\end{aligned}$$\n",
      "\n",
      "Have $\\boldsymbol{x} = (x_1, x_2)^T$, $\\boldsymbol{f} = (f_1,\n",
      "      f_2)^T$\n",
      "\n",
      "$$\\begin{aligned}\n",
      "        f_1(x_1, x_2) & = x_1^2 + x_2^2 - 1, \\\\\n",
      "        f_2(x_1, x_2) & = 5 x_1^2 + 21 x_2^2 - 9.\n",
      "      \\end{aligned}$$\n",
      "\n",
      "*Four* solutions ${\\bf \\xi} = (\\pm \\sqrt{3} /\n",
      "      2, \\pm 1 / 2)^T$. Match the four intersections of the two curves.\n",
      "\n",
      "Newton\u2019s method from $(1, 1)$ works."
     ]
    },
    {
     "cell_type": "code",
     "collapsed": false,
     "input": [
      "def newton_system(f, df, x0, n_iterations = 10):\n",
      "    iters = np.zeros((n_iterations+1, len(x0)))\n",
      "    iters[0, :] = x0\n",
      "    for n in range(n_iterations):\n",
      "        fx = f(iters[n, :])\n",
      "        J = df(iters[n, :])\n",
      "        c = np.linalg.solve(J, -fx)\n",
      "        iters[n+1, :] = iters[n, :] + c\n",
      "    return iters"
     ],
     "language": "python",
     "metadata": {},
     "outputs": [],
     "prompt_number": 29
    },
    {
     "cell_type": "code",
     "collapsed": false,
     "input": [
      "def f(x):\n",
      "    f = np.zeros_like(x)\n",
      "    f[0] = x[0]**2 + x[1]**2 - 1.0\n",
      "    f[1] = 5.0*x[0]**2 + 21.0*x[1]**2 - 9.0\n",
      "    return f\n",
      "def df(x):\n",
      "    df = np.zeros((len(x),len(x)))\n",
      "    df[0,0] = 2.0*x[0]\n",
      "    df[0,1] = 2.0*x[1]\n",
      "    df[1,0] = 10.0*x[0]\n",
      "    df[1,1] = 42.0*x[1]\n",
      "    return df\n",
      "\n",
      "x0 = np.ones((2,))\n",
      "result = newton_system(f, df, x0)\n",
      "\n",
      "for i in range(6):\n",
      "    print(\"Result after {} iterations is {}\".format(i, result[i, :]))"
     ],
     "language": "python",
     "metadata": {},
     "outputs": [
      {
       "output_type": "stream",
       "stream": "stdout",
       "text": [
        "Result after 0 iterations is [ 1.  1.]\n",
        "Result after 1 iterations is [ 0.875  0.625]\n",
        "Result after 2 iterations is [ 0.86607143  0.5125    ]\n",
        "Result after 3 iterations is [ 0.86602541  0.50015244]\n",
        "Result after 4 iterations is [ 0.8660254   0.50000002]\n",
        "Result after 5 iterations is [ 0.8660254  0.5      ]\n"
       ]
      }
     ],
     "prompt_number": 31
    },
    {
     "cell_type": "code",
     "collapsed": false,
     "input": [
      "xi = np.array([np.sqrt(3.0)/2.0,0.5])\n",
      "iters = range(len(result))\n",
      "errors = np.linalg.norm(result-xi,2,axis=1)\n",
      "\n",
      "fig = plt.figure(figsize = (10,6))\n",
      "ax = fig.add_subplot(111)\n",
      "ax.semilogy(iters, errors, 'kx')\n",
      "ax.set_xlabel(\"Iterations\")\n",
      "ax.set_ylabel(r\"$\\|$ Error $\\|$\")\n",
      "ax.set_xbound(0.0,10.0)\n",
      "ax.set_title(\"Convergence of Newton's method for a system\")\n",
      "fig.tight_layout()\n",
      "plt.show()"
     ],
     "language": "python",
     "metadata": {},
     "outputs": [
      {
       "metadata": {},
       "output_type": "display_data",
       "png": "[encoded data removed]",
       "text": [
        "<matplotlib.figure.Figure at 0x38eaed0>"
       ]
      }
     ],
     "prompt_number": 33
    },
    {
     "cell_type": "heading",
     "level": 2,
     "metadata": {},
     "source": [
      "Summary"
     ]
    },
    {
     "cell_type": "markdown",
     "metadata": {},
     "source": [
      "-   The theory of contraction mapping essentially carries over to\n",
      "    systems by replacing scalars with vectors and absolute values with\n",
      "    norms.\n",
      "\n",
      "-   Analogies with solving systems of *linear* equations leads to\n",
      "    \u201cGauss-Seidel\u201d and \u201crelaxation\u201d methods.\n",
      "\n",
      "-   Newton\u2019s method generalizes by considering tangent *(hyper)planes*,\n",
      "    which leads to a method based on the Jacobian matrix."
     ]
    }
   ],
   "metadata": {}
  }
 ]
}