{
 "metadata": {
  "name": "",
  "signature": "sha256:a1173bda06ed60e9e4b8234827fbba74d7b1c9cbbd0887d366d957dc783ec33b"
 },
 "nbformat": 3,
 "nbformat_minor": 0,
 "worksheets": [
  {
   "cells": [
    {
     "cell_type": "heading",
     "level": 1,
     "metadata": {},
     "source": [
      "Functional iteration methods"
     ]
    },
    {
     "cell_type": "code",
     "collapsed": false,
     "input": [
      "%matplotlib inline"
     ],
     "language": "python",
     "metadata": {},
     "outputs": [],
     "prompt_number": 1
    },
    {
     "cell_type": "code",
     "collapsed": false,
     "input": [
      "import numpy as np\n",
      "import matplotlib\n",
      "import matplotlib.pyplot as plt\n",
      "\n",
      "matplotlib.rcParams.update({'font.size': 14})"
     ],
     "language": "python",
     "metadata": {},
     "outputs": [],
     "prompt_number": 22
    },
    {
     "cell_type": "markdown",
     "metadata": {},
     "source": [
      "Want to find root of nonlinear equation\n",
      "\n",
      "$$f(x) = 0. $$\n",
      "\n",
      "Class of *iterative* methods start from guess $x_0$, construct sequence\n",
      "\n",
      "$$x_0, x_1, x_2, \\dots, x_n$$\n",
      "\n",
      "converging to $s$ such that $f(s) = 0$. Write in general form\n",
      "\n",
      "$$x_{n+1} = g(x_n).$$\n",
      "\n",
      "Key requirements for the method are\n",
      "\n",
      "-   The sequence constructed by $g$ converges to a limit ($s$);\n",
      "\n",
      "-   The limit constructed is a root of $f$."
     ]
    },
    {
     "cell_type": "heading",
     "level": 2,
     "metadata": {},
     "source": [
      "Functional iteration methods"
     ]
    },
    {
     "cell_type": "markdown",
     "metadata": {},
     "source": [
      "Simplest methods: if limit of sequence exists, it must be fixed point of\n",
      "$g$: $g(s) = s$.\n",
      "\n",
      "Thus, if $s$ exists, we have that\n",
      "\n",
      "$$s - g(s) = 0.$$\n",
      "\n",
      "But we also want\n",
      "\n",
      "$$f(s) = 0.$$\n",
      "\n",
      "Therefore, *one possible* definition of the iterative map $g$ is\n",
      "\n",
      "$$g(x) = x - f(x).$$\n",
      "\n",
      "*Functional iteration* or *fixed point* methods use maps of this kind."
     ]
    },
    {
     "cell_type": "heading",
     "level": 2,
     "metadata": {},
     "source": [
      "Graphical and geometrical interpretations\n"
     ]
    },
    {
     "cell_type": "markdown",
     "metadata": {},
     "source": [
      "-   Roots of $f$ are equivalent to points where $y = g(x)$ and $y = x$\n",
      "    intersect.\n",
      "\n",
      "-   The iteration process is given by the vertical / horizontal lines:\n",
      "    given $x_n$, the next guess ($x_{n+1}$) is computed using $g$.\n",
      "\n",
      "-   Just because a fixed point exists there is no guarantee that the\n",
      "    iteration process will converge to it!"
     ]
    },
    {
     "cell_type": "heading",
     "level": 3,
     "metadata": {},
     "source": [
      "Geometric interpretations"
     ]
    },
    {
     "cell_type": "markdown",
     "metadata": {},
     "source": [
      "-   If $g$ does not intersect $y=x$, no fixed points (top left).\n",
      "\n",
      "-   If range outside domain, sequence may not have a limit (top\n",
      "    right).\n",
      "\n",
      "-   If slope less than 1, function has a unique fixed point\n",
      "    (bottom right).\n",
      "\n",
      "Not all fixed points *stable* (top right, bottom left):\n",
      "no numerical implementation would converge."
     ]
    },
    {
     "cell_type": "heading",
     "level": 3,
     "metadata": {},
     "source": [
      "Graphical examples"
     ]
    },
    {
     "cell_type": "markdown",
     "metadata": {},
     "source": [
      "Let us try to find the root of\n",
      "\n",
      "$$f(x) = x - \\cos(x)$$\n",
      "\n",
      "in the interval $[0, 1]$. The fixed point map is\n",
      "\n",
      "$$\n",
      "\\begin{aligned}\n",
      "        g(x) & = x - f(x) \\\\\n",
      "        & = \\cos(x),\n",
      "\\end{aligned}\n",
      "$$\n",
      "\n",
      "which obeys\n",
      "\n",
      "1.  $g(I) \\subseteq I$, and\n",
      "\n",
      "2.  $|g'(x)| < 1$ within the interval.\n",
      "\n",
      "The results of the iteration are\n",
      "\n",
      "$$\\begin{aligned}\n",
      "        x_0 & = 0 &\n",
      "        x_1 & = 1 \\\\\n",
      "        x_2 & = 0.540302 &\n",
      "        x_{10} & = 0.731404 \\\\\n",
      "        x_{50} & = 0.739085 &\n",
      "        x_{100} & = 0.739085.\n",
      "\\end{aligned}\n",
      "$$"
     ]
    },
    {
     "cell_type": "code",
     "collapsed": false,
     "input": [
      "def fn_iteration(f, x0, n_iterations = 100):\n",
      "    \"\"\"Functional iteration\"\"\"\n",
      "    def g(x): \n",
      "        return x - f(x)\n",
      "    iters = np.zeros((n_iterations+1,))\n",
      "    iters[0] = x0\n",
      "    for n in range(n_iterations):\n",
      "        iters[n+1] = g(iters[n])\n",
      "    \n",
      "    return iters"
     ],
     "language": "python",
     "metadata": {},
     "outputs": [],
     "prompt_number": 14
    },
    {
     "cell_type": "code",
     "collapsed": false,
     "input": [
      "def f1(x):\n",
      "    return x - np.cos(x)\n",
      "\n",
      "result1 = fn_iteration(f1, 0.0)\n",
      "\n",
      "for i in [0, 1, 2, 10, 50, 100]:\n",
      "    print(\"Result after {} iterations is {:6f}\".format(i, result1[i]))"
     ],
     "language": "python",
     "metadata": {},
     "outputs": [
      {
       "output_type": "stream",
       "stream": "stdout",
       "text": [
        "Result after 0 iterations is 0.000000\n",
        "Result after 1 iterations is 1.000000\n",
        "Result after 2 iterations is 0.540302\n",
        "Result after 10 iterations is 0.731404\n",
        "Result after 50 iterations is 0.739085\n",
        "Result after 100 iterations is 0.739085\n"
       ]
      }
     ],
     "prompt_number": 37
    },
    {
     "cell_type": "code",
     "collapsed": false,
     "input": [
      "x = np.linspace(-0.1, 1.1)\n",
      "g1x = x - f1(x)\n",
      "plot_results = np.empty((2*result1.size,))\n",
      "plot_results[0::2] = result1\n",
      "plot_results[1::2] = result1 - f1(result1)\n",
      "\n",
      "fig = plt.figure(figsize = (10,6))\n",
      "ax = fig.add_subplot(111)\n",
      "ax.plot(x, x, 'k-', linewidth = 2)\n",
      "ax.plot(x, g1x, 'r-', linewidth = 2)\n",
      "ax.plot(np.repeat(result1,2), plot_results, 'b--')\n",
      "ax.set_xlabel('x')\n",
      "ax.set_xbound(-0.05, 1.05)\n",
      "ax.set_ybound(-0.05, 1.05)\n",
      "fig.tight_layout()\n",
      "plt.show()"
     ],
     "language": "python",
     "metadata": {},
     "outputs": [
      {
       "metadata": {},
       "output_type": "display_data",
       "png": "[encoded data removed]",
       "text": [
        "<matplotlib.figure.Figure at 0x36a0250>"
       ]
      }
     ],
     "prompt_number": 46
    },
    {
     "cell_type": "heading",
     "level": 2,
     "metadata": {},
     "source": [
      "Graphical examples"
     ]
    },
    {
     "cell_type": "markdown",
     "metadata": {},
     "source": [
      "Let us try to find the root of\n",
      "\n",
      "$$f(x) = x^3 - 13 x + 18$$\n",
      "\n",
      "in the interval $[1, 2.05]$. A map that works is\n",
      "\n",
      "$$g(x)  = \\frac{x^3 + 18}{13}$$\n",
      "\n",
      "which equals $x$ at roots of $f$ (check!) and obeys\n",
      "\n",
      "1.  $g(I) \\subseteq I$, and\n",
      "\n",
      "2.  $|g'(x)| < 1$ within the interval.\n",
      "\n",
      "The results of the iteration are\n",
      "\n",
      "$$\\begin{aligned}\n",
      "        x_0 & = 1 &\n",
      "        x_1 & = 1.461538 \\\\\n",
      "        x_2 & = 1.624768 &\n",
      "        x_{10} & = 1.911737 \\\\\n",
      "        x_{50} & = 1.997695 &\n",
      "        x_{100} & = 1.999958.\n",
      "      \\end{aligned}$$"
     ]
    },
    {
     "cell_type": "code",
     "collapsed": false,
     "input": [
      "def f2(x):\n",
      "    return -(x**3 - 13.0*x + 18.0) / 13.0\n",
      "\n",
      "result2 = fn_iteration(f2, 1.0)\n",
      "\n",
      "for i in [0, 1, 2, 10, 50, 100]:\n",
      "    print(\"Result after {} iterations is {:6f}\".format(i, result2[i]))"
     ],
     "language": "python",
     "metadata": {},
     "outputs": [
      {
       "output_type": "stream",
       "stream": "stdout",
       "text": [
        "Result after 0 iterations is 1.000000\n",
        "Result after 1 iterations is 1.461538\n",
        "Result after 2 iterations is 1.624768\n",
        "Result after 10 iterations is 1.911737\n",
        "Result after 50 iterations is 1.997695\n",
        "Result after 100 iterations is 1.999958\n"
       ]
      }
     ],
     "prompt_number": 41
    },
    {
     "cell_type": "code",
     "collapsed": false,
     "input": [
      "x = np.linspace(0.9, 2.1)\n",
      "g2x = x - f2(x)\n",
      "plot_results = np.empty((2*result2.size,))\n",
      "plot_results[0::2] = result2\n",
      "plot_results[1::2] = result2 - f2(result2)\n",
      "\n",
      "fig = plt.figure(figsize = (10,6))\n",
      "ax = fig.add_subplot(111)\n",
      "ax.plot(x, x, 'k-', linewidth = 2)\n",
      "ax.plot(x, g2x, 'r-', linewidth = 2)\n",
      "ax.plot(np.repeat(result2,2), plot_results, 'b--')\n",
      "ax.set_xlabel('x')\n",
      "ax.set_xbound(0.95, 2.1)\n",
      "ax.set_ybound(0.95, 2.1)\n",
      "fig.tight_layout()\n",
      "plt.show()"
     ],
     "language": "python",
     "metadata": {},
     "outputs": [
      {
       "metadata": {},
       "output_type": "display_data",
       "png": "[encoded data removed]",
       "text": [
        "<matplotlib.figure.Figure at 0x3024290>"
       ]
      }
     ],
     "prompt_number": 44
    },
    {
     "cell_type": "heading",
     "level": 2,
     "metadata": {},
     "source": [
      "Contraction maps and theoretical results"
     ]
    },
    {
     "cell_type": "heading",
     "level": 3,
     "metadata": {},
     "source": [
      "From intuition to theory"
     ]
    },
    {
     "cell_type": "markdown",
     "metadata": {},
     "source": [
      "Geometric intuition gives: a continuous iterative map, with the range\n",
      "within the domain, and slope less than 1, will have a unique fixed\n",
      "point. To prove this need:\n",
      "\n",
      "**Definition**: A *contracting map* is a continuous map\n",
      "$g(x) : [a, b] = I \\subseteq \\mathbb{R} \\rightarrow \\mathbb{R}$ if\n",
      "\n",
      "1.  $g(I) \\subseteq I \\Leftrightarrow g(x) \\in I \\, \\, \\, \\forall\n",
      "        x \\in I$;\n",
      "\n",
      "2.  $g(x)$ is *Lipschitz* continuous with constant $L < 1$:\n",
      "\n",
      "    $$| g(x) - g(y) | \\leq L | x - y | \\, \\, \\, \\forall x, y \\in I.$$\n",
      "\n",
      "It is key that\n",
      "\n",
      "$$\\left| \\frac{ \\textrm{d} g}{\\textrm{d} x} \\right| \\leq L.$$"
     ]
    },
    {
     "cell_type": "heading",
     "level": 3,
     "metadata": {},
     "source": [
      "Existence"
     ]
    },
    {
     "cell_type": "markdown",
     "metadata": {},
     "source": [
      "First theorem shows that a fixed point of a contracting map exists:\n",
      "\n",
      "**Theorem 1**: If the function $g(x)$ is continuous in $I = [a,\n",
      "  b]$ and $g(I) \\subseteq I$, then $g(x)$ has at least one fixed point\n",
      "in $I$.\n",
      "\n",
      "Theorem is stronger than we need; no need of Lipschitz continuity.\n",
      "\n",
      "Proof: look for fixed points of $g$ in exactly the way that we look for\n",
      "roots of $f$. Construct function $F(x) =  g(x) - x$, changes sign within $I$, and use continuity. Intermediate\n",
      "value theorem shows there is a point $s$ where $F$ vanishes, implying\n",
      "$g(s) = s$ and a fixed point."
     ]
    },
    {
     "cell_type": "heading",
     "level": 3,
     "metadata": {},
     "source": [
      "Uniqueness"
     ]
    },
    {
     "cell_type": "markdown",
     "metadata": {},
     "source": [
      "**Contraction mapping theorem**: If $g(x)$ is a contraction mapping in $I$ then there exists one and\n",
      "only one fixed point in $I$.\n",
      "\n",
      "The notes contain a proof of a weaker version of this theorem that\n",
      "requires differentiability. If $g$ is differentiable then the Mean Value\n",
      "theorem can be used."
     ]
    },
    {
     "cell_type": "heading",
     "level": 3,
     "metadata": {},
     "source": [
      "Speed of convergence"
     ]
    },
    {
     "cell_type": "markdown",
     "metadata": {},
     "source": [
      "A fixed point may exist, but how fast will the iterative method find it?\n",
      "\n",
      "**Theorem**: If $g(x)$ is a contracting map in $I$ then, for arbitrary $x_0 \\in I$\n",
      "the sequence $x_{n+1} = g(x_n)$ converges to the unique fixed point $s$\n",
      "and the error $e_n = x_n - s$ obeys\n",
      "\n",
      "$$|e_n| \\leq \\frac{L^n}{1 - L} |x_1 - x_0|.$$\n",
      "\n",
      "Proof: bound error in terms of previous error, then bound initial error\n",
      "by first step. Bound on error and $L < 1$ gives convergence.\n",
      "\n",
      "Theorem shows convergence depends strongly on $L$, hence magnitude of\n",
      "derivative. Smaller derivative gives faster convergence."
     ]
    },
    {
     "cell_type": "heading",
     "level": 3,
     "metadata": {},
     "source": [
      "Examples revisited"
     ]
    },
    {
     "cell_type": "markdown",
     "metadata": {},
     "source": [
      "We looked at\n",
      "\n",
      "$$g(x) = \\cos(x)$$\n",
      "\n",
      "in the interval $[0, 1]$. It is a contracting map, but\n",
      "\n",
      "$$\\begin{aligned}\n",
      "            \\max_{x \\in I} |g'(x)| & = \\sin(1) \\\\\n",
      "            & = 0.84147.\n",
      "          \\end{aligned}$$\n",
      "\n",
      "We should not expect fast convergence.\n",
      "\n",
      "The results of the iteration are\n",
      "\n",
      "$$\\begin{aligned}\n",
      "            x_0 & = 0 &\n",
      "            x_1 & = 1 \\\\\n",
      "            x_2 & = 0.540302 &\n",
      "            x_{10} & = 0.731404 \\\\\n",
      "            x_{50} & = 0.739085 &\n",
      "            x_{100} & = 0.739085.\n",
      "          \\end{aligned}$$"
     ]
    },
    {
     "cell_type": "markdown",
     "metadata": {},
     "source": [
      "We looked at\n",
      "\n",
      "$$g(x)  = \\frac{x^3 + 18}{13}$$\n",
      "\n",
      "in the interval $[1, 2.05]$. The map is monotonic and the largest value\n",
      "of the derivative is\n",
      "\n",
      "$$|g'(2.05)| = 0.97!$$\n",
      "\n",
      "We therefore expect very slow convergence.\n",
      "\n",
      "The results of the iteration are\n",
      "\n",
      "$$\\begin{aligned}\n",
      "        x_0 & = 1 &\n",
      "        x_1 & = 1.461538 \\\\\n",
      "        x_2 & = 1.624768 &\n",
      "        x_{10} & = 1.911737 \\\\\n",
      "        x_{50} & = 1.997695 &\n",
      "        x_{100} & = 1.999958.\n",
      "      \\end{aligned}$$"
     ]
    },
    {
     "cell_type": "heading",
     "level": 2,
     "metadata": {},
     "source": [
      "Summary"
     ]
    },
    {
     "cell_type": "markdown",
     "metadata": {},
     "source": [
      "\n",
      "-   Fixed point or functional iteration methods for finding the root of\n",
      "    $f(x)$ look for fixed points of\n",
      "\n",
      "    $$g(x) = x - f(x).$$\n",
      "\n",
      "-   Typically, the faster the scheme converges the closer the initial\n",
      "    guess needs to be.\n",
      "\n",
      "-   Existence and uniqueness of the root found can be proved if $g$ is a\n",
      "    contraction mapping for which\n",
      "\n",
      "    1.  $g(I) \\subseteq I$\n",
      "\n",
      "    2.  $g$ is Lipschitz continuous with $L < 1$.\n",
      "\n",
      "-   The speed of convergence is related to $L$ - the smaller $L$, the\n",
      "    faster the convergence.\n",
      "\n",
      "-   **All the results refer to the map $g$, not the original function\n",
      "    $f$. $g$ can be chosen freely, provided the fixed point is a root of\n",
      "    $f$!**\n"
     ]
    }
   ],
   "metadata": {}
  }
 ]
}