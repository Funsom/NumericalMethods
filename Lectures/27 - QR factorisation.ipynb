{
 "metadata": {
  "name": "",
  "signature": "sha256:15ec2bddae3b096ac29902b3bf36f3446717c7c8b03ffee229bf9f08769450fa"
 },
 "nbformat": 3,
 "nbformat_minor": 0,
 "worksheets": [
  {
   "cells": [
    {
     "cell_type": "heading",
     "level": 1,
     "metadata": {},
     "source": [
      "$QR$ factorisation"
     ]
    },
    {
     "cell_type": "code",
     "collapsed": false,
     "input": [
      "%matplotlib inline"
     ],
     "language": "python",
     "metadata": {},
     "outputs": [],
     "prompt_number": 1
    },
    {
     "cell_type": "code",
     "collapsed": false,
     "input": [
      "import numpy as np\n",
      "import matplotlib\n",
      "import matplotlib.pyplot as plt\n",
      "\n",
      "matplotlib.rcParams.update({'font.size': 14})"
     ],
     "language": "python",
     "metadata": {},
     "outputs": [],
     "prompt_number": 2
    },
    {
     "cell_type": "heading",
     "level": 2,
     "metadata": {},
     "source": [
      "The full spectrum of a matrix"
     ]
    },
    {
     "cell_type": "markdown",
     "metadata": {},
     "source": [
      "Our aim is to compute the full spectrum of the square $n \\times n$\n",
      "matrix $A$; that is, we want to find all its eigenvalues.\n",
      "\n",
      "Method: transform to a simpler problem that is straightforwardly solved.\n",
      "E.g.\u00a0transform $A$ to $B$ with same spectrum, but $B$ triangular:\n",
      "eigenvalues of a triangular matrix are the diagonal coefficients.\n",
      "\n",
      "Schur\u2019s theorem shows that every matrix $A$ has a *similar* triangular\n",
      "matrix $B$, but is not useful for finding the matrix in practice.\n",
      "\n",
      "The proof of Schur\u2019s theorem made repeated use of *Householder\n",
      "reflections*; these are generally useful as we shall see later."
     ]
    },
    {
     "cell_type": "heading",
     "level": 2,
     "metadata": {},
     "source": [
      "$QR$ factorisation"
     ]
    },
    {
     "cell_type": "markdown",
     "metadata": {},
     "source": [
      "Another decomposition method for a general (not necessarily square)\n",
      "matrix: *orthogonal factorisation*. $A$ written as product of matrices,\n",
      "some of which are orthogonal (i.e.\u00a0real \u2013 $Q^{\\dagger} =\n",
      "  Q^T$ \u2013 and unitary, $Q^{-1} = Q^{\\dagger} = Q^T$).\n",
      "\n",
      "Simplest example: *Householder\u2019s* $QR$-factorisation\n",
      "\n",
      "$$A = Q R,$$\n",
      "\n",
      "with $Q$ unitary, $R$ upper triangular. $A$ and $R$ may be $m\n",
      "  \\times n$ matrices, but $Q$ is always square ($m \\times m$).\n",
      "\n",
      "If $A = QR$ with $Q$ unitary then\n",
      "\n",
      "$$B = R Q = \\left( Q^{\\dagger} Q \\right) R Q = Q^{\\dagger} A Q$$\n",
      "\n",
      "which is similar to $A$."
     ]
    },
    {
     "cell_type": "heading",
     "level": 2,
     "metadata": {},
     "source": [
      "Householder\u2019s factorisation"
     ]
    },
    {
     "cell_type": "markdown",
     "metadata": {},
     "source": [
      "Need factorisation $A = QR$; or construct unitary $Q$ such that\n",
      "\n",
      "$$Q^{\\dagger} A = R$$\n",
      "\n",
      "where $R$ is upper triangular.\n",
      "\n",
      "Done by iterative process using *Householder transformations*\n",
      "\n",
      "$$U_k =\n",
      "    \\begin{pmatrix}\n",
      "      \\text{Id}_{k-1} & 0 \\\\\n",
      "      0 & \\text{Id}_{m-k+1} - {\\boldsymbol{u}}_k {\\boldsymbol{u}}_k^{\\dagger}\n",
      "    \\end{pmatrix}.$$\n",
      "\n",
      "Simple generalization of Householder reflections; when $k=1$ it *is* a\n",
      "Householder reflection."
     ]
    },
    {
     "cell_type": "heading",
     "level": 3,
     "metadata": {},
     "source": [
      " The iterative process"
     ]
    },
    {
     "cell_type": "markdown",
     "metadata": {},
     "source": [
      "To convert original $A$ into upper triangular matrix $R$, at each stage\n",
      "construct matrix rotating $k^{\\text{th}}$ column of $A$,\n",
      "${\\boldsymbol{a}}_k$, into $\\hat{{\\boldsymbol{e}}}_k$ that is zero in\n",
      "all entries $>k$. So\n",
      "\n",
      "$$\\begin{aligned}\n",
      "    {\\boldsymbol{e}}_1 = \\mu_{1,1} \\hat{{\\boldsymbol{e}}_1} & = (\\mu_{1,1}, 0, \\dots, 0)^T.  \n",
      "   \\end{aligned}$$\n",
      "\n",
      "At first stage need a Householder reflection to take\n",
      "${\\boldsymbol{a}}_1$ to (a multiple of) ${\\boldsymbol{e}}_1$. The later\n",
      "stages do not care what happens to entries \u201cabove\u201d the diagonal. So they\n",
      "can be multiplied by the identity matrix. Thus at each stage a suitable\n",
      "Householder transformation\n",
      "\n",
      "$$U_k =\n",
      "    \\begin{pmatrix}\n",
      "      \\text{Id}_{k-1} & 0 \\\\\n",
      "      0 & \\text{Id}_{m-k+1} - {\\boldsymbol{u}}_k {\\boldsymbol{u}}_k^{\\dagger}\n",
      "    \\end{pmatrix}$$\n",
      "\n",
      "takes column ${\\boldsymbol{a}}_k$ to \u201cupper triangular\u201d column $k$ of\n",
      "the new matrix, without altering columns ${\\boldsymbol{a}}_l, \\,\\, l<k$."
     ]
    },
    {
     "cell_type": "heading",
     "level": 3,
     "metadata": {},
     "source": [
      " The rotation"
     ]
    },
    {
     "cell_type": "markdown",
     "metadata": {},
     "source": [
      "At each stage rotate (part of) column ${\\boldsymbol{a}}_k$ into \u201clower\n",
      "triangular\u201d column $\\hat{{\\boldsymbol{e}}}_k$. This gives the vector\n",
      "${\\boldsymbol{u}}$ for the Householder reflection\n",
      "\n",
      "$${\\boldsymbol{u}}_k = \\frac{\\sqrt{2}}{\\| {\\boldsymbol{a}}_k - \\beta_k \\hat{{\\boldsymbol{e}}}_k \\|}\n",
      "    ( {\\boldsymbol{a}}_k - \\beta_k \\hat{{\\boldsymbol{e}}}_k ),$$\n",
      "\n",
      "where $\\beta_k$ is such that\n",
      "$\\|{\\boldsymbol{a}}_k\\| = \\beta_k \\|\\hat{{\\boldsymbol{e}}}_k\\|$, so the\n",
      "reflection is a unitary matrix.\n",
      "\n",
      "$$\\begin{aligned}\n",
      "      U_1A & \\,=     \n",
      "      \\left(\\text{Id}_{m} - {\\boldsymbol{u}}_1 {\\boldsymbol{u}}_1^{\\dagger}\\right) A\n",
      "      \\\\\n",
      "      &\\, = \\left(\\begin{array}{c|c}\n",
      "        \\beta_1 & *\\\\\n",
      "    \\hline\n",
      "    \\boldsymbol{0} & W_{m-1}\n",
      "      \\end{array}\\right).\n",
      "    \\end{aligned}$$\n",
      "\n",
      "$$\\begin{aligned}\n",
      "      U_2U_1A & \\,=     \n",
      "      \\Bigg(\\begin{array}{c c}\n",
      "    \\text{Id}_{1} & 0 \\\\\n",
      "    0 & \\text{Id}_{m-1} - {\\boldsymbol{u}}_2 {\\boldsymbol{u}}_2^{\\dagger}\n",
      "      \\end{array}\\Bigg)\n",
      "      \\left(\\begin{array}{c|c}\n",
      "        \\beta_1 & *\\\\\n",
      "    \\hline\n",
      "    \\boldsymbol{0} & W_{m-1}\n",
      "      \\end{array}\\right)\\\\\n",
      "      &\\, = \\left(\\begin{array}{c c|c}\n",
      "        \\beta_1 & * & *\\\\\n",
      "    0 & \\beta_2 & *\\\\\n",
      "    \\hline\n",
      "    \\boldsymbol{0} & \\boldsymbol{0} & W_{m-2}\n",
      "      \\end{array}\\right).\n",
      "    \\end{aligned}$$\n",
      "\n",
      "\n",
      "$$\\begin{aligned}\n",
      "      U_3U_2U_1A &\\, \n",
      "      = \\left(\\begin{array}{c c c|c}\n",
      "        \\beta_1 & * & *& *\\\\\n",
      "        0 & \\beta_2 & * & *\\\\\n",
      "        0 & 0 & \\beta_3 & * \\\\\n",
      "    \\hline\n",
      "    \\boldsymbol{0} & \\boldsymbol{0} & \\boldsymbol{0} & W_{m-3}\n",
      "      \\end{array}\\right).\n",
      "    \\end{aligned}$$\n",
      "\n",
      "\n",
      "$$\\begin{aligned}\n",
      "      U_4U_3U_2U_1A &\\, \n",
      "      = \\left(\\begin{array}{c c c c|c}\n",
      "        \\beta_1 & * & *& *& *\\\\\n",
      "        0 & \\beta_2 & * & *& *\\\\\n",
      "        0 & 0 & \\beta_3 & *& * \\\\\n",
      "        0 & 0 & 0 & \\beta_4 & * \\\\\n",
      "    \\hline\n",
      "    \\boldsymbol{0} & \\boldsymbol{0} & \\boldsymbol{0} & \\boldsymbol{0} & W_{m-4}\n",
      "      \\end{array}\\right).\n",
      "    \\end{aligned}$$"
     ]
    },
    {
     "cell_type": "heading",
     "level": 3,
     "metadata": {},
     "source": [
      " Consequences"
     ]
    },
    {
     "cell_type": "markdown",
     "metadata": {},
     "source": [
      "The result of applying $k$ Householder transforms is\n",
      "\n",
      "$$U_k U_{k-1} \\dots U_2 U_1 A = \\left(\n",
      "      \\begin{array}{c|c}\n",
      "        J & H \\\\ \\hline 0 & W\n",
      "      \\end{array}\\right)$$\n",
      "\n",
      "where $J$ is upper triangular. After $n-1$ transforms we have the upper\n",
      "triangular matrix $R$ required.\n",
      "\n",
      "As each $U_i$ is unitary, the product\n",
      "\n",
      "$$Q^{\\dagger} = U_{n-1} U_{n-2} \\dots U_2 U_1$$\n",
      "\n",
      "is unitary, and hence\n",
      "\n",
      "$$Q = U_1 U_2 \\dots U_{n-2} U_{n-1}.$$"
     ]
    },
    {
     "cell_type": "heading",
     "level": 2,
     "metadata": {},
     "source": [
      "The $QR$ algorithm of Francis"
     ]
    },
    {
     "cell_type": "markdown",
     "metadata": {},
     "source": [
      "$QR$ algorithm: iterative process that, in the limit, gives upper\n",
      "triangular $A_{\\infty}$ similar to $A$. Two steps at each iteration:\n",
      "\n",
      "1.  Factorize $A_k$ using Householder\u2019s algorithm to get\n",
      "\n",
      "    $$A_k = Q_k R_k.$$\n",
      "\n",
      "2.  Compute the next guess $A_{k+1}$ using\n",
      "\n",
      "    $$A_{k+1} = R_k Q_k.$$\n",
      "\n",
      "From the definition\n",
      "\n",
      "$$A_{k+1}  = R_k Q_k = Q_k^{\\dagger} Q_k R_k Q_k = Q_k^{\\dagger} A_k Q_k$$\n",
      "\n",
      "so that all members of the sequence are similar.\n",
      "\n",
      "Start sequence with $A_1 = A$; iterate sequence to produce a triangular\n",
      "matrix. If $A_k$ upper triangular then $Q_k = I$: sequence has converged\n",
      "\n",
      "$$\\begin{aligned}\n",
      "    A_{k+1} & = A_k .\n",
      "  \\end{aligned}$$"
     ]
    },
    {
     "cell_type": "heading",
     "level": 3,
     "metadata": {},
     "source": [
      "Example"
     ]
    },
    {
     "cell_type": "markdown",
     "metadata": {},
     "source": [
      "We apply the $QR$ algorithm to\n",
      "\n",
      "$$A =\n",
      "    \\begin{pmatrix}\n",
      "      1 & 2 & 3 \\\\\n",
      "      4 & 5 & 6 \\\\\n",
      "      7 & 8 & 0\n",
      "    \\end{pmatrix}.$$\n",
      "\n",
      "Start from $A_1 = A$, and at each stage we compute the\n",
      "$QR$-factorisation, setting $A_{k+1}  = R_k Q_k$. We find\n",
      "\n",
      "$$A =\n",
      "        \\begin{pmatrix}\n",
      "          1 & 2 & 3 \\\\\n",
      "          4 & 5 & 6 \\\\\n",
      "          7 & 8 & 0\n",
      "        \\end{pmatrix} \\rightarrow \n",
      "        A_2 = \n",
      "        \\begin{pmatrix}\n",
      "          8.5909 &  -9.2413  &  3.1659\\\\\n",
      "          -4.3423 &  -1.0909 &   1.1078\\\\\n",
      "          3.1659  &  1.1078 &  -1.5000\n",
      "        \\end{pmatrix}$$\n",
      "\n",
      "$$A =\n",
      "        \\begin{pmatrix}\n",
      "          1 & 2 & 3 \\\\\n",
      "          4 & 5 & 6 \\\\\n",
      "          7 & 8 & 0\n",
      "        \\end{pmatrix} \\rightarrow \n",
      "        A_3 = \n",
      "        \\begin{pmatrix}\n",
      "          12.1434 &  -0.1941 &   2.7400 \\\\\n",
      "          3.6616 &  -5.8055 &   1.3022 \\\\\n",
      "          0.1341 &  -0.2284 &  -0.3379\n",
      "        \\end{pmatrix}$$\n",
      "\n",
      "$$A =\n",
      "        \\begin{pmatrix}\n",
      "          1 & 2 & 3 \\\\\n",
      "          4 & 5 & 6 \\\\\n",
      "          7 & 8 & 0\n",
      "        \\end{pmatrix} \\rightarrow \n",
      "        A_4 = \n",
      "        \\begin{pmatrix}\n",
      "          11.6370 &  -5.3339 &  -3.0770\\\\\n",
      "          -1.5849 &  -5.2507 &  -0.6576\\\\\n",
      "          0.0041  &  0.0146  & -0.3863\n",
      "        \\end{pmatrix}$$\n",
      "\n",
      "$$A =\n",
      "        \\begin{pmatrix}\n",
      "          1 & 2 & 3 \\\\\n",
      "          4 & 5 & 6 \\\\\n",
      "          7 & 8 & 0\n",
      "        \\end{pmatrix} \\rightarrow \n",
      "        A_5 = \n",
      "        \\begin{pmatrix}\n",
      "          12.2535 &  -2.9417 &   2.9725\\\\\n",
      "          0.7988  & -5.8653  &  1.0822\\\\\n",
      "          0.0001  & -0.0011  & -0.3882\n",
      "        \\end{pmatrix}$$\n",
      "\n",
      "$$A =\n",
      "        \\begin{pmatrix}\n",
      "          1 & 2 & 3 \\\\\n",
      "          4 & 5 & 6 \\\\\n",
      "          7 & 8 & 0\n",
      "        \\end{pmatrix} \\rightarrow \n",
      "        A_6 = \n",
      "        \\begin{pmatrix}\n",
      "          12.0378 &  -4.1083 &  -3.0373\\\\\n",
      "          -0.3683 &  -5.6494 &  -0.8874\\\\\n",
      "          0.0000  &  0.0001  & -0.3884\n",
      "        \\end{pmatrix}$$\n",
      "\n",
      "$$A =\n",
      "        \\begin{pmatrix}\n",
      "          1 & 2 & 3 \\\\\n",
      "          4 & 5 & 6 \\\\\n",
      "          7 & 8 & 0\n",
      "        \\end{pmatrix} \\rightarrow \n",
      "        A_7 = \n",
      "        \\begin{pmatrix}\n",
      "          12.1581 &  -3.5634 &   3.0087 \\\\\n",
      "          0.1765  & -5.7697  &  0.9800 \\\\\n",
      "          0.0000  & -0.0000  & -0.3884\n",
      "        \\end{pmatrix}$$\n",
      "\n",
      "The matrix\n",
      "\n",
      "$$A =\n",
      "        \\begin{pmatrix}\n",
      "          1 & 2 & 3 \\\\\n",
      "          4 & 5 & 6 \\\\\n",
      "          7 & 8 & 0\n",
      "        \\end{pmatrix}$$\n",
      "\n",
      "has eigenvalues\n",
      "\n",
      "$$\\left\\{\n",
      "          \\begin{array}{c}\n",
      "            12.1229\\\\ -5.7345\\\\ -0.3884\n",
      "          \\end{array}\\right. .$$\n",
      "\n",
      "The $QR$ algorithm of Francis converges to all eigenvalues linearly."
     ]
    },
    {
     "cell_type": "code",
     "collapsed": false,
     "input": [
      "def qr_francis(A, niterations_max=100, tol=1e-15):\n",
      "    B = np.copy(A)\n",
      "    evals_approx = np.zeros((len(A),niterations_max))\n",
      "    evals_approx[:,0] = np.diag(A)\n",
      "    err = 1.0\n",
      "    n = 0\n",
      "    while err > tol and n < niterations_max:\n",
      "        Q, R = np.linalg.qr(B)\n",
      "        B = np.dot(R, Q)\n",
      "        err = np.linalg.norm(np.tril(B, -1))\n",
      "        n += 1\n",
      "        evals_approx[:,n]=np.diag(B)\n",
      "    return np.diag(B), evals_approx"
     ],
     "language": "python",
     "metadata": {},
     "outputs": [],
     "prompt_number": 15
    },
    {
     "cell_type": "code",
     "collapsed": false,
     "input": [
      "A = np.array([[1.0,2.0,3.0],[4.0,5.0,6.0],[7.0,8.0,0.0]])\n",
      "lamda, v = np.linalg.eig(A)\n",
      "lamda_qr, lamda_seq = qr_francis(A)\n",
      "print(\"QR gives eigenvalues of {}. Exact are {}.\".format(lamda_qr, lamda))"
     ],
     "language": "python",
     "metadata": {},
     "outputs": [
      {
       "output_type": "stream",
       "stream": "stdout",
       "text": [
        "QR gives eigenvalues of [ 12.12289378  -5.73450994  -0.38838384]. Exact are [ 12.12289378  -0.38838384  -5.73450994].\n"
       ]
      }
     ],
     "prompt_number": 17
    },
    {
     "cell_type": "code",
     "collapsed": false,
     "input": [
      "errors = np.zeros_like(lamda_seq)\n",
      "errors[0,:] = np.abs(lamda_seq[0,:]-lamda[0])\n",
      "errors[1,:] = np.abs(lamda_seq[1,:]-lamda[2])\n",
      "errors[2,:] = np.abs(lamda_seq[2,:]-lamda[1])\n",
      "iterations = range(errors.shape[1])\n",
      "\n",
      "fig = plt.figure(figsize=(10,6))\n",
      "ax = fig.add_subplot(111)\n",
      "ax.semilogy(iterations, errors[0,:], 'kx')\n",
      "ax.semilogy(iterations, errors[1,:], 'r+')\n",
      "ax.semilogy(iterations, errors[2,:], 'bo')\n",
      "ax.set_xlabel('Iteration')\n",
      "ax.set_ylabel(r\"$\\|$ Error $\\|$\")\n",
      "ax.set_title(r\"Convergence of the QR algorithm, $n=3$\")\n",
      "fig.tight_layout()\n",
      "plt.show()"
     ],
     "language": "python",
     "metadata": {},
     "outputs": [
      {
       "metadata": {},
       "output_type": "display_data",
       "png": "[encoded data removed]",
       "text": [
        "<matplotlib.figure.Figure at 0x28e3ad0>"
       ]
      }
     ],
     "prompt_number": 24
    },
    {
     "cell_type": "code",
     "collapsed": false,
     "input": [
      "errors.shape[1]"
     ],
     "language": "python",
     "metadata": {},
     "outputs": [
      {
       "metadata": {},
       "output_type": "pyout",
       "prompt_number": 23,
       "text": [
        "100"
       ]
      }
     ],
     "prompt_number": 23
    },
    {
     "cell_type": "heading",
     "level": 2,
     "metadata": {},
     "source": [
      "$QR$ convergence"
     ]
    },
    {
     "cell_type": "heading",
     "level": 3,
     "metadata": {},
     "source": [
      " Comparison with power method"
     ]
    },
    {
     "cell_type": "markdown",
     "metadata": {},
     "source": [
      "Proving that QR algorithm converges not easy. Get some insight from\n",
      "comparison with power method.\n",
      "\n",
      "Power method: repeated matrix multiplication to find the eigenvector of\n",
      "largest eigenvalue.\n",
      "\n",
      "$$A^k\\boldsymbol{x} = \\boldsymbol{x}^{(k)} = \\lambda_1^k\\left[ a_1\\boldsymbol{u}_1 + \n",
      "      \\sum_{j=2}^{N}\\left(\\frac{\\lambda_j}{\\lambda_1}\\right)^ka_j\\boldsymbol{u}_j   \\right].$$\n",
      "\n",
      "Obvious extension: apply to multiple vectors at the same time.\n",
      "\n",
      "Problem: method will converge to multiple copies of the same\n",
      "eigenvector."
     ]
    },
    {
     "cell_type": "heading",
     "level": 3,
     "metadata": {},
     "source": [
      " Comparison with power method"
     ]
    },
    {
     "cell_type": "markdown",
     "metadata": {},
     "source": [
      "Overcome problem by *orthonormalising* the vectors at each stage.\n",
      "\n",
      "$QR$ algorithm does this by expressing the \u201cguess\u201d as an orthonormal\n",
      "matrix $Q$ at each stage.\n",
      "\n",
      "Method works by removing the dominant eigenvector from the basis.\n",
      "Remaining \u201cguesses\u201d converge to the eigenvector of dominant eigenvalue\n",
      "within the resulting subspace."
     ]
    },
    {
     "cell_type": "heading",
     "level": 2,
     "metadata": {},
     "source": [
      "Summary"
     ]
    },
    {
     "cell_type": "markdown",
     "metadata": {},
     "source": [
      "\n",
      "-   To compute all eigenvalues we use the $QR$ algorithm of Francis.\n",
      "\n",
      "-   This algorithm is iterative and converges linearly.\n",
      "\n",
      "-   It relies on Householder transformations, a generalization of\n",
      "    Householder reflections.\n",
      "\n",
      "-   Each step in the sequence relies on the $QR$ factorisation of the\n",
      "    matrix. As $Q$ is unitary, each member of the sequence is similar\n",
      "    and so the spectrum is unchanged.\n",
      "\n",
      "-   Interpreting the algorithm as a generalized power method is possible\n",
      "    but not straightforward."
     ]
    }
   ],
   "metadata": {}
  }
 ]
}