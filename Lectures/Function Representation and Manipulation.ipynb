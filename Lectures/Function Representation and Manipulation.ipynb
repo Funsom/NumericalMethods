{
 "metadata": {
  "name": "",
  "signature": "sha256:cd9e997324caeb11e501c994e74dadbee261dab9e90b79ba1eb5ee0568f9dcde"
 },
 "nbformat": 3,
 "nbformat_minor": 0,
 "worksheets": [
  {
   "cells": [
    {
     "cell_type": "heading",
     "level": 1,
     "metadata": {},
     "source": [
      "Function Representation and Manipulation"
     ]
    },
    {
     "cell_type": "code",
     "collapsed": false,
     "input": [
      "%matplotlib inline"
     ],
     "language": "python",
     "metadata": {},
     "outputs": [],
     "prompt_number": 1
    },
    {
     "cell_type": "code",
     "collapsed": false,
     "input": [
      "import numpy as np\n",
      "import matplotlib\n",
      "matplotlib.rcParams.update({'font.size': 14})\n",
      "import matplotlib.pyplot as plt"
     ],
     "language": "python",
     "metadata": {},
     "outputs": [],
     "prompt_number": 2
    },
    {
     "cell_type": "markdown",
     "metadata": {},
     "source": [
      "From a mathematical point of view, a central point in numerical methods is how we represent a general function $f(x)$. As $x$ is a real number the function encodes an (uncountably) infinite amount of information: its value $f(x)$ for every point $x$. A computer can only usefully store and manipulate a finite amount of information, so it would appear impossible to represent even the simplest function of one variable."
     ]
    },
    {
     "cell_type": "markdown",
     "metadata": {},
     "source": [
      "Of course, most functions can be represented straightforwardly using little information. We often see functions that can be represented symbolically - $f(x) = x^2 + x$ is a simple example - but numerical methods are precisely for cases where symbolic methods are not applicable. Instead we must consider how a function is represented, or approximated, in terms of a finite amount of information."
     ]
    },
    {
     "cell_type": "markdown",
     "metadata": {},
     "source": [
      "Two standard representations can be used to make the central point. The first representation is in terms of polynomials, using Taylor series:\n",
      "\n",
      "\\begin{equation}\n",
      "  f(x ; x_0) = \\sum_{n=0}^{\\infty} \\frac{c_n}{n!} (x - x_0)^n.\n",
      "\\end{equation}\n",
      "\n",
      "Here $x_0$ is a parameter about which the Taylor series is centred.\n",
      "\n",
      "The second representation is in terms of trigonometric functions, using Fourier series. For simplicity we consider only the Fourier cosine series\n",
      "\n",
      "\\begin{equation}\n",
      "  f(x ; L) = \\frac{1}{2} a_0 + \\sum_{n=1}^{\\infty} a_n \\cos \\left( \\frac{n \\pi x}{L} \\right).\n",
      "\\end{equation}\n",
      "\n",
      "The Fourier series representation is $2L$-periodic."
     ]
    },
    {
     "cell_type": "markdown",
     "metadata": {},
     "source": [
      "Given a set of coefficients ($\\{c_n\\}$ for the Taylor series or $\\{a_n\\}$ for the Fourier series) we define a function."
     ]
    },
    {
     "cell_type": "code",
     "collapsed": false,
     "input": [
      "an = np.zeros((10, 1))\n",
      "cn = np.zeros_like(an)\n",
      "for n in range(len(an)):\n",
      "    an[n] = 1.0 / (n + 1)**2\n",
      "    cn[n] = an[n]\n",
      "x = np.linspace(-1.0, 1.0, 100)\n",
      "taylor = an[0]*np.ones_like(x)\n",
      "fourier = cn[0]*np.ones_like(x)\n",
      "for n in range(1, len(an)):\n",
      "    taylor += an[n] * x**n\n",
      "    fourier += cn[n] * np.cos(n * np.pi * x)\n",
      "fig = plt.figure(figsize = (8,6))\n",
      "ax = fig.add_subplot(111)\n",
      "ax.plot(x,taylor,label = 'Taylor')\n",
      "ax.plot(x,fourier, label = 'Fourier')\n",
      "plt.legend()\n",
      "ax.set_xlabel('$x$')\n",
      "plt.show()"
     ],
     "language": "python",
     "metadata": {},
     "outputs": [
      {
       "metadata": {},
       "output_type": "display_data",
       "png": "[encoded data removed]",
       "text": [
        "<matplotlib.figure.Figure at 0x223c9d0>"
       ]
      }
     ],
     "prompt_number": 10
    },
    {
     "cell_type": "markdown",
     "metadata": {},
     "source": [
      "Given a function, the standard analytical methods will give you the coefficients. This can rarely be directly applied in numerical methods - as noted above, it is usual that you're dealing with a function that isn't known in symbolic form."
     ]
    },
    {
     "cell_type": "markdown",
     "metadata": {},
     "source": [
      "Above, when we defined the function $f(x)$ from the coefficients, we were noting that we could evaluate the representation for any point $x$ given \n",
      "\n",
      "1. the form of the representation (e.g., as a Taylor series about $x_0=0$), and\n",
      "2. the value of the coefficients.\n",
      "\n",
      "We can (nearly always) go in the opposite direction: given the value of the function at enough points $x_n$ we can compute the coefficients of the representation.\n",
      "\n",
      "For example, let us assume that \n",
      "\n",
      "1. the function will be represented as a polynomial of order 2, i.e. a Taylor series about $x_0=0$ such that all coefficients $c_n$ vanish for $n > 2$, and\n",
      "2. the value of the function is known at three points $x_1, x_2, x_3$.\n",
      "\n",
      "This is precisely the information needed to compute the coefficients $c_0, c_1, c_2$ and hence write the function as\n",
      "\n",
      "\\begin{equation}\n",
      "  f(x) \\approx c_0 + c_1 x + \\frac{c_2}{2} x^2.\n",
      "\\end{equation}\n",
      "\n",
      "Explicitly, we note that the function representation matches the known value of the function at the three points only if\n",
      "\n",
      "\\begin{equation}\n",
      "  \\begin{pmatrix} 1 & x_1 & \\tfrac{1}{2} x_1^2 \\\\ 1 & x_2 & \\tfrac{1}{2} x_2^2 \\\\ 1 & x_3 & \\tfrac{1}{2} x_3^2 \\end{pmatrix} \\begin{pmatrix} c_0 \\\\ c_1 \\\\ c_2 \\end{pmatrix} = \\begin{pmatrix} f(x_1) \\\\ f(x_2) \\\\ f(x_3) \\end{pmatrix}\n",
      "\\end{equation}\n",
      "\n",
      "which, given the information we know, is a linear system for the coefficients.\n",
      "\n",
      "Note in particular that the number of points at which the function is known must match the number of coefficients in the function representation."
     ]
    },
    {
     "cell_type": "markdown",
     "metadata": {},
     "source": [
      "The previous example hints at one of the standard methods of numerically representing functions. First, we take a representation that we know, given an infinite amount of information, converges to the function we want (in some sense). Second, assume that taking a *finite* number of terms is sufficient: e.g., truncate the sum in the Taylor series expansion after a finite number of terms. Then, using a finite amount of information about the function (such at its value at an appropriate number of points) we compute the coefficients of the representation. We then manipulate the representation *as if* it were the true function."
     ]
    },
    {
     "cell_type": "code",
     "collapsed": false,
     "input": [],
     "language": "python",
     "metadata": {},
     "outputs": []
    }
   ],
   "metadata": {}
  }
 ]
}