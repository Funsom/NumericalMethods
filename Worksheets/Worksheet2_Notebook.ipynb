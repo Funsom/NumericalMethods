{
 "cells": [
  {
   "cell_type": "markdown",
   "metadata": {},
   "source": [
    "# Worksheet 2"
   ]
  },
  {
   "cell_type": "code",
   "execution_count": 1,
   "metadata": {
    "collapsed": false,
    "nbconvert": {
     "hide_code": true
    }
   },
   "outputs": [],
   "source": [
    "%matplotlib inline"
   ]
  },
  {
   "cell_type": "markdown",
   "metadata": {},
   "source": [
    "# Questions"
   ]
  },
  {
   "cell_type": "markdown",
   "metadata": {},
   "source": [
    "## Question 1"
   ]
  },
  {
   "cell_type": "markdown",
   "metadata": {
    "collapsed": true
   },
   "source": [
    "Perform the $LU$ decomposition of\n",
    "\n",
    "$$\n",
    "  A = \\begin{pmatrix} 1 & 3 \\\\ 4 & 16 \\end{pmatrix}.\n",
    "$$\n",
    "\n",
    "Use both standard factorisation methods."
   ]
  },
  {
   "cell_type": "markdown",
   "metadata": {},
   "source": [
    "## Question 2"
   ]
  },
  {
   "cell_type": "markdown",
   "metadata": {
    "collapsed": true
   },
   "source": [
    "Write out the Thomas algorithm for a tridiagonal system."
   ]
  },
  {
   "cell_type": "markdown",
   "metadata": {},
   "source": [
    "## Question 3"
   ]
  },
  {
   "cell_type": "markdown",
   "metadata": {
    "collapsed": true
   },
   "source": [
    "Write down the general framework for iterative methods for linear systems. Give the convergence matrix. If the linear system uses the matrix $A$ above, will an iterative method converge? [Hint: remember what to do with the diagonal entries]"
   ]
  },
  {
   "cell_type": "markdown",
   "metadata": {},
   "source": [
    "## Question 4"
   ]
  },
  {
   "cell_type": "markdown",
   "metadata": {
    "collapsed": true
   },
   "source": [
    "Check which of the matrices on this sheet are diagonally dominant."
   ]
  },
  {
   "cell_type": "markdown",
   "metadata": {},
   "source": [
    "## Question 5"
   ]
  },
  {
   "cell_type": "markdown",
   "metadata": {
    "collapsed": true
   },
   "source": [
    "Briefly explain what is meant by quadrature methods based on polynomial interpolation."
   ]
  },
  {
   "cell_type": "markdown",
   "metadata": {},
   "source": [
    "## Question 6"
   ]
  },
  {
   "cell_type": "markdown",
   "metadata": {
    "collapsed": true
   },
   "source": [
    "Write down the contraction mapping theorem. Check that $g(x) = \\cos(x)$ is contracting on the unit interval."
   ]
  },
  {
   "cell_type": "markdown",
   "metadata": {},
   "source": [
    "## Coding Question 1"
   ]
  },
  {
   "cell_type": "markdown",
   "metadata": {
    "collapsed": true
   },
   "source": [
    "Write a code to do $LU$ decomposition. Check the decomposition of\n",
    "\n",
    "$$\n",
    "  B = \\begin{pmatrix} 64 & 8 & 48 \\\\ 24 & 28 & 53 \\\\ 32 & 49 & 91 \\end{pmatrix}.\n",
    "$$"
   ]
  },
  {
   "cell_type": "markdown",
   "metadata": {},
   "source": [
    "## Coding Question 2"
   ]
  },
  {
   "cell_type": "markdown",
   "metadata": {
    "collapsed": true
   },
   "source": [
    "Implement the Thomas Algorithm for a tridiagonal system. Test this on the tridiagonal matrix constructed from $B$ above, i.e. on the system\n",
    "\n",
    "$$\n",
    "  \\begin{pmatrix} 62 & 8 & 0 \\\\ 24 & 28 & 53 \\\\ 0 & 49 & 91 \\end{pmatrix} {\\bf x} = \\begin{pmatrix} 3 \\\\ 2 \\\\ 1 \\end{pmatrix}.\n",
    "$$"
   ]
  },
  {
   "cell_type": "markdown",
   "metadata": {},
   "source": [
    "## Coding Question 3"
   ]
  },
  {
   "cell_type": "markdown",
   "metadata": {
    "collapsed": true
   },
   "source": [
    "Implement the Jacobi method for linear systems. Investigate the behaviour of the method for the problem\n",
    "\n",
    "$$\n",
    "  B {\\bf x} = \\begin{pmatrix} 3 \\\\ 2 \\\\ 1 \\end{pmatrix}\n",
    "$$\n",
    "\n",
    "starting from the trivial initial guess ${\\bf x}^{(0)} = {\\bf 0}$. Should this be expected? [Hint: Check the convergence theorem]\n",
    "\n",
    "In addition and for comparison, try the problem using the matrix\n",
    "\n",
    "$$\n",
    "  C = \\begin{pmatrix} \\frac{119}{108} & -\\frac{14}{27} & -\\frac{8}{9} \\\\ \\frac{7}{54} & \\frac{46}{27} & \\frac{7}{9} \\\\ \\frac{5}{108} & \\frac{1}{27} & \\frac{23}{17}  \\end{pmatrix}.\n",
    "$$"
   ]
  },
  {
   "cell_type": "markdown",
   "metadata": {},
   "source": [
    "## Coding Question 4"
   ]
  },
  {
   "cell_type": "markdown",
   "metadata": {
    "collapsed": true
   },
   "source": [
    "Implement the Gauss-Seidel method, applying it to the convergent problem above. Compare the convergence rate to Jacobi."
   ]
  },
  {
   "cell_type": "markdown",
   "metadata": {},
   "source": [
    "## Coding Question 5"
   ]
  },
  {
   "cell_type": "markdown",
   "metadata": {
    "collapsed": true
   },
   "source": [
    "Implement the chord method to find the root of\n",
    "\n",
    "$$\n",
    "  f(x) = \\tan (x) - e^{-x}, \\quad x \\in [0, 1].\n",
    "$$"
   ]
  },
  {
   "cell_type": "markdown",
   "metadata": {},
   "source": [
    "# Answers"
   ]
  },
  {
   "cell_type": "markdown",
   "metadata": {},
   "source": [
    "## Question 1"
   ]
  },
  {
   "cell_type": "markdown",
   "metadata": {},
   "source": [
    "Perform the $LU$ decomposition of\n",
    "\n",
    "$$\n",
    "  A = \\begin{pmatrix} 1 & 3 \\\\ 4 & 16 \\end{pmatrix}.\n",
    "$$\n",
    "\n",
    "Use both standard factorisation methods."
   ]
  },
  {
   "cell_type": "markdown",
   "metadata": {},
   "source": [
    "### Answer 1"
   ]
  },
  {
   "cell_type": "markdown",
   "metadata": {},
   "source": [
    "The general algorithm is laid out in the notes. In particular, when calculating the next entry, we will need to either use the formula\n",
    "\n",
    "$$\n",
    "  u_{k j} = \\left( a_{k j} - \\sum_{s = 1}^{k - 1} \\ell_{k s} u_{s j} \\right) / \\ell_{k k}\n",
    "$$\n",
    "or\n",
    "$$\n",
    "  \\ell_{i k} = \\left( a_{i k} - \\sum_{s = 1}^{k - 1} \\ell_{i s} u_{s k} \\right) / u_{k k}.\n",
    "$$\n"
   ]
  },
  {
   "cell_type": "markdown",
   "metadata": {},
   "source": [
    "#### Doolittle factorisation"
   ]
  },
  {
   "cell_type": "markdown",
   "metadata": {},
   "source": [
    "First consider the Doolittle factorisation, where the diagonal elements of $L$, $\\ell_{k k}$ are set to 1.\n",
    "\n",
    "Build the first entry of $U$ using\n",
    "\n",
    "$$\n",
    "  u_{1 1} = \\left( a_{1 1} - \\sum_{s = 1}^{0} \\ell_{1 s} u_{s 1} \\right) / \\ell_{1 1} = a_{1 1} = 1.\n",
    "$$\n",
    "\n",
    "Then work along the first row of $U$, finding\n",
    "\n",
    "$$\n",
    "  u_{1 2} = \\left( a_{1 2} - \\sum_{s = 1}^{0} \\ell_{1 s} u_{s 2} \\right) / \\ell_{1 1} = a_{1 2} = 3.\n",
    "$$\n",
    "\n",
    "We can then work down the first column of $L$, finding\n",
    "\n",
    "$$\n",
    "  \\ell_{2 1} = \\left( a_{2 1} - \\sum_{s = 1}^{0} \\ell_{2 s} u_{s 1} \\right) / u_{1 1} = a_{2 1} / u_{1 1} = 4.\n",
    "$$\n",
    "\n",
    "Finally we need the bottom right element of $U$, finding\n",
    "\n",
    "$$\n",
    "  u_{2 2} = \\left( a_{2 2} - \\sum_{s = 1}^{1} \\ell_{2 s} u_{s 2} \\right) / \\ell_{2 2} = a_{2 2} - \\ell_{2 1} u_{1 2} = 16 - 4 \\times 3 = 4.\n",
    "$$\n",
    "\n",
    "Hence we have\n",
    "\n",
    "$$\n",
    "  L = \\begin{pmatrix} 1 & 0 \\\\ 4 & 1 \\end{pmatrix} \\quad U = \\begin{pmatrix} 1 & 3 \\\\ 0 & 4 \\end{pmatrix}.\n",
    "$$"
   ]
  },
  {
   "cell_type": "markdown",
   "metadata": {},
   "source": [
    "#### Crout factorisation"
   ]
  },
  {
   "cell_type": "markdown",
   "metadata": {},
   "source": [
    "Next consider the Crout factorisation, where the diagonal elements of $U$, $U_{k k}$ are set to 1.\n",
    "\n",
    "Build the first entry of $L$ using\n",
    "\n",
    "$$\n",
    "  \\ell_{1 1} = \\left( a_{1 1} - \\sum_{s = 1}^{0} \\ell_{1 s} u_{s 1} \\right) / u_{1 1} = a_{1 1} = 1.\n",
    "$$\n",
    "\n",
    "We can then work along the first row of $U$, finding\n",
    "\n",
    "$$\n",
    "  u_{1 2} = \\left( a_{1 2} - \\sum_{s = 1}^{0} \\ell_{1 s} u_{s 2} \\right) / \\ell_{1 1} = a_{1 2} = 3.\n",
    "$$\n",
    "\n",
    "Then work down the first column of $L$, finding\n",
    "\n",
    "$$\n",
    "  \\ell_{2 1} = \\left( a_{2 1} - \\sum_{s = 1}^{0} \\ell_{2 s} u_{s 1} \\right) / u_{1 1} = a_{2 1} / u_{1 1} = 4.\n",
    "$$\n",
    "\n",
    "Finally we need the bottom right element of $L$, finding\n",
    "\n",
    "$$\n",
    "  \\ell_{2 2} = \\left( a_{2 2} - \\sum_{s = 1}^{1} \\ell_{2 s} u_{s 2} \\right) / u_{2 2} = a_{2 2} - \\ell_{2 1} u_{1 2} = 16 - 4 \\times 3 = 4.\n",
    "$$\n",
    "\n",
    "Hence we have\n",
    "\n",
    "$$\n",
    "  L = \\begin{pmatrix} 1 & 0 \\\\ 4 & 4 \\end{pmatrix} \\quad U = \\begin{pmatrix} 1 & 3 \\\\ 0 & 1 \\end{pmatrix}.\n",
    "$$\n",
    "\n",
    "Note that in this case only one entry between the matrices has been switched: in general the results may be very different."
   ]
  },
  {
   "cell_type": "markdown",
   "metadata": {},
   "source": [
    "## Question 2"
   ]
  },
  {
   "cell_type": "markdown",
   "metadata": {},
   "source": [
    "Write out the Thomas algorithm for a tridiagonal system."
   ]
  },
  {
   "cell_type": "markdown",
   "metadata": {},
   "source": [
    "### Answer 2"
   ]
  },
  {
   "cell_type": "markdown",
   "metadata": {},
   "source": [
    "We assume that the tridiagonal matrix $A$ has diagonal entries $b_i , i = 1, . . . , N$, sub-diagonal entries $a_j , j = 1, . . . , N − 1$, and super-diagonal entries $c_j , j = 1, . . . , N − 1$. We assume that we are trying to solve the problem\n",
    "\n",
    "$$\n",
    "  A {\\bf x} = {\\bf f},\n",
    "$$\n",
    "\n",
    "which has size $N$.\n",
    "\n",
    "The Thomas algorithm is essentially Gaussian elimination; forward elimination is used to get an upper triangular problem, and then back substitution used to find the answer. The tridiagonal nature of the problem means that it is sufficiently simple to write it out explicitly.\n",
    "\n",
    "The first step is the forward elimination process. This yields the system\n",
    "\n",
    "$$\n",
    "  B {\\bf x} = {\\bf y},\n",
    "$$\n",
    "\n",
    "where $B$ has entries only on the diagonal, and these entries are all 1, and on the super-diagonal,\n",
    "which are written as $c_j /d_j , j = 1, . . . , N − 1$. The vectors ${\\bf d}, {\\bf y}$ are given by the procedure\n",
    "\n",
    "1. At the first step $d_1 = b_1$ and $y_1 = f_1 /d_1$ ;\n",
    "2. At the $k$-th step $d_k = b_k − a_{k−1} c_{k−1} / d_{k−1}$ and $y_k = (f_k − y_{k−1} a_{k−1} ) / d_k$.\n",
    "\n",
    "We can then solve this simplified system using back substitution to find\n",
    "\n",
    "1. At the first step $x_N = y_N$;\n",
    "2. In reverse order, $k = N − 1, . . . , 1$ we have $x_k = y_k − x_{k+1} c_k / d_k$.\n"
   ]
  },
  {
   "cell_type": "markdown",
   "metadata": {},
   "source": [
    "## Question 3"
   ]
  },
  {
   "cell_type": "markdown",
   "metadata": {},
   "source": [
    "Write down the general framework for iterative methods for linear systems. Give the convergence matrix. If the linear system uses the matrix $A$ above, will an iterative method converge? [Hint: remember what to do with the diagonal entries]"
   ]
  },
  {
   "cell_type": "markdown",
   "metadata": {},
   "source": [
    "### Answer 3"
   ]
  },
  {
   "cell_type": "markdown",
   "metadata": {},
   "source": [
    "The system to be solved is\n",
    "\n",
    "$$\n",
    "  A {\\bf x} = {\\bf b},\n",
    "$$\n",
    "\n",
    "with $\\det(A) = 0$. We first scale the problem such that all diagonal entries of $A$ are 1. We split the coefficient matrix $A$ into the matrices $N$, $P$, such that\n",
    "\n",
    "$$\n",
    "  A = N − P\n",
    "$$\n",
    "\n",
    "where $\\det(N) = 0$. We therefore have that\n",
    "\n",
    "$$\n",
    "  N {\\bf x} = P {\\bf x} + {\\bf b}\n",
    "$$\n",
    "\n",
    "and we use this to write an iteration scheme as\n",
    "\n",
    "$$\n",
    "  N {\\bf x}^{(n)} = P {\\bf x}^{(n−1)} + {\\bf b}, \\quad n = 1, 2, 3, \\dots\n",
    "$$\n",
    "\n",
    "where we start from some arbitrary initial guess $x^{(0)}$.\n",
    "\n",
    "The convergence matrix $M$ is given by $M = N^{−1} P$. Convergence is guaranteed if the spectral radius of $M$, which is the largest eigenvalue (in magnitude), is less than one. For the matrix given in the first part we have the rescaled $A$ is\n",
    "\n",
    "$$\n",
    "  A = \\begin{pmatrix} 1 & 3 \\\\ 4 & 16 \\end{pmatrix}.\n",
    "$$\n",
    "\n",
    "Clearly to talk about convergence we need to first decide how to split $A$ into $N$, $P$ matrices. For simplicity we consider Jacobi’s method for which $N = I$ and hence we have\n",
    "\n",
    "$$\n",
    "\\begin{aligned}\n",
    "  && N & = \\begin{pmatrix} 1 & 0 \\\\ 0 & 1 \\end{pmatrix}, \\\\\n",
    "  && P & = \\begin{pmatrix} 0 & -3 \\\\ -1/4 & 0 \\end{pmatrix}, \\\\\n",
    "  && M & = N^{-1} P \\\\\n",
    "  &&   & = P \\\\\n",
    "  &&   & = \\begin{pmatrix} 0 & -3 \\\\ -1/4 & 0 \\end{pmatrix} \\\\\n",
    "  \\implies && \\rho(M) & = \\max_i | \\lambda_i | \\\\\n",
    "  &&   & = \\max \\left\\{ \\pm \\sqrt{3/4} \\right\\} \\\\\n",
    "  &&   & = \\sqrt{3/4} \\\\\n",
    "  &&   & < 1.\n",
    "\\end{aligned}\n",
    "$$\n",
    "\n",
    "Therefore Jacobi will converge for this matrix."
   ]
  },
  {
   "cell_type": "markdown",
   "metadata": {},
   "source": [
    "## Question 4"
   ]
  },
  {
   "cell_type": "markdown",
   "metadata": {},
   "source": [
    "Check which of the matrices on this sheet are diagonally dominant."
   ]
  },
  {
   "cell_type": "markdown",
   "metadata": {},
   "source": [
    "### Answer 4"
   ]
  },
  {
   "cell_type": "markdown",
   "metadata": {},
   "source": [
    "For (strict) diagonal dominance we need the absolute value of the diagonal coefficient to be (strictly) greater than the sum of the absolute values of all other coefficients in the row.\n",
    "\n",
    "For $A$ this is not true; for the first row we have $1 \\not{>} 3$, although dominance holds for the second row.\n",
    "\n",
    "For $B$ it is not true; for the second row we have $28 \\not{>} 24 + 53$, although dominance holds for the other rows.\n",
    "\n",
    "For $C$ it is not true; for the first row it fails, although dominance holds for the other rows."
   ]
  },
  {
   "cell_type": "markdown",
   "metadata": {},
   "source": [
    "## Question 5"
   ]
  },
  {
   "cell_type": "markdown",
   "metadata": {},
   "source": [
    "Briefly explain what is meant by quadrature methods based on polynomial interpolation."
   ]
  },
  {
   "cell_type": "markdown",
   "metadata": {},
   "source": [
    "### Answer 5"
   ]
  },
  {
   "cell_type": "markdown",
   "metadata": {},
   "source": [
    "*Standard exam question; see, e.g., 07/08.*\n",
    "\n",
    "The function $f(x)$ to be integrated is replaced by an interpolating function, in this case a polynomial of degree $n$, that interpolates it at $n + 1$ *nodes* $x_j , j = 0, 1, \\dots , n$. In general, when constructing a compound quadrature formula, we may split the interval into subintervals, each subinterval containing $n + 1$ nodes, and use a polynomial interpolating function on each subinterval. The integral of the function is approximated by the integral of the (piecewise polynomial) interpolating function."
   ]
  },
  {
   "cell_type": "markdown",
   "metadata": {},
   "source": [
    "## Question 6"
   ]
  },
  {
   "cell_type": "markdown",
   "metadata": {},
   "source": [
    "Write down the contraction mapping theorem. Check that $g(x) = \\cos(x)$ is contracting on the unit interval."
   ]
  },
  {
   "cell_type": "markdown",
   "metadata": {},
   "source": [
    "### Answer 6"
   ]
  },
  {
   "cell_type": "markdown",
   "metadata": {},
   "source": [
    "The contraction mapping theorem is\n",
    "\n",
    "> If $g(x)$ is a contraction mapping in an interval $I = [a, b]$ then there exists one and only one fixed point of the map in $[a, b]$.\n",
    "\n",
    "In order to state we need the definition of a contraction mapping, which is\n",
    "\n",
    "> **Definition** - A continuous map $g(x)$ from an interval $I = [a, b] \\subseteq {\\mathbb R}$ into ${\\mathbb R}$ is contracting (or a contraction mapping) if\n",
    ">\n",
    "> 1. the image of $I$ is contained in $I$:\n",
    "> $$\\begin{aligned}\n",
    "    && g(I) &\\subseteq I \\\\\n",
    "    \\Leftrightarrow && g(x) & \\in I \\quad \\forall x \\in I.\n",
    "  \\end{aligned}$$\n",
    "> 2. the function $g(x)$ is Lipschitz continuous in $I$ with Lipschitz constant $L < 1$:\n",
    "> $$\n",
    "    |g(x) − g(y)| \\leq L |x − y| \\quad \\forall x, y \\in I.\n",
    "  $$\n",
    "\n",
    "Given this we want to check $g(x) = \\cos(x)$ on $I = [0, 1]$. We have that $g$ is continuous and differentiable, so it must be Lipschitz continuous. We know that $L < \\max_x \\in I | g(x) |$ so we look at $g = − \\sin(x)$. We note that the extrema of $g$ occur when $g = − \\cos(x) = 0$ which is at $x = (n + 1/2) \\pi$, of which none occur in the interval $[0, 1]$. We also note that $g$ is monotonic on the interval. Therefore the extreme values of $g$ are taken at the ends of the interval and are $[0, − \\sin(1)]$, which are both less than 1 in absolute value. So $L < 1$.\n",
    "\n",
    "We also need to check that $g(I) \\subseteq I$. Again we note that $g$ is monotonic on the interval. Hence we only need to check that $g(0) = 1 \\in I$ and $g(1) = \\cos(1) \\in I$, both of which hold. Therefore the map is contracting."
   ]
  },
  {
   "cell_type": "markdown",
   "metadata": {},
   "source": [
    "## Coding Question 1"
   ]
  },
  {
   "cell_type": "markdown",
   "metadata": {},
   "source": [
    "Write a code to do $LU$ decomposition. Check the decomposition of\n",
    "\n",
    "$$\n",
    "  B = \\begin{pmatrix} 64 & 8 & 48 \\\\ 24 & 28 & 53 \\\\ 32 & 49 & 91 \\end{pmatrix}.\n",
    "$$"
   ]
  },
  {
   "cell_type": "markdown",
   "metadata": {},
   "source": [
    "First we should note that python has an $LU$ decomposition algorithm in `scipy.linalg.lu` or `scipy.linalg.lu_factor`. The results produced by that algorithm will not necessarilly match those produced from the algorithm in the notes, as the python implementation includes pivoting (which is the best thing to do in a practical code, but not considered here).\n",
    "\n",
    "Instead we re-implement the algorithm without pivoting. We will use the Doolittle factorisation."
   ]
  },
  {
   "cell_type": "markdown",
   "metadata": {},
   "source": [
    "### Answer Coding Question 1"
   ]
  },
  {
   "cell_type": "code",
   "execution_count": 2,
   "metadata": {
    "collapsed": false
   },
   "outputs": [],
   "source": [
    "import numpy\n",
    "from scipy import linalg"
   ]
  },
  {
   "cell_type": "code",
   "execution_count": 3,
   "metadata": {
    "collapsed": false
   },
   "outputs": [],
   "source": [
    "def LU_decomposition(A):\n",
    "    \"\"\"\n",
    "    Perform LU decomposition using the Doolittle factorisation.\n",
    "    \"\"\"\n",
    "    \n",
    "    L = numpy.zeros_like(A)\n",
    "    U = numpy.zeros_like(A)\n",
    "    N = numpy.size(A, 0)\n",
    "    \n",
    "    for k in range(N):\n",
    "        L[k, k] = 1\n",
    "        U[k, k] = (A[k, k] - numpy.dot(L[k, :k], U[:k, k])) / L[k, k]\n",
    "        for j in range(k+1, N):\n",
    "            U[k, j] = (A[k, j] - numpy.dot(L[k, :k], U[:k, j])) / L[k, k]\n",
    "        for i in range(k+1, N):\n",
    "            L[i, k] = (A[i, k] - numpy.dot(L[i, :k], U[:k, k])) / U[k, k]\n",
    "    \n",
    "    return L, U\n"
   ]
  },
  {
   "cell_type": "code",
   "execution_count": 4,
   "metadata": {
    "collapsed": false
   },
   "outputs": [
    {
     "name": "stdout",
     "output_type": "stream",
     "text": [
      "The LU decomposition of\n",
      "\n",
      "[[ 64.   8.  48.]\n",
      " [ 24.  28.  53.]\n",
      " [ 32.  49.  91.]]\n",
      "\n",
      "is\n",
      "\n",
      "[[ 1.     0.     0.   ]\n",
      " [ 0.375  1.     0.   ]\n",
      " [ 0.5    1.8    1.   ]]\n",
      "\n",
      "[[ 64.   8.  48.]\n",
      " [  0.  25.  35.]\n",
      " [  0.   0.   4.]]\n",
      "\n",
      "\n",
      "Cross check product:\n",
      "[[ 64.   8.  48.]\n",
      " [ 24.  28.  53.]\n",
      " [ 32.  49.  91.]]\n",
      "\n",
      "\n",
      "\n",
      "The LU decomposition of\n",
      "\n",
      "[[  1.   3.]\n",
      " [  4.  16.]]\n",
      "\n",
      "is\n",
      "\n",
      "[[ 1.  0.]\n",
      " [ 4.  1.]]\n",
      "\n",
      "[[ 1.  3.]\n",
      " [ 0.  4.]]\n",
      "\n",
      "\n",
      "Cross check product:\n",
      "[[  1.   3.]\n",
      " [  4.  16.]]\n"
     ]
    }
   ],
   "source": [
    "B = numpy.array([[64.0, 8.0, 48.0],\n",
    "                 [24.0, 28.0, 53.0],\n",
    "                 [32.0, 49.0, 91.0]])\n",
    "[L, U] = LU_decomposition(B)\n",
    "print(\"The LU decomposition of\\n\\n{}\\n\\n\"\n",
    "      \"is\\n\\n{}\\n\\n{}\\n\\n\".format(B, L, U))\n",
    "print(\"Cross check product:\\n{}\".format(numpy.dot(L, U)))\n",
    "\n",
    "# Also check the result from theory question 1.\n",
    "A = numpy.array([[1.0, 3.0], [4.0, 16.0]])\n",
    "[L, U] = LU_decomposition(A)\n",
    "print(\"\\n\\n\\nThe LU decomposition of\\n\\n{}\\n\\nis\\n\\n{}\\n\\n{}\\n\\n\"\\\n",
    "      .format(A, L, U))\n",
    "print(\"Cross check product:\\n{}\".format(numpy.dot(L, U)))"
   ]
  },
  {
   "cell_type": "markdown",
   "metadata": {},
   "source": [
    "## Coding Question 2"
   ]
  },
  {
   "cell_type": "markdown",
   "metadata": {},
   "source": [
    "Implement the Thomas Algorithm for a tridiagonal system."
   ]
  },
  {
   "cell_type": "markdown",
   "metadata": {},
   "source": [
    "Note that we shall test this on the tridiagonal matrix constructed from $B$ above, i.e. on the system\n",
    "\n",
    "$$\n",
    "  \\begin{pmatrix} 62 & 8 & 0 \\\\ 24 & 28 & 53 \\\\ 0 & 49 & 91 \\end{pmatrix} {\\bf x} = \\begin{pmatrix} 3 \\\\ 2 \\\\ 1 \\end{pmatrix}.\n",
    "$$"
   ]
  },
  {
   "cell_type": "markdown",
   "metadata": {},
   "source": [
    "### Answer Coding Question 2"
   ]
  },
  {
   "cell_type": "code",
   "execution_count": 5,
   "metadata": {
    "collapsed": false
   },
   "outputs": [],
   "source": [
    "def ThomasAlgorithm(a, b, c, f):\n",
    "    \"\"\"Implement the Thomas algorithm to solve A x = f. \n",
    "    The vectors a, b, c are the sub-diagonal, diagonal and super-diagonal \n",
    "    vectors of the original matrix A.\"\"\"\n",
    "    \n",
    "    # Make copies of the input\n",
    "    aa = a.copy()\n",
    "    bb = b.copy()\n",
    "    cc = c.copy()\n",
    "    \n",
    "    x = numpy.zeros_like(f)\n",
    "    d = numpy.zeros_like(f)\n",
    "    d[:] = f[:]\n",
    "    N = len(f)\n",
    "    for k in range(1, N):\n",
    "        m = aa[k-1] / bb[k-1]\n",
    "        bb[k] -= m * cc[k-1]\n",
    "        d[k] -= m * d[k-1]\n",
    "    x[-1] = d[-1] / bb[-1]\n",
    "    for k in range(N-2, -1, -1):\n",
    "        x[k] = (d[k] - cc[k] * x[k+1]) / bb[k]\n",
    "    \n",
    "    return x"
   ]
  },
  {
   "cell_type": "code",
   "execution_count": 6,
   "metadata": {
    "collapsed": false
   },
   "outputs": [
    {
     "name": "stdout",
     "output_type": "stream",
     "text": [
      "Solution of A x = f where\n",
      "\n",
      "A = [[ 62.   8.   0.]\n",
      " [ 24.  28.  53.]\n",
      " [  0.  49.  91.]]\n",
      "\n",
      "f = [ 3.  2.  1.]\n",
      "\n",
      " is\n",
      "\n",
      "x = [ 0.05748415 -0.07050219  0.04895173]\n"
     ]
    }
   ],
   "source": [
    "D = numpy.array([[62.0, 8.0, 0.0],\n",
    "                 [24.0, 28.0, 53.0],\n",
    "                 [0.0, 49.0, 91.0]])\n",
    "b = numpy.array([3.0, 2.0, 1.0])\n",
    "x = ThomasAlgorithm(numpy.diag(D, -1), numpy.diag(D), numpy.diag(D, +1),\n",
    "                    b)\n",
    "print(\"Solution of A x = f where\\n\\nA = {}\\n\\nf = {}\\n\\n is\\n\\nx = {}\".\\\n",
    "      format(D, b, x))"
   ]
  },
  {
   "cell_type": "markdown",
   "metadata": {},
   "source": [
    "## Coding Question 3"
   ]
  },
  {
   "cell_type": "markdown",
   "metadata": {},
   "source": [
    "Implement the Jacobi method for linear systems. Investigate the behaviour of the method for the problem\n",
    "\n",
    "$$\n",
    "  B {\\bf x} = \\begin{pmatrix} 3 \\\\ 2 \\\\ 1 \\end{pmatrix}\n",
    "$$\n",
    "\n",
    "starting from the trivial initial guess ${\\bf x}^{(0)} = {\\bf 0}$. Should this be expected? [Hint: Check the convergence theorem]\n",
    "\n",
    "In addition and for comparison, try the problem using the matrix\n",
    "\n",
    "$$\n",
    "  C = \\begin{pmatrix} \\frac{119}{108} & -\\frac{14}{27} & -\\frac{8}{9} \\\\ \\frac{7}{54} & \\frac{46}{27} & \\frac{7}{9} \\\\ \\frac{5}{108} & \\frac{1}{27} & \\frac{23}{17}  \\end{pmatrix}.\n",
    "$$"
   ]
  },
  {
   "cell_type": "markdown",
   "metadata": {},
   "source": [
    "### Answer Coding Question 3"
   ]
  },
  {
   "cell_type": "code",
   "execution_count": 7,
   "metadata": {
    "collapsed": false
   },
   "outputs": [],
   "source": [
    "def Jacobi(A, b, tolerance = 1.e-10, MaxSteps = 100):\n",
    "    \"\"\"\n",
    "    Solve the linear system A x = b using Jacobi's method, \n",
    "    starting from the trivial initial guess.\n",
    "    \"\"\"\n",
    "    \n",
    "    x = numpy.zeros_like(b)\n",
    "    \n",
    "    Anorm = A.copy()\n",
    "    bnorm = b.copy()\n",
    "    n = len(b)\n",
    "    \n",
    "    for i in range(n):\n",
    "        bnorm[i] /= A[i, i]\n",
    "        Anorm[i, :] /= A[i, i]\n",
    "    \n",
    "    # Compute the split\n",
    "    N = numpy.eye(n)\n",
    "    P = N - Anorm\n",
    "    AL = linalg.tril(P)\n",
    "    AU = linalg.triu(P)\n",
    "    \n",
    "    # Compute the convergence matrix and check its spectral radius\n",
    "    M = numpy.dot(linalg.inv(N), P)\n",
    "    eigenvalues, eigenvectors = linalg.eig(M)\n",
    "    rho = numpy.amax(numpy.absolute(eigenvalues))\n",
    "    if (rho > 1):\n",
    "        print(\"Jacobi will not converge as the \"\n",
    "              \"largest eigenvalue of\\n\"\n",
    "              \"the convergence matrix is {}\"\\\n",
    "              .format(rho))\n",
    "    \n",
    "    for j in range(MaxSteps):\n",
    "        x_old = x.copy()\n",
    "        x = bnorm + numpy.dot(AL + AU, x)\n",
    "        if (linalg.norm(x - x_old) < tolerance):\n",
    "            print(\"Jacobi converged in {} iterations.\".format(j))\n",
    "            break\n",
    "    \n",
    "    return x"
   ]
  },
  {
   "cell_type": "code",
   "execution_count": 8,
   "metadata": {
    "collapsed": false
   },
   "outputs": [
    {
     "name": "stdout",
     "output_type": "stream",
     "text": [
      "Jacobi will not converge as the largest eigenvalue of\n",
      "the convergence matrix is 1.3106140806317024\n",
      "Jacobi method solution (fails to converge!) of A x = f where\n",
      "\n",
      "A = [[ 64.   8.  48.]\n",
      " [ 24.  28.  53.]\n",
      " [ 32.  49.  91.]]\n",
      "\n",
      "f = [ 3.  2.  1.]\n",
      "\n",
      " is\n",
      "\n",
      "x = [ -5.57434317e+09  -1.42774902e+10  -7.36150183e+09]\n",
      "True solution is\n",
      "\n",
      "x = [ 0.34078125  0.76125    -0.51875   ]\n",
      "\n",
      "\n",
      "Jacobi converged in 19 iterations.\n",
      "Jacobi method solution of A x = f where\n",
      "\n",
      "A = [[ 1.10185185 -0.51851852 -0.88888889]\n",
      " [ 0.12962963  1.7037037   0.77777778]\n",
      " [ 0.0462963   0.03703704  1.27777778]]\n",
      "\n",
      "f = [ 3.  2.  1.]\n",
      "\n",
      " is\n",
      "\n",
      "x = [ 3.52592593  0.61481481  0.63703704]\n",
      "True solution is\n",
      "\n",
      "x = [ 3.52592593  0.61481481  0.63703704]\n"
     ]
    }
   ],
   "source": [
    "B = numpy.array([[64.0, 8.0, 48.0],\n",
    "                 [24.0, 28.0, 53.0],\n",
    "                 [32.0, 49.0, 91.0]])\n",
    "C = numpy.array([[119.0/108.0, -14.0/27.0, -8.0/9.0],\n",
    "                 [7.0/54.0, 46.0/27.0, 7.0/9.0],\n",
    "                 [5.0/108.0, 1.0/27.0, 23.0/18.0]])\n",
    "b = numpy.array([3.0, 2.0, 1.0])\n",
    "\n",
    "x1 = Jacobi(B, b)\n",
    "print(\"Jacobi method solution (fails to converge!) of A x = f where\"\\\n",
    "      \"\\n\\nA = {}\\n\\nf = {}\\n\\n is\\n\\nx = {}\".format(B, b, x1))\n",
    "print(\"True solution is\\n\\nx = {}\\n\\n\".format(linalg.solve(B, b)))\n",
    "x2 = Jacobi(C, b)\n",
    "print(\"Jacobi method solution of A x = f where\"\\\n",
    "      \"\\n\\nA = {}\\n\\nf = {}\\n\\n is\\n\\nx = {}\".format(C, b, x2))\n",
    "print(\"True solution is\\n\\nx = {}\".format(linalg.solve(C, b)))\n"
   ]
  },
  {
   "cell_type": "markdown",
   "metadata": {},
   "source": [
    "We note that the original problem failed to converge, as indicated by the spectral radius of the convergence matrix."
   ]
  },
  {
   "cell_type": "markdown",
   "metadata": {},
   "source": [
    "## Coding Question 4"
   ]
  },
  {
   "cell_type": "markdown",
   "metadata": {},
   "source": [
    "Implement the Gauss-Seidel method, applying it to the convergent problem above. Compare the convergence rate to Jacobi."
   ]
  },
  {
   "cell_type": "markdown",
   "metadata": {},
   "source": [
    "### Answer Coding Question 4"
   ]
  },
  {
   "cell_type": "code",
   "execution_count": 9,
   "metadata": {
    "collapsed": false
   },
   "outputs": [],
   "source": [
    "def GaussSeidel(A, b, tolerance = 1.e-10, MaxSteps = 100):\n",
    "    \"\"\"\n",
    "    Solve the linear system A x = b using the Gauss-Seidel method, \n",
    "    starting from the trivial initial guess.\n",
    "    \"\"\"\n",
    "    \n",
    "    x = numpy.zeros_like(b)\n",
    "    \n",
    "    Anorm = A.copy()\n",
    "    bnorm = b.copy()\n",
    "    n = len(b)\n",
    "    \n",
    "    for i in range(n):\n",
    "        bnorm[i] /= A[i, i]\n",
    "        Anorm[i, :] /= A[i, i]\n",
    "    \n",
    "    # Compute the split\n",
    "    D = numpy.eye(n)\n",
    "    AL = linalg.tril(D - Anorm)\n",
    "    AU = linalg.triu(D - Anorm)\n",
    "    N = numpy.eye(n) - AL\n",
    "    P = AU\n",
    "    \n",
    "    # Compute the convergence matrix and check its spectral radius\n",
    "    M = numpy.dot(linalg.inv(N), P)\n",
    "    eigenvalues, eigenvectors = linalg.eig(M)\n",
    "    rho = numpy.amax(numpy.absolute(eigenvalues))\n",
    "    if (rho > 1):\n",
    "        print(\"Gauss-Seidel will not converge as the\"\n",
    "              \" largest eigenvalue of\\n\"\n",
    "              \"the convergence matrix is {}\".format(rho))\n",
    "    \n",
    "    for j in range(MaxSteps):\n",
    "        x_old = x.copy()\n",
    "        for i in range(n):\n",
    "            x[i] = bnorm[i] + numpy.dot(AL[i, :], x) + numpy.dot(AU[i, :],\n",
    "                                                                 x_old)\n",
    "        if (linalg.norm(x - x_old) < tolerance):\n",
    "            print(\"Gauss-Seidel converged in {} iterations.\".format(j))\n",
    "            break\n",
    "    \n",
    "    return x"
   ]
  },
  {
   "cell_type": "code",
   "execution_count": 10,
   "metadata": {
    "collapsed": false
   },
   "outputs": [
    {
     "name": "stdout",
     "output_type": "stream",
     "text": [
      "Gauss-Seidel converged in 12 iterations.\n",
      "Gauss-Seidel method solution of A x = f where\n",
      "\n",
      "A = [[ 1.10185185 -0.51851852 -0.88888889]\n",
      " [ 0.12962963  1.7037037   0.77777778]\n",
      " [ 0.0462963   0.03703704  1.27777778]]\n",
      "\n",
      "f = [ 3.  2.  1.]\n",
      "\n",
      " is\n",
      "\n",
      "x = [ 3.52592593  0.61481481  0.63703704]\n",
      "True solution is\n",
      "\n",
      "x = [ 3.52592593  0.61481481  0.63703704]\n"
     ]
    }
   ],
   "source": [
    "C = numpy.array([[119.0/108.0, -14.0/27.0, -8.0/9.0],\n",
    "                 [7.0/54.0, 46.0/27.0, 7.0/9.0],\n",
    "                 [5.0/108.0, 1.0/27.0, 23.0/18.0]])\n",
    "b = numpy.array([3.0, 2.0, 1.0])\n",
    "\n",
    "x = GaussSeidel(C, b)\n",
    "print(\"Gauss-Seidel method solution of A x = f where\"\\\n",
    "      \"\\n\\nA = {}\\n\\nf = {}\\n\\n is\\n\\nx = {}\".format(C, b, x))\n",
    "print(\"True solution is\\n\\nx = {}\".format(linalg.solve(C, b)))"
   ]
  },
  {
   "cell_type": "markdown",
   "metadata": {},
   "source": [
    "As expected, the number of iterations to convergence is considerably reduced. Note that we could reduce the number of operations taken by the Gauss-Seidel algorithm - the dot products in the update term do not need to range over the entire row, as many of the entries are zero."
   ]
  },
  {
   "cell_type": "markdown",
   "metadata": {},
   "source": [
    "## Coding Question 5"
   ]
  },
  {
   "cell_type": "markdown",
   "metadata": {},
   "source": [
    "Implement the chord method to find the root of\n",
    "\n",
    "$$\n",
    "  f(x) = \\tan (x) - e^{-x}, \\quad x \\in [0, 1].\n",
    "$$"
   ]
  },
  {
   "cell_type": "markdown",
   "metadata": {},
   "source": [
    "### Answer Coding Question 5"
   ]
  },
  {
   "cell_type": "code",
   "execution_count": 11,
   "metadata": {
    "collapsed": false
   },
   "outputs": [],
   "source": [
    "def chord(f, m, x0, tolerance = 1e-10, MaxSteps = 100):\n",
    "    \"\"\"\n",
    "    Implement the chord method to find the root of the equation f(x) = 0, \n",
    "    starting from the initial guess x^{(0)} = x0.\n",
    "    \"\"\"\n",
    "    \n",
    "    x = numpy.zeros(MaxSteps)\n",
    "    x[0] = x0\n",
    "    \n",
    "    # Set up the map g\n",
    "    g = lambda x: x - m * f(x)\n",
    "    \n",
    "    for i in range(1, MaxSteps):\n",
    "        x[i] = g(x[i-1])\n",
    "        if (numpy.absolute(f(x[i])) < tolerance):\n",
    "            break\n",
    "    return x[:i+1]"
   ]
  },
  {
   "cell_type": "markdown",
   "metadata": {},
   "source": [
    "Note that we have already defined the function whose root we wish to find in worksheet 1:"
   ]
  },
  {
   "cell_type": "code",
   "execution_count": 12,
   "metadata": {
    "collapsed": false
   },
   "outputs": [],
   "source": [
    "def fn_worksheet1_q4(x):\n",
    "    \"\"\"\n",
    "    Simple function defined in question, f(x) = tan(x) - exp(-x).\n",
    "    \"\"\"\n",
    "    \n",
    "    return numpy.tan(x) - numpy.exp(-x)"
   ]
  },
  {
   "cell_type": "code",
   "execution_count": 13,
   "metadata": {
    "collapsed": false
   },
   "outputs": [
    {
     "name": "stdout",
     "output_type": "stream",
     "text": [
      "The root is approximately 0.53139 where f is -3.4354e-12 after 9 steps.\n",
      "\n"
     ]
    },
    {
     "data": {
      "image/png": "[encoded data removed]",
      "text/plain": [
       "<matplotlib.figure.Figure at 0x10ec5b9b0>"
      ]
     },
     "metadata": {},
     "output_type": "display_data"
    }
   ],
   "source": [
    "from matplotlib import pyplot\n",
    "\n",
    "# Note that over the interval [0, 1] f' is between 2 and 4.\n",
    "# We need 0 < m f' < 2, so choose m = 0.5\n",
    "# We will also start from x = 0.\n",
    "\n",
    "x = chord(fn_worksheet1_q4, 0.5, 0.0)\n",
    "print(\"The root is approximately {:.5} where f is {:.5}\"\n",
    "      \" after {} steps.\\n\"\\\n",
    "    .format(x[-1], fn_worksheet1_q4(x[-1]), len(x)))\n",
    "      \n",
    "fig = pyplot.figure(figsize = (12, 8), dpi = 50)\n",
    "pyplot.semilogy(range(len(x)-1), numpy.absolute(x[:-1] - x[-1]), 'kx')\n",
    "pyplot.xlabel('Iteration', size = 16)\n",
    "pyplot.ylabel('$|x_i - x_{final}|$', size = 16)\n",
    "pyplot.show()"
   ]
  }
 ],
 "metadata": {
  "kernelspec": {
   "display_name": "Python 3",
   "language": "python",
   "name": "python3"
  },
  "language_info": {
   "codemirror_mode": {
    "name": "ipython",
    "version": 3
   },
   "file_extension": ".py",
   "mimetype": "text/x-python",
   "name": "python",
   "nbconvert_exporter": "python",
   "pygments_lexer": "ipython3",
   "version": "3.4.4"
  }
 },
 "nbformat": 4,
 "nbformat_minor": 0
}
