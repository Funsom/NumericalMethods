{
 "metadata": {
  "name": ""
 },
 "nbformat": 3,
 "nbformat_minor": 0,
 "worksheets": [
  {
   "cells": [
    {
     "cell_type": "heading",
     "level": 1,
     "metadata": {},
     "source": [
      "Worksheet 2"
     ]
    },
    {
     "cell_type": "code",
     "collapsed": false,
     "input": [
      "%matplotlib inline"
     ],
     "language": "python",
     "metadata": {},
     "outputs": [],
     "prompt_number": 3
    },
    {
     "cell_type": "code",
     "collapsed": false,
     "input": [
      "import ngcm_utils as ngcm"
     ],
     "language": "python",
     "metadata": {},
     "outputs": [],
     "prompt_number": 4
    },
    {
     "cell_type": "heading",
     "level": 2,
     "metadata": {},
     "source": [
      "Question 1"
     ]
    },
    {
     "cell_type": "markdown",
     "metadata": {},
     "source": [
      "Perform the $LU$ decomposition of\n",
      "\n",
      "\\begin{equation}\n",
      "  A = \\begin{pmatrix} 1 & 3 \\\\ 4 & 16 \\end{pmatrix}.\n",
      "\\end{equation}\n",
      "\n",
      "Use both standard factorisation methods."
     ]
    },
    {
     "cell_type": "heading",
     "level": 3,
     "metadata": {},
     "source": [
      "Answer 1"
     ]
    },
    {
     "cell_type": "markdown",
     "metadata": {},
     "source": [
      "The general algorithm is laid out in the notes. In particular, when calculating the next entry, we will need to either use the formula\n",
      "\n",
      "\\begin{equation}\n",
      "  u_{k j} = \\left( a_{k j} - \\sum_{s = 1}^{k - 1} \\ell_{k s} u_{s j} \\right) / \\ell_{k k}\n",
      "\\end{equation}\n",
      "or\n",
      "\\begin{equation}\n",
      "  \\ell_{i k} = \\left( a_{i k} - \\sum_{s = 1}^{k - 1} \\ell_{i s} u_{s k} \\right) / u_{k k}.\n",
      "\\end{equation}\n"
     ]
    },
    {
     "cell_type": "heading",
     "level": 4,
     "metadata": {},
     "source": [
      "Doolittle factorisation"
     ]
    },
    {
     "cell_type": "markdown",
     "metadata": {},
     "source": [
      "First consider the Doolittle factorisation, where the diagonal elements of $L$, $\\ell_{k k}$ are set to 1.\n",
      "\n",
      "Build the first entry of $U$ using\n",
      "\n",
      "\\begin{equation}\n",
      "  u_{1 1} = \\left( a_{1 1} - \\sum_{s = 1}^{0} \\ell_{1 s} u_{s 1} \\right) / \\ell_{1 1} = a_{1 1} = 1.\n",
      "\\end{equation}\n",
      "\n",
      "Then work along the first row of $U$, finding\n",
      "\n",
      "\\begin{equation}\n",
      "  u_{1 2} = \\left( a_{1 2} - \\sum_{s = 1}^{0} \\ell_{1 s} u_{s 2} \\right) / \\ell_{1 1} = a_{1 2} = 3.\n",
      "\\end{equation}\n",
      "\n",
      "We can then work down the first column of $L$, finding\n",
      "\n",
      "\\begin{equation}\n",
      "  \\ell_{2 1} = \\left( a_{2 1} - \\sum_{s = 1}^{0} \\ell_{2 s} u_{s 1} \\right) / u_{1 1} = a_{2 1} / u_{1 1} = 4.\n",
      "\\end{equation}\n",
      "\n",
      "Finally we need the bottom right element of $U$, finding\n",
      "\n",
      "\\begin{equation}\n",
      "  u_{2 2} = \\left( a_{2 2} - \\sum_{s = 1}^{1} \\ell_{2 s} u_{s 2} \\right) / \\ell_{2 2} = a_{2 2} - \\ell_{2 1} u_{1 2} = 16 - 4 \\times 3 = 4.\n",
      "\\end{equation}\n",
      "\n",
      "Hence we have\n",
      "\n",
      "\\begin{equation}\n",
      "  L = \\begin{pmatrix} 1 & 0 \\\\ 4 & 1 \\end{pmatrix} \\quad U = \\begin{pmatrix} 1 & 3 \\\\ 0 & 4 \\end{pmatrix}.\n",
      "\\end{equation}"
     ]
    },
    {
     "cell_type": "heading",
     "level": 4,
     "metadata": {},
     "source": [
      "Crout factorisation"
     ]
    },
    {
     "cell_type": "markdown",
     "metadata": {},
     "source": [
      "Next consider the Crout factorisation, where the diagonal elements of $U$, $u_{k k}$ are set to 1.\n",
      "\n",
      "Build the first entry of $L$ using\n",
      "\n",
      "\\begin{equation}\n",
      "  \\ell_{1 1} = \\left( a_{1 1} - \\sum_{s = 1}^{0} \\ell_{1 s} u_{s 1} \\right) / u_{1 1} = a_{1 1} = 1.\n",
      "\\end{equation}\n",
      "\n",
      "We can then work along the first row of $U$, finding\n",
      "\n",
      "\\begin{equation}\n",
      "  u_{1 2} = \\left( a_{1 2} - \\sum_{s = 1}^{0} \\ell_{1 s} u_{s 2} \\right) / \\ell_{1 1} = a_{1 2} = 3.\n",
      "\\end{equation}\n",
      "\n",
      "Then work down the first column of $L$, finding\n",
      "\n",
      "\\begin{equation}\n",
      "  \\ell_{2 1} = \\left( a_{2 1} - \\sum_{s = 1}^{0} \\ell_{2 s} u_{s 1} \\right) / u_{1 1} = a_{2 1} / u_{1 1} = 4.\n",
      "\\end{equation}\n",
      "\n",
      "Finally we need the bottom right element of $L$, finding\n",
      "\n",
      "\\begin{equation}\n",
      "  \\ell_{2 2} = \\left( a_{2 2} - \\sum_{s = 1}^{1} \\ell_{2 s} u_{s 2} \\right) / u_{2 2} = a_{2 2} - \\ell_{2 1} u_{1 2} = 16 - 4 \\times 3 = 4.\n",
      "\\end{equation}\n",
      "\n",
      "Hence we have\n",
      "\n",
      "\\begin{equation}\n",
      "  L = \\begin{pmatrix} 1 & 0 \\\\ 4 & 4 \\end{pmatrix} \\quad U = \\begin{pmatrix} 1 & 3 \\\\ 0 & 1 \\end{pmatrix}.\n",
      "\\end{equation}\n",
      "\n",
      "Note that in this case only one entry between the matrices has been switched: in general the results may be very different."
     ]
    },
    {
     "cell_type": "heading",
     "level": 2,
     "metadata": {},
     "source": [
      "Question 2"
     ]
    },
    {
     "cell_type": "markdown",
     "metadata": {},
     "source": [
      "Write out the Thomas algorithm for a tridiagonal system."
     ]
    },
    {
     "cell_type": "heading",
     "level": 3,
     "metadata": {},
     "source": [
      "Answer 2"
     ]
    },
    {
     "cell_type": "markdown",
     "metadata": {},
     "source": [
      "We assume that the tridiagonal matrix $A$ has diagonal entries $b_i , i = 1, . . . , N$, sub-diagonal entries $a_j , j = 1, . . . , N \u2212 1$, and super-diagonal entries $c_j , j = 1, . . . , N \u2212 1$. We assume that we are trying to solve the problem\n",
      "\n",
      "\\begin{equation}\n",
      "  A {\\bf x} = {\\bf f},\n",
      "\\end{equation}\n",
      "\n",
      "which has size $N$.\n",
      "\n",
      "The Thomas algorithm is essentially Gaussian elimination; forward elimination is used to get an upper triangular problem, and then back substitution used to find the answer. The tridiagonal nature of the problem means that it is sufficiently simple to write it out explicitly.\n",
      "\n",
      "The first step is the forward elimination process. This yields the system\n",
      "\n",
      "\\begin{equation}\n",
      "  B {\\bf x} = {\\bf y},\n",
      "\\end{equation}\n",
      "\n",
      "where $B$ has entries only on the diagonal, and these entries are all 1, and on the super-diagonal,\n",
      "which are written as $c_j /d_j , j = 1, . . . , N \u2212 1$. The vectors ${\\bf d}, {\\bf y}$ are given by the procedure\n",
      "\n",
      "1. At the first step $d_1 = b_1$ and $y_1 = f_1 /d_1$ ;\n",
      "2. At the $k$-th step $d_k = b_k \u2212 a_{k\u22121} c_{k\u22121} / d_{k\u22121}$ and $y_k = (f_k \u2212 y_{k\u22121} a_{k\u22121} ) / d_k$.\n",
      "\n",
      "We can then solve this simplified system using back substitution to find\n",
      "\n",
      "1. At the first step $x_N = y_N$;\n",
      "2. In reverse order, $k = N \u2212 1, . . . , 1$ we have $x_k = y_k \u2212 x_{k+1} c_k / d_k$.\n"
     ]
    },
    {
     "cell_type": "heading",
     "level": 2,
     "metadata": {},
     "source": [
      "Question 3"
     ]
    },
    {
     "cell_type": "markdown",
     "metadata": {},
     "source": [
      "Write down the general framework for iterative methods for linear systems. Give the convergence matrix. If the linear system uses the matrix $A$ above, will an iterative method converge? [Hint: remember what to do with the diagonal entries]"
     ]
    },
    {
     "cell_type": "heading",
     "level": 3,
     "metadata": {},
     "source": [
      "Answer 3"
     ]
    },
    {
     "cell_type": "markdown",
     "metadata": {},
     "source": [
      "The system to be solved is\n",
      "\n",
      "\\begin{equation}\n",
      "  A {\\bf x} = {\\bf b},\n",
      "\\end{equation}\n",
      "\n",
      "with $\\det(A) = 0$. We first scale the problem such that all diagonal entries of $A$ are 1. We split the coefficient matrix $A$ into the matrices $N$, $P$, such that\n",
      "\n",
      "\\begin{equation}\n",
      "  A = N \u2212 P\n",
      "\\end{equation}\n",
      "\n",
      "where $\\det(N) = 0$. We therefore have that\n",
      "\n",
      "\\begin{equation}\n",
      "  N {\\bf x} = P {\\bf x} + {\\bf b}\n",
      "\\end{equation}\n",
      "\n",
      "and we use this to write an iteration scheme as\n",
      "\n",
      "\\begin{equation}\n",
      "  N {\\bf x}^{(n)} = P {\\bf x}^{(n\u22121)} + {\\bf b}, \\quad n = 1, 2, 3, \\dots\n",
      "\\end{equation}\n",
      "\n",
      "where we start from some arbitrary initial guess $x^{(0)}$.\n",
      "\n",
      "The convergence matrix $M$ is given by $M = N^{\u22121} P$. Convergence is guaranteed if the spectral radius of $M$, which is the largest eigenvalue (in magnitude), is less than one. For the matrix given in the first part we have the rescaled $A$ is\n",
      "\n",
      "\\begin{equation}\n",
      "  A = \\begin{pmatrix} 1 & 3 \\\\ 4 & 16 \\end{pmatrix}.\n",
      "\\end{equation}\n",
      "\n",
      "Clearly to talk about convergence we need to first decide how to split $A$ into $N$, $P$ matrices. For simplicity we consider Jacobi\u2019s method for which $N = I$ and hence we have\n",
      "\n",
      "\\begin{align}\n",
      "  && N & = \\begin{pmatrix} 1 & 0 \\\\ 0 & 1 \\end{pmatrix}, \\\\\n",
      "  && P & = \\begin{pmatrix} 0 & -3 \\\\ -1/4 & 0 \\end{pmatrix}, \\\\\n",
      "  && M & = N^{-1} P \\\\\n",
      "  &&   & = P \\\\\n",
      "  &&   & = \\begin{pmatrix} 0 & -3 \\\\ -1/4 & 0 \\end{pmatrix} \\\\\n",
      "  \\implies && \\rho(M) & = \\max_i | \\lambda_i | \\\\\n",
      "  &&   & = \\max \\left\\{ \\pm \\sqrt{3/4} \\right\\} \\\\\n",
      "  &&   & = \\sqrt{3/4} \\\\\n",
      "  &&   & < 1.\n",
      "\\end{align}\n",
      "\n",
      "Therefore Jacobi will converge for this matrix."
     ]
    },
    {
     "cell_type": "heading",
     "level": 2,
     "metadata": {},
     "source": [
      "Question 4"
     ]
    },
    {
     "cell_type": "markdown",
     "metadata": {},
     "source": [
      "Check which of the matrices on this sheet are diagonally dominant."
     ]
    },
    {
     "cell_type": "heading",
     "level": 3,
     "metadata": {},
     "source": [
      "Answer 4"
     ]
    },
    {
     "cell_type": "markdown",
     "metadata": {},
     "source": [
      "For (strict) diagonal dominance we need the absolute value of the diagonal coefficient to be (strictly) greater than the sum of the absolute values of all other coefficients in the row.\n",
      "\n",
      "For $A$ this is not true; for the first row we have $1 \\not{>} 3$, although dominance holds for the second row.\n",
      "\n",
      "For $B$ it is not true; for the second row we have $28 \\not{>} 24 + 53$, although dominance holds for the other rows.\n",
      "\n",
      "For $C$ it is not true; for the first row it fails, although dominance holds for the other rows."
     ]
    },
    {
     "cell_type": "heading",
     "level": 2,
     "metadata": {},
     "source": [
      "Question 5"
     ]
    },
    {
     "cell_type": "markdown",
     "metadata": {},
     "source": [
      "Briefly explain what is meant by quadrature methods based on polynomial interpolation."
     ]
    },
    {
     "cell_type": "heading",
     "level": 3,
     "metadata": {},
     "source": [
      "Answer 5"
     ]
    },
    {
     "cell_type": "markdown",
     "metadata": {},
     "source": [
      "*Standard exam question; see, e.g., 07/08.*\n",
      "\n",
      "The function $f(x)$ to be integrated is replaced by an interpolating function, in this case a polynomial of degree $n$, that interpolates it at $n + 1$ *nodes* $x_j , j = 0, 1, \\dots , n$. In general, when constructing a compound quadrature formula, we may split the interval into subintervals, each subinterval containing $n + 1$ nodes, and use a polynomial interpolating function on each subinterval. The integral of the function is approximated by the integral of the (piecewise polynomial) interpolating function."
     ]
    },
    {
     "cell_type": "heading",
     "level": 2,
     "metadata": {},
     "source": [
      "Question 6"
     ]
    },
    {
     "cell_type": "markdown",
     "metadata": {},
     "source": [
      "Write down the contraction mapping theorem. Check that $g(x) = \\cos(x)$ is contracting on the unit interval."
     ]
    },
    {
     "cell_type": "heading",
     "level": 3,
     "metadata": {},
     "source": [
      "Answer 6"
     ]
    },
    {
     "cell_type": "markdown",
     "metadata": {},
     "source": [
      "The contraction mapping theorem is\n",
      "\n",
      "> If $g(x)$ is a contraction mapping in an interval $I = [a, b]$ then there exists one and only one fixed point of the map in $[a, b]$.\n",
      "\n",
      "In order to state we need the definition of a contraction mapping, which is\n",
      "\n",
      "> **Definition** - A continuous map $g(x)$ from an interval $I = [a, b] \\subseteq {\\mathbb R}$ into ${\\mathbb R}$ is contracting (or a contraction mapping) if\n",
      ">\n",
      "> 1. the image of $I$ is contained in $I$:\n",
      "> \\begin{align}\n",
      "    && g(I) &\\subseteq I \\\\\n",
      "    \\Leftrightarrow && g(x) & \\in I \\quad \\forall x \\in I.\n",
      "  \\end{align}\n",
      "> 2. the function $g(x)$ is Lipschitz continuous in $I$ with Lipschitz constant $L < 1$:\n",
      "> \\begin{equation}\n",
      "    |g(x) \u2212 g(y)| \\leq L |x \u2212 y| \\quad \\forall x, y \\in I.\n",
      "  \\end{equation}\n",
      "\n",
      "Given this we want to check $g(x) = \\cos(x)$ on $I = [0, 1]$. We have that $g$ is continuous and differentiable, so it must be Lipschitz continuous. We know that $L < \\max_x \\in I | g(x) |$ so we look at $g = \u2212 \\sin(x)$. We note that the extrema of $g$ occur when $g = \u2212 \\cos(x) = 0$ which is at $x = (n + 1/2) \\pi$, of which none occur in the interval $[0, 1]$. We also note that $g$ is monotonic on the interval. Therefore the extreme values of $g$ are taken at the ends of the interval and are $[0, \u2212 \\sin(1)]$, which are both less than 1 in absolute value. So $L < 1$.\n",
      "\n",
      "We also need to check that $g(I) \\subseteq I$. Again we note that $g$ is monotonic on the interval. Hence we only need to check that $g(0) = 1 \\in I$ and $g(1) = \\cos(1) \\in I$, both of which hold. Therefore the map is contracting."
     ]
    },
    {
     "cell_type": "heading",
     "level": 2,
     "metadata": {},
     "source": [
      "Coding Question 1"
     ]
    },
    {
     "cell_type": "markdown",
     "metadata": {},
     "source": [
      "Write a code to do $LU$ decomposition. Check the decomposition of\n",
      "\n",
      "\\begin{equation}\n",
      "  B = \\begin{pmatrix} 64 & 8 & 48 \\\\ 24 & 28 & 53 \\\\ 32 & 49 & 91 \\end{pmatrix}.\n",
      "\\end{equation}"
     ]
    },
    {
     "cell_type": "markdown",
     "metadata": {},
     "source": [
      "First we should note that python has an $LU$ decomposition algorithm in `scipy.linalg.lu` or `scipy.linalg.lu_factor`. The results produced by that algorithm will not necessarilly match those produced from the algorithm in the notes, as the python implementation includes pivoting (which is the best thing to do in a practical code, but not considered here).\n",
      "\n",
      "Instead we re-implement the algorithm without pivoting. We will use the Doolittle factorisation."
     ]
    },
    {
     "cell_type": "heading",
     "level": 3,
     "metadata": {},
     "source": [
      "Answer Coding Question 1"
     ]
    },
    {
     "cell_type": "code",
     "collapsed": false,
     "input": [
      "import numpy as np\n",
      "import scipy.linalg as la\n",
      "\n",
      "import Worksheet2_Functions as w2"
     ],
     "language": "python",
     "metadata": {},
     "outputs": [],
     "prompt_number": 5
    },
    {
     "cell_type": "code",
     "collapsed": false,
     "input": [
      "ngcm.highlight_source(\"Worksheet2_Functions\", \"LU_decomposition\")"
     ],
     "language": "python",
     "metadata": {},
     "outputs": [
      {
       "html": [
        "<!DOCTYPE html PUBLIC \"-//W3C//DTD HTML 4.01//EN\"\n",
        "   \"http://www.w3.org/TR/html4/strict.dtd\">\n",
        "\n",
        "<html>\n",
        "<head>\n",
        "  <title></title>\n",
        "  <meta http-equiv=\"content-type\" content=\"text/html; charset=None\">\n",
        "  <style type=\"text/css\">\n",
        "td.linenos { background-color: #f0f0f0; padding-right: 10px; }\n",
        "span.lineno { background-color: #f0f0f0; padding: 0 5px 0 5px; }\n",
        "pre { line-height: 125%; }\n",
        "body .hll { background-color: #ffffcc }\n",
        "body  { background: #f8f8f8; }\n",
        "body .c { color: #408080; font-style: italic } /* Comment */\n",
        "body .err { border: 1px solid #FF0000 } /* Error */\n",
        "body .k { color: #008000; font-weight: bold } /* Keyword */\n",
        "body .o { color: #666666 } /* Operator */\n",
        "body .cm { color: #408080; font-style: italic } /* Comment.Multiline */\n",
        "body .cp { color: #BC7A00 } /* Comment.Preproc */\n",
        "body .c1 { color: #408080; font-style: italic } /* Comment.Single */\n",
        "body .cs { color: #408080; font-style: italic } /* Comment.Special */\n",
        "body .gd { color: #A00000 } /* Generic.Deleted */\n",
        "body .ge { font-style: italic } /* Generic.Emph */\n",
        "body .gr { color: #FF0000 } /* Generic.Error */\n",
        "body .gh { color: #000080; font-weight: bold } /* Generic.Heading */\n",
        "body .gi { color: #00A000 } /* Generic.Inserted */\n",
        "body .go { color: #888888 } /* Generic.Output */\n",
        "body .gp { color: #000080; font-weight: bold } /* Generic.Prompt */\n",
        "body .gs { font-weight: bold } /* Generic.Strong */\n",
        "body .gu { color: #800080; font-weight: bold } /* Generic.Subheading */\n",
        "body .gt { color: #0044DD } /* Generic.Traceback */\n",
        "body .kc { color: #008000; font-weight: bold } /* Keyword.Constant */\n",
        "body .kd { color: #008000; font-weight: bold } /* Keyword.Declaration */\n",
        "body .kn { color: #008000; font-weight: bold } /* Keyword.Namespace */\n",
        "body .kp { color: #008000 } /* Keyword.Pseudo */\n",
        "body .kr { color: #008000; font-weight: bold } /* Keyword.Reserved */\n",
        "body .kt { color: #B00040 } /* Keyword.Type */\n",
        "body .m { color: #666666 } /* Literal.Number */\n",
        "body .s { color: #BA2121 } /* Literal.String */\n",
        "body .na { color: #7D9029 } /* Name.Attribute */\n",
        "body .nb { color: #008000 } /* Name.Builtin */\n",
        "body .nc { color: #0000FF; font-weight: bold } /* Name.Class */\n",
        "body .no { color: #880000 } /* Name.Constant */\n",
        "body .nd { color: #AA22FF } /* Name.Decorator */\n",
        "body .ni { color: #999999; font-weight: bold } /* Name.Entity */\n",
        "body .ne { color: #D2413A; font-weight: bold } /* Name.Exception */\n",
        "body .nf { color: #0000FF } /* Name.Function */\n",
        "body .nl { color: #A0A000 } /* Name.Label */\n",
        "body .nn { color: #0000FF; font-weight: bold } /* Name.Namespace */\n",
        "body .nt { color: #008000; font-weight: bold } /* Name.Tag */\n",
        "body .nv { color: #19177C } /* Name.Variable */\n",
        "body .ow { color: #AA22FF; font-weight: bold } /* Operator.Word */\n",
        "body .w { color: #bbbbbb } /* Text.Whitespace */\n",
        "body .mf { color: #666666 } /* Literal.Number.Float */\n",
        "body .mh { color: #666666 } /* Literal.Number.Hex */\n",
        "body .mi { color: #666666 } /* Literal.Number.Integer */\n",
        "body .mo { color: #666666 } /* Literal.Number.Oct */\n",
        "body .sb { color: #BA2121 } /* Literal.String.Backtick */\n",
        "body .sc { color: #BA2121 } /* Literal.String.Char */\n",
        "body .sd { color: #BA2121; font-style: italic } /* Literal.String.Doc */\n",
        "body .s2 { color: #BA2121 } /* Literal.String.Double */\n",
        "body .se { color: #BB6622; font-weight: bold } /* Literal.String.Escape */\n",
        "body .sh { color: #BA2121 } /* Literal.String.Heredoc */\n",
        "body .si { color: #BB6688; font-weight: bold } /* Literal.String.Interpol */\n",
        "body .sx { color: #008000 } /* Literal.String.Other */\n",
        "body .sr { color: #BB6688 } /* Literal.String.Regex */\n",
        "body .s1 { color: #BA2121 } /* Literal.String.Single */\n",
        "body .ss { color: #19177C } /* Literal.String.Symbol */\n",
        "body .bp { color: #008000 } /* Name.Builtin.Pseudo */\n",
        "body .vc { color: #19177C } /* Name.Variable.Class */\n",
        "body .vg { color: #19177C } /* Name.Variable.Global */\n",
        "body .vi { color: #19177C } /* Name.Variable.Instance */\n",
        "body .il { color: #666666 } /* Literal.Number.Integer.Long */\n",
        "\n",
        "  </style>\n",
        "</head>\n",
        "<body>\n",
        "<h2></h2>\n",
        "\n",
        "<div class=\"highlight\"><pre><span class=\"k\">def</span> <span class=\"nf\">LU_decomposition</span><span class=\"p\">(</span><span class=\"n\">A</span><span class=\"p\">):</span>\n",
        "    <span class=\"sd\">&quot;&quot;&quot;Perform LU decomposition using the Doolittle factorisation.&quot;&quot;&quot;</span>\n",
        "    \n",
        "    <span class=\"n\">L</span> <span class=\"o\">=</span> <span class=\"n\">np</span><span class=\"o\">.</span><span class=\"n\">zeros_like</span><span class=\"p\">(</span><span class=\"n\">A</span><span class=\"p\">)</span>\n",
        "    <span class=\"n\">U</span> <span class=\"o\">=</span> <span class=\"n\">np</span><span class=\"o\">.</span><span class=\"n\">zeros_like</span><span class=\"p\">(</span><span class=\"n\">A</span><span class=\"p\">)</span>\n",
        "    <span class=\"n\">N</span> <span class=\"o\">=</span> <span class=\"n\">np</span><span class=\"o\">.</span><span class=\"n\">size</span><span class=\"p\">(</span><span class=\"n\">A</span><span class=\"p\">,</span> <span class=\"mi\">0</span><span class=\"p\">)</span>\n",
        "    \n",
        "    <span class=\"k\">for</span> <span class=\"n\">k</span> <span class=\"ow\">in</span> <span class=\"nb\">range</span><span class=\"p\">(</span><span class=\"n\">N</span><span class=\"p\">):</span>\n",
        "        <span class=\"n\">L</span><span class=\"p\">[</span><span class=\"n\">k</span><span class=\"p\">,</span> <span class=\"n\">k</span><span class=\"p\">]</span> <span class=\"o\">=</span> <span class=\"mi\">1</span>\n",
        "        <span class=\"n\">U</span><span class=\"p\">[</span><span class=\"n\">k</span><span class=\"p\">,</span> <span class=\"n\">k</span><span class=\"p\">]</span> <span class=\"o\">=</span> <span class=\"p\">(</span><span class=\"n\">A</span><span class=\"p\">[</span><span class=\"n\">k</span><span class=\"p\">,</span> <span class=\"n\">k</span><span class=\"p\">]</span> <span class=\"o\">-</span> <span class=\"n\">np</span><span class=\"o\">.</span><span class=\"n\">dot</span><span class=\"p\">(</span><span class=\"n\">L</span><span class=\"p\">[</span><span class=\"n\">k</span><span class=\"p\">,</span> <span class=\"p\">:</span><span class=\"n\">k</span><span class=\"p\">],</span> <span class=\"n\">U</span><span class=\"p\">[:</span><span class=\"n\">k</span><span class=\"p\">,</span> <span class=\"n\">k</span><span class=\"p\">]))</span> <span class=\"o\">/</span> <span class=\"n\">L</span><span class=\"p\">[</span><span class=\"n\">k</span><span class=\"p\">,</span> <span class=\"n\">k</span><span class=\"p\">]</span>\n",
        "        <span class=\"k\">for</span> <span class=\"n\">j</span> <span class=\"ow\">in</span> <span class=\"nb\">range</span><span class=\"p\">(</span><span class=\"n\">k</span><span class=\"o\">+</span><span class=\"mi\">1</span><span class=\"p\">,</span> <span class=\"n\">N</span><span class=\"p\">):</span>\n",
        "            <span class=\"n\">U</span><span class=\"p\">[</span><span class=\"n\">k</span><span class=\"p\">,</span> <span class=\"n\">j</span><span class=\"p\">]</span> <span class=\"o\">=</span> <span class=\"p\">(</span><span class=\"n\">A</span><span class=\"p\">[</span><span class=\"n\">k</span><span class=\"p\">,</span> <span class=\"n\">j</span><span class=\"p\">]</span> <span class=\"o\">-</span> <span class=\"n\">np</span><span class=\"o\">.</span><span class=\"n\">dot</span><span class=\"p\">(</span><span class=\"n\">L</span><span class=\"p\">[</span><span class=\"n\">k</span><span class=\"p\">,</span> <span class=\"p\">:</span><span class=\"n\">k</span><span class=\"p\">],</span> <span class=\"n\">U</span><span class=\"p\">[:</span><span class=\"n\">k</span><span class=\"p\">,</span> <span class=\"n\">j</span><span class=\"p\">]))</span> <span class=\"o\">/</span> <span class=\"n\">L</span><span class=\"p\">[</span><span class=\"n\">k</span><span class=\"p\">,</span> <span class=\"n\">k</span><span class=\"p\">]</span>\n",
        "        <span class=\"k\">for</span> <span class=\"n\">i</span> <span class=\"ow\">in</span> <span class=\"nb\">range</span><span class=\"p\">(</span><span class=\"n\">k</span><span class=\"o\">+</span><span class=\"mi\">1</span><span class=\"p\">,</span> <span class=\"n\">N</span><span class=\"p\">):</span>\n",
        "            <span class=\"n\">L</span><span class=\"p\">[</span><span class=\"n\">i</span><span class=\"p\">,</span> <span class=\"n\">k</span><span class=\"p\">]</span> <span class=\"o\">=</span> <span class=\"p\">(</span><span class=\"n\">A</span><span class=\"p\">[</span><span class=\"n\">i</span><span class=\"p\">,</span> <span class=\"n\">k</span><span class=\"p\">]</span> <span class=\"o\">-</span> <span class=\"n\">np</span><span class=\"o\">.</span><span class=\"n\">dot</span><span class=\"p\">(</span><span class=\"n\">L</span><span class=\"p\">[</span><span class=\"n\">i</span><span class=\"p\">,</span> <span class=\"p\">:</span><span class=\"n\">k</span><span class=\"p\">],</span> <span class=\"n\">U</span><span class=\"p\">[:</span><span class=\"n\">k</span><span class=\"p\">,</span> <span class=\"n\">k</span><span class=\"p\">]))</span> <span class=\"o\">/</span> <span class=\"n\">U</span><span class=\"p\">[</span><span class=\"n\">k</span><span class=\"p\">,</span> <span class=\"n\">k</span><span class=\"p\">]</span>\n",
        "    \n",
        "    <span class=\"k\">return</span> <span class=\"n\">L</span><span class=\"p\">,</span> <span class=\"n\">U</span>\n",
        "</pre></div>\n",
        "</body>\n",
        "</html>\n"
       ],
       "metadata": {},
       "output_type": "pyout",
       "prompt_number": 6,
       "text": [
        "<IPython.core.display.HTML at 0x2d86610>"
       ]
      }
     ],
     "prompt_number": 6
    },
    {
     "cell_type": "code",
     "collapsed": false,
     "input": [
      "B = np.array([[64.0, 8.0, 48.0], [24.0, 28.0, 53.0], [32.0, 49.0, 91.0]])\n",
      "[L, U] = w2.LU_decomposition(B)\n",
      "print(\"The LU decomposition of\\n\\n{}\\n\\nis\\n\\n{}\\n\\n{}\\n\\n\".format(B, L, U))\n",
      "print(\"Cross check product:\\n{}\".format(np.dot(L, U)))\n",
      "\n",
      "# Also check the result from theory question 1.\n",
      "A = np.array([[1.0, 3.0], [4.0, 16.0]])\n",
      "[L, U] = w2.LU_decomposition(A)\n",
      "print(\"\\n\\n\\nThe LU decomposition of\\n\\n{}\\n\\nis\\n\\n{}\\n\\n{}\\n\\n\"\\\n",
      "      .format(A, L, U))\n",
      "print(\"Cross check product:\\n{}\".format(np.dot(L, U)))"
     ],
     "language": "python",
     "metadata": {},
     "outputs": [
      {
       "output_type": "stream",
       "stream": "stdout",
       "text": [
        "The LU decomposition of\n",
        "\n",
        "[[ 64.   8.  48.]\n",
        " [ 24.  28.  53.]\n",
        " [ 32.  49.  91.]]\n",
        "\n",
        "is\n",
        "\n",
        "[[ 1.     0.     0.   ]\n",
        " [ 0.375  1.     0.   ]\n",
        " [ 0.5    1.8    1.   ]]\n",
        "\n",
        "[[ 64.   8.  48.]\n",
        " [  0.  25.  35.]\n",
        " [  0.   0.   4.]]\n",
        "\n",
        "\n",
        "Cross check product:\n",
        "[[ 64.   8.  48.]\n",
        " [ 24.  28.  53.]\n",
        " [ 32.  49.  91.]]\n",
        "\n",
        "\n",
        "\n",
        "The LU decomposition of\n",
        "\n",
        "[[  1.   3.]\n",
        " [  4.  16.]]\n",
        "\n",
        "is\n",
        "\n",
        "[[ 1.  0.]\n",
        " [ 4.  1.]]\n",
        "\n",
        "[[ 1.  3.]\n",
        " [ 0.  4.]]\n",
        "\n",
        "\n",
        "Cross check product:\n",
        "[[  1.   3.]\n",
        " [  4.  16.]]\n"
       ]
      }
     ],
     "prompt_number": 7
    },
    {
     "cell_type": "heading",
     "level": 2,
     "metadata": {},
     "source": [
      "Coding Question 2"
     ]
    },
    {
     "cell_type": "markdown",
     "metadata": {},
     "source": [
      "Implement the Thomas Algorithm for a tridiagonal system."
     ]
    },
    {
     "cell_type": "markdown",
     "metadata": {},
     "source": [
      "Note that we shall test this on the tridiagonal matrix constructed from $B$ above, i.e. on the system\n",
      "\n",
      "\\begin{equation}\n",
      "  \\begin{pmatrix} 62 & 8 & 0 \\\\ 24 & 28 & 53 \\\\ 0 & 49 & 91 \\end{pmatrix} {\\bf x} = \\begin{pmatrix} 3 \\\\ 2 \\\\ 1 \\end{pmatrix}.\n",
      "\\end{equation}"
     ]
    },
    {
     "cell_type": "heading",
     "level": 3,
     "metadata": {},
     "source": [
      "Answer Coding Question 2"
     ]
    },
    {
     "cell_type": "code",
     "collapsed": false,
     "input": [
      "ngcm.highlight_source(\"Worksheet2_Functions\", \"ThomasAlgorithm\")"
     ],
     "language": "python",
     "metadata": {},
     "outputs": [
      {
       "html": [
        "<!DOCTYPE html PUBLIC \"-//W3C//DTD HTML 4.01//EN\"\n",
        "   \"http://www.w3.org/TR/html4/strict.dtd\">\n",
        "\n",
        "<html>\n",
        "<head>\n",
        "  <title></title>\n",
        "  <meta http-equiv=\"content-type\" content=\"text/html; charset=None\">\n",
        "  <style type=\"text/css\">\n",
        "td.linenos { background-color: #f0f0f0; padding-right: 10px; }\n",
        "span.lineno { background-color: #f0f0f0; padding: 0 5px 0 5px; }\n",
        "pre { line-height: 125%; }\n",
        "body .hll { background-color: #ffffcc }\n",
        "body  { background: #f8f8f8; }\n",
        "body .c { color: #408080; font-style: italic } /* Comment */\n",
        "body .err { border: 1px solid #FF0000 } /* Error */\n",
        "body .k { color: #008000; font-weight: bold } /* Keyword */\n",
        "body .o { color: #666666 } /* Operator */\n",
        "body .cm { color: #408080; font-style: italic } /* Comment.Multiline */\n",
        "body .cp { color: #BC7A00 } /* Comment.Preproc */\n",
        "body .c1 { color: #408080; font-style: italic } /* Comment.Single */\n",
        "body .cs { color: #408080; font-style: italic } /* Comment.Special */\n",
        "body .gd { color: #A00000 } /* Generic.Deleted */\n",
        "body .ge { font-style: italic } /* Generic.Emph */\n",
        "body .gr { color: #FF0000 } /* Generic.Error */\n",
        "body .gh { color: #000080; font-weight: bold } /* Generic.Heading */\n",
        "body .gi { color: #00A000 } /* Generic.Inserted */\n",
        "body .go { color: #888888 } /* Generic.Output */\n",
        "body .gp { color: #000080; font-weight: bold } /* Generic.Prompt */\n",
        "body .gs { font-weight: bold } /* Generic.Strong */\n",
        "body .gu { color: #800080; font-weight: bold } /* Generic.Subheading */\n",
        "body .gt { color: #0044DD } /* Generic.Traceback */\n",
        "body .kc { color: #008000; font-weight: bold } /* Keyword.Constant */\n",
        "body .kd { color: #008000; font-weight: bold } /* Keyword.Declaration */\n",
        "body .kn { color: #008000; font-weight: bold } /* Keyword.Namespace */\n",
        "body .kp { color: #008000 } /* Keyword.Pseudo */\n",
        "body .kr { color: #008000; font-weight: bold } /* Keyword.Reserved */\n",
        "body .kt { color: #B00040 } /* Keyword.Type */\n",
        "body .m { color: #666666 } /* Literal.Number */\n",
        "body .s { color: #BA2121 } /* Literal.String */\n",
        "body .na { color: #7D9029 } /* Name.Attribute */\n",
        "body .nb { color: #008000 } /* Name.Builtin */\n",
        "body .nc { color: #0000FF; font-weight: bold } /* Name.Class */\n",
        "body .no { color: #880000 } /* Name.Constant */\n",
        "body .nd { color: #AA22FF } /* Name.Decorator */\n",
        "body .ni { color: #999999; font-weight: bold } /* Name.Entity */\n",
        "body .ne { color: #D2413A; font-weight: bold } /* Name.Exception */\n",
        "body .nf { color: #0000FF } /* Name.Function */\n",
        "body .nl { color: #A0A000 } /* Name.Label */\n",
        "body .nn { color: #0000FF; font-weight: bold } /* Name.Namespace */\n",
        "body .nt { color: #008000; font-weight: bold } /* Name.Tag */\n",
        "body .nv { color: #19177C } /* Name.Variable */\n",
        "body .ow { color: #AA22FF; font-weight: bold } /* Operator.Word */\n",
        "body .w { color: #bbbbbb } /* Text.Whitespace */\n",
        "body .mf { color: #666666 } /* Literal.Number.Float */\n",
        "body .mh { color: #666666 } /* Literal.Number.Hex */\n",
        "body .mi { color: #666666 } /* Literal.Number.Integer */\n",
        "body .mo { color: #666666 } /* Literal.Number.Oct */\n",
        "body .sb { color: #BA2121 } /* Literal.String.Backtick */\n",
        "body .sc { color: #BA2121 } /* Literal.String.Char */\n",
        "body .sd { color: #BA2121; font-style: italic } /* Literal.String.Doc */\n",
        "body .s2 { color: #BA2121 } /* Literal.String.Double */\n",
        "body .se { color: #BB6622; font-weight: bold } /* Literal.String.Escape */\n",
        "body .sh { color: #BA2121 } /* Literal.String.Heredoc */\n",
        "body .si { color: #BB6688; font-weight: bold } /* Literal.String.Interpol */\n",
        "body .sx { color: #008000 } /* Literal.String.Other */\n",
        "body .sr { color: #BB6688 } /* Literal.String.Regex */\n",
        "body .s1 { color: #BA2121 } /* Literal.String.Single */\n",
        "body .ss { color: #19177C } /* Literal.String.Symbol */\n",
        "body .bp { color: #008000 } /* Name.Builtin.Pseudo */\n",
        "body .vc { color: #19177C } /* Name.Variable.Class */\n",
        "body .vg { color: #19177C } /* Name.Variable.Global */\n",
        "body .vi { color: #19177C } /* Name.Variable.Instance */\n",
        "body .il { color: #666666 } /* Literal.Number.Integer.Long */\n",
        "\n",
        "  </style>\n",
        "</head>\n",
        "<body>\n",
        "<h2></h2>\n",
        "\n",
        "<div class=\"highlight\"><pre><span class=\"k\">def</span> <span class=\"nf\">ThomasAlgorithm</span><span class=\"p\">(</span><span class=\"n\">a</span><span class=\"p\">,</span> <span class=\"n\">b</span><span class=\"p\">,</span> <span class=\"n\">c</span><span class=\"p\">,</span> <span class=\"n\">f</span><span class=\"p\">):</span>\n",
        "    <span class=\"sd\">&quot;&quot;&quot;Implement the Thomas algorithm to solve A x = f. </span>\n",
        "<span class=\"sd\">    The vectors a, b, c are the sub-diagonal, diagonal and super-diagonal </span>\n",
        "<span class=\"sd\">    vectors of the original matrix A.&quot;&quot;&quot;</span>\n",
        "    \n",
        "    <span class=\"c\"># Make copies of the input</span>\n",
        "    <span class=\"n\">aa</span> <span class=\"o\">=</span> <span class=\"n\">a</span><span class=\"o\">.</span><span class=\"n\">copy</span><span class=\"p\">()</span>\n",
        "    <span class=\"n\">bb</span> <span class=\"o\">=</span> <span class=\"n\">b</span><span class=\"o\">.</span><span class=\"n\">copy</span><span class=\"p\">()</span>\n",
        "    <span class=\"n\">cc</span> <span class=\"o\">=</span> <span class=\"n\">c</span><span class=\"o\">.</span><span class=\"n\">copy</span><span class=\"p\">()</span>\n",
        "    \n",
        "    <span class=\"n\">x</span> <span class=\"o\">=</span> <span class=\"n\">np</span><span class=\"o\">.</span><span class=\"n\">zeros_like</span><span class=\"p\">(</span><span class=\"n\">f</span><span class=\"p\">)</span>\n",
        "    <span class=\"n\">d</span> <span class=\"o\">=</span> <span class=\"n\">np</span><span class=\"o\">.</span><span class=\"n\">zeros_like</span><span class=\"p\">(</span><span class=\"n\">f</span><span class=\"p\">)</span>\n",
        "    <span class=\"n\">d</span><span class=\"p\">[:]</span> <span class=\"o\">=</span> <span class=\"n\">f</span><span class=\"p\">[:]</span>\n",
        "    <span class=\"n\">N</span> <span class=\"o\">=</span> <span class=\"nb\">len</span><span class=\"p\">(</span><span class=\"n\">f</span><span class=\"p\">)</span>\n",
        "    <span class=\"k\">for</span> <span class=\"n\">k</span> <span class=\"ow\">in</span> <span class=\"nb\">range</span><span class=\"p\">(</span><span class=\"mi\">1</span><span class=\"p\">,</span> <span class=\"n\">N</span><span class=\"p\">):</span>\n",
        "        <span class=\"n\">m</span> <span class=\"o\">=</span> <span class=\"n\">aa</span><span class=\"p\">[</span><span class=\"n\">k</span><span class=\"o\">-</span><span class=\"mi\">1</span><span class=\"p\">]</span> <span class=\"o\">/</span> <span class=\"n\">bb</span><span class=\"p\">[</span><span class=\"n\">k</span><span class=\"o\">-</span><span class=\"mi\">1</span><span class=\"p\">]</span>\n",
        "        <span class=\"n\">bb</span><span class=\"p\">[</span><span class=\"n\">k</span><span class=\"p\">]</span> <span class=\"o\">-=</span> <span class=\"n\">m</span> <span class=\"o\">*</span> <span class=\"n\">cc</span><span class=\"p\">[</span><span class=\"n\">k</span><span class=\"o\">-</span><span class=\"mi\">1</span><span class=\"p\">]</span>\n",
        "        <span class=\"n\">d</span><span class=\"p\">[</span><span class=\"n\">k</span><span class=\"p\">]</span> <span class=\"o\">-=</span> <span class=\"n\">m</span> <span class=\"o\">*</span> <span class=\"n\">d</span><span class=\"p\">[</span><span class=\"n\">k</span><span class=\"o\">-</span><span class=\"mi\">1</span><span class=\"p\">]</span>\n",
        "    <span class=\"n\">x</span><span class=\"p\">[</span><span class=\"o\">-</span><span class=\"mi\">1</span><span class=\"p\">]</span> <span class=\"o\">=</span> <span class=\"n\">d</span><span class=\"p\">[</span><span class=\"o\">-</span><span class=\"mi\">1</span><span class=\"p\">]</span> <span class=\"o\">/</span> <span class=\"n\">bb</span><span class=\"p\">[</span><span class=\"o\">-</span><span class=\"mi\">1</span><span class=\"p\">]</span>\n",
        "    <span class=\"k\">for</span> <span class=\"n\">k</span> <span class=\"ow\">in</span> <span class=\"nb\">range</span><span class=\"p\">(</span><span class=\"n\">N</span><span class=\"o\">-</span><span class=\"mi\">2</span><span class=\"p\">,</span> <span class=\"o\">-</span><span class=\"mi\">1</span><span class=\"p\">,</span> <span class=\"o\">-</span><span class=\"mi\">1</span><span class=\"p\">):</span>\n",
        "        <span class=\"n\">x</span><span class=\"p\">[</span><span class=\"n\">k</span><span class=\"p\">]</span> <span class=\"o\">=</span> <span class=\"p\">(</span><span class=\"n\">d</span><span class=\"p\">[</span><span class=\"n\">k</span><span class=\"p\">]</span> <span class=\"o\">-</span> <span class=\"n\">cc</span><span class=\"p\">[</span><span class=\"n\">k</span><span class=\"p\">]</span> <span class=\"o\">*</span> <span class=\"n\">x</span><span class=\"p\">[</span><span class=\"n\">k</span><span class=\"o\">+</span><span class=\"mi\">1</span><span class=\"p\">])</span> <span class=\"o\">/</span> <span class=\"n\">bb</span><span class=\"p\">[</span><span class=\"n\">k</span><span class=\"p\">]</span>\n",
        "    \n",
        "    <span class=\"k\">return</span> <span class=\"n\">x</span>\n",
        "</pre></div>\n",
        "</body>\n",
        "</html>\n"
       ],
       "metadata": {},
       "output_type": "pyout",
       "prompt_number": 8,
       "text": [
        "<IPython.core.display.HTML at 0x2d86dd0>"
       ]
      }
     ],
     "prompt_number": 8
    },
    {
     "cell_type": "code",
     "collapsed": false,
     "input": [
      "D = np.array([[62.0, 8.0, 0.0], [24.0, 28.0, 53.0], [0.0, 49.0, 91.0]])\n",
      "b = np.array([3.0, 2.0, 1.0])\n",
      "x = w2.ThomasAlgorithm(np.diag(D, -1), np.diag(D), np.diag(D, +1), b)\n",
      "print(\"Solution of A x = f where\\n\\nA = {}\\n\\nf = {}\\n\\n is\\n\\nx = {}\".\\\n",
      "      format(D, b, x))"
     ],
     "language": "python",
     "metadata": {},
     "outputs": [
      {
       "output_type": "stream",
       "stream": "stdout",
       "text": [
        "Solution of A x = f where\n",
        "\n",
        "A = [[ 62.   8.   0.]\n",
        " [ 24.  28.  53.]\n",
        " [  0.  49.  91.]]\n",
        "\n",
        "f = [ 3.  2.  1.]\n",
        "\n",
        " is\n",
        "\n",
        "x = [ 0.05748415 -0.07050219  0.04895173]\n"
       ]
      }
     ],
     "prompt_number": 9
    },
    {
     "cell_type": "heading",
     "level": 2,
     "metadata": {},
     "source": [
      "Coding Question 3"
     ]
    },
    {
     "cell_type": "markdown",
     "metadata": {},
     "source": [
      "Implement the Jacobi method for linear systems. Investigate the behaviour of the method for the problem\n",
      "\n",
      "\\begin{equation}\n",
      "  B {\\bf x} = \\begin{pmatrix} 3 \\\\ 2 \\\\ 1 \\end{pmatrix}\n",
      "\\end{equation}\n",
      "\n",
      "starting from the trivial initial guess ${\\bf x}^{(0)} = {\\bf 0}$. Should this be expected? [Hint: Check the convergence theorem]\n",
      "\n",
      "In addition and for comparison, try the problem using the matrix\n",
      "\n",
      "\\begin{equation}\n",
      "  C = \\begin{pmatrix} \\frac{119}{108} & -\\frac{14}{27} & -\\frac{8}{9} \\\\ \\frac{7}{54} & \\frac{46}{27} & \\frac{7}{9} \\\\ \\frac{5}{108} & \\frac{1}{27} & \\frac{23}{17}  \\end{pmatrix}.\n",
      "\\end{equation}"
     ]
    },
    {
     "cell_type": "heading",
     "level": 3,
     "metadata": {},
     "source": [
      "Answer Coding Question 3"
     ]
    },
    {
     "cell_type": "code",
     "collapsed": false,
     "input": [
      "ngcm.highlight_source(\"Worksheet2_Functions\", \"Jacobi\")"
     ],
     "language": "python",
     "metadata": {},
     "outputs": [
      {
       "html": [
        "<!DOCTYPE html PUBLIC \"-//W3C//DTD HTML 4.01//EN\"\n",
        "   \"http://www.w3.org/TR/html4/strict.dtd\">\n",
        "\n",
        "<html>\n",
        "<head>\n",
        "  <title></title>\n",
        "  <meta http-equiv=\"content-type\" content=\"text/html; charset=None\">\n",
        "  <style type=\"text/css\">\n",
        "td.linenos { background-color: #f0f0f0; padding-right: 10px; }\n",
        "span.lineno { background-color: #f0f0f0; padding: 0 5px 0 5px; }\n",
        "pre { line-height: 125%; }\n",
        "body .hll { background-color: #ffffcc }\n",
        "body  { background: #f8f8f8; }\n",
        "body .c { color: #408080; font-style: italic } /* Comment */\n",
        "body .err { border: 1px solid #FF0000 } /* Error */\n",
        "body .k { color: #008000; font-weight: bold } /* Keyword */\n",
        "body .o { color: #666666 } /* Operator */\n",
        "body .cm { color: #408080; font-style: italic } /* Comment.Multiline */\n",
        "body .cp { color: #BC7A00 } /* Comment.Preproc */\n",
        "body .c1 { color: #408080; font-style: italic } /* Comment.Single */\n",
        "body .cs { color: #408080; font-style: italic } /* Comment.Special */\n",
        "body .gd { color: #A00000 } /* Generic.Deleted */\n",
        "body .ge { font-style: italic } /* Generic.Emph */\n",
        "body .gr { color: #FF0000 } /* Generic.Error */\n",
        "body .gh { color: #000080; font-weight: bold } /* Generic.Heading */\n",
        "body .gi { color: #00A000 } /* Generic.Inserted */\n",
        "body .go { color: #888888 } /* Generic.Output */\n",
        "body .gp { color: #000080; font-weight: bold } /* Generic.Prompt */\n",
        "body .gs { font-weight: bold } /* Generic.Strong */\n",
        "body .gu { color: #800080; font-weight: bold } /* Generic.Subheading */\n",
        "body .gt { color: #0044DD } /* Generic.Traceback */\n",
        "body .kc { color: #008000; font-weight: bold } /* Keyword.Constant */\n",
        "body .kd { color: #008000; font-weight: bold } /* Keyword.Declaration */\n",
        "body .kn { color: #008000; font-weight: bold } /* Keyword.Namespace */\n",
        "body .kp { color: #008000 } /* Keyword.Pseudo */\n",
        "body .kr { color: #008000; font-weight: bold } /* Keyword.Reserved */\n",
        "body .kt { color: #B00040 } /* Keyword.Type */\n",
        "body .m { color: #666666 } /* Literal.Number */\n",
        "body .s { color: #BA2121 } /* Literal.String */\n",
        "body .na { color: #7D9029 } /* Name.Attribute */\n",
        "body .nb { color: #008000 } /* Name.Builtin */\n",
        "body .nc { color: #0000FF; font-weight: bold } /* Name.Class */\n",
        "body .no { color: #880000 } /* Name.Constant */\n",
        "body .nd { color: #AA22FF } /* Name.Decorator */\n",
        "body .ni { color: #999999; font-weight: bold } /* Name.Entity */\n",
        "body .ne { color: #D2413A; font-weight: bold } /* Name.Exception */\n",
        "body .nf { color: #0000FF } /* Name.Function */\n",
        "body .nl { color: #A0A000 } /* Name.Label */\n",
        "body .nn { color: #0000FF; font-weight: bold } /* Name.Namespace */\n",
        "body .nt { color: #008000; font-weight: bold } /* Name.Tag */\n",
        "body .nv { color: #19177C } /* Name.Variable */\n",
        "body .ow { color: #AA22FF; font-weight: bold } /* Operator.Word */\n",
        "body .w { color: #bbbbbb } /* Text.Whitespace */\n",
        "body .mf { color: #666666 } /* Literal.Number.Float */\n",
        "body .mh { color: #666666 } /* Literal.Number.Hex */\n",
        "body .mi { color: #666666 } /* Literal.Number.Integer */\n",
        "body .mo { color: #666666 } /* Literal.Number.Oct */\n",
        "body .sb { color: #BA2121 } /* Literal.String.Backtick */\n",
        "body .sc { color: #BA2121 } /* Literal.String.Char */\n",
        "body .sd { color: #BA2121; font-style: italic } /* Literal.String.Doc */\n",
        "body .s2 { color: #BA2121 } /* Literal.String.Double */\n",
        "body .se { color: #BB6622; font-weight: bold } /* Literal.String.Escape */\n",
        "body .sh { color: #BA2121 } /* Literal.String.Heredoc */\n",
        "body .si { color: #BB6688; font-weight: bold } /* Literal.String.Interpol */\n",
        "body .sx { color: #008000 } /* Literal.String.Other */\n",
        "body .sr { color: #BB6688 } /* Literal.String.Regex */\n",
        "body .s1 { color: #BA2121 } /* Literal.String.Single */\n",
        "body .ss { color: #19177C } /* Literal.String.Symbol */\n",
        "body .bp { color: #008000 } /* Name.Builtin.Pseudo */\n",
        "body .vc { color: #19177C } /* Name.Variable.Class */\n",
        "body .vg { color: #19177C } /* Name.Variable.Global */\n",
        "body .vi { color: #19177C } /* Name.Variable.Instance */\n",
        "body .il { color: #666666 } /* Literal.Number.Integer.Long */\n",
        "\n",
        "  </style>\n",
        "</head>\n",
        "<body>\n",
        "<h2></h2>\n",
        "\n",
        "<div class=\"highlight\"><pre><span class=\"k\">def</span> <span class=\"nf\">Jacobi</span><span class=\"p\">(</span><span class=\"n\">A</span><span class=\"p\">,</span> <span class=\"n\">b</span><span class=\"p\">,</span> <span class=\"n\">tolerance</span> <span class=\"o\">=</span> <span class=\"mf\">1.e-10</span><span class=\"p\">,</span> <span class=\"n\">MaxSteps</span> <span class=\"o\">=</span> <span class=\"mi\">100</span><span class=\"p\">):</span>\n",
        "    <span class=\"sd\">&quot;&quot;&quot;Solve the linear system A x = b using Jacobi&#39;s method, </span>\n",
        "<span class=\"sd\">    starting from the trivial initial guess.&quot;&quot;&quot;</span>\n",
        "    \n",
        "    <span class=\"n\">x</span> <span class=\"o\">=</span> <span class=\"n\">np</span><span class=\"o\">.</span><span class=\"n\">zeros_like</span><span class=\"p\">(</span><span class=\"n\">b</span><span class=\"p\">)</span>\n",
        "    \n",
        "    <span class=\"n\">Anorm</span> <span class=\"o\">=</span> <span class=\"n\">A</span><span class=\"o\">.</span><span class=\"n\">copy</span><span class=\"p\">()</span>\n",
        "    <span class=\"n\">bnorm</span> <span class=\"o\">=</span> <span class=\"n\">b</span><span class=\"o\">.</span><span class=\"n\">copy</span><span class=\"p\">()</span>\n",
        "    <span class=\"n\">n</span> <span class=\"o\">=</span> <span class=\"nb\">len</span><span class=\"p\">(</span><span class=\"n\">b</span><span class=\"p\">)</span>\n",
        "    \n",
        "    <span class=\"k\">for</span> <span class=\"n\">i</span> <span class=\"ow\">in</span> <span class=\"nb\">range</span><span class=\"p\">(</span><span class=\"n\">n</span><span class=\"p\">):</span>\n",
        "        <span class=\"n\">bnorm</span><span class=\"p\">[</span><span class=\"n\">i</span><span class=\"p\">]</span> <span class=\"o\">/=</span> <span class=\"n\">A</span><span class=\"p\">[</span><span class=\"n\">i</span><span class=\"p\">,</span> <span class=\"n\">i</span><span class=\"p\">]</span>\n",
        "        <span class=\"n\">Anorm</span><span class=\"p\">[</span><span class=\"n\">i</span><span class=\"p\">,</span> <span class=\"p\">:]</span> <span class=\"o\">/=</span> <span class=\"n\">A</span><span class=\"p\">[</span><span class=\"n\">i</span><span class=\"p\">,</span> <span class=\"n\">i</span><span class=\"p\">]</span>\n",
        "    \n",
        "    <span class=\"c\"># Compute the split</span>\n",
        "    <span class=\"n\">N</span> <span class=\"o\">=</span> <span class=\"n\">np</span><span class=\"o\">.</span><span class=\"n\">eye</span><span class=\"p\">(</span><span class=\"n\">n</span><span class=\"p\">)</span>\n",
        "    <span class=\"n\">P</span> <span class=\"o\">=</span> <span class=\"n\">N</span> <span class=\"o\">-</span> <span class=\"n\">Anorm</span>\n",
        "    <span class=\"n\">AL</span> <span class=\"o\">=</span> <span class=\"n\">la</span><span class=\"o\">.</span><span class=\"n\">tril</span><span class=\"p\">(</span><span class=\"n\">P</span><span class=\"p\">)</span>\n",
        "    <span class=\"n\">AU</span> <span class=\"o\">=</span> <span class=\"n\">la</span><span class=\"o\">.</span><span class=\"n\">triu</span><span class=\"p\">(</span><span class=\"n\">P</span><span class=\"p\">)</span>\n",
        "    \n",
        "    <span class=\"c\"># Compute the convergence matrix and check its spectral radius</span>\n",
        "    <span class=\"n\">M</span> <span class=\"o\">=</span> <span class=\"n\">np</span><span class=\"o\">.</span><span class=\"n\">dot</span><span class=\"p\">(</span><span class=\"n\">la</span><span class=\"o\">.</span><span class=\"n\">inv</span><span class=\"p\">(</span><span class=\"n\">N</span><span class=\"p\">),</span> <span class=\"n\">P</span><span class=\"p\">)</span>\n",
        "    <span class=\"n\">eigenvalues</span><span class=\"p\">,</span> <span class=\"n\">eigenvectors</span> <span class=\"o\">=</span> <span class=\"n\">la</span><span class=\"o\">.</span><span class=\"n\">eig</span><span class=\"p\">(</span><span class=\"n\">M</span><span class=\"p\">)</span>\n",
        "    <span class=\"n\">rho</span> <span class=\"o\">=</span> <span class=\"n\">np</span><span class=\"o\">.</span><span class=\"n\">amax</span><span class=\"p\">(</span><span class=\"n\">np</span><span class=\"o\">.</span><span class=\"n\">absolute</span><span class=\"p\">(</span><span class=\"n\">eigenvalues</span><span class=\"p\">))</span>\n",
        "    <span class=\"k\">if</span> <span class=\"p\">(</span><span class=\"n\">rho</span> <span class=\"o\">&gt;</span> <span class=\"mi\">1</span><span class=\"p\">):</span>\n",
        "        <span class=\"k\">print</span><span class=\"p\">(</span><span class=\"s\">&quot;Jacobi will not converge as the&quot;</span>\\\n",
        "            <span class=\"s\">&quot; largest eigenvalue of the convergence matrix is {}&quot;</span><span class=\"o\">.</span><span class=\"n\">format</span><span class=\"p\">(</span><span class=\"n\">rho</span><span class=\"p\">))</span>\n",
        "    \n",
        "    <span class=\"k\">for</span> <span class=\"n\">j</span> <span class=\"ow\">in</span> <span class=\"nb\">range</span><span class=\"p\">(</span><span class=\"n\">MaxSteps</span><span class=\"p\">):</span>\n",
        "        <span class=\"n\">x_old</span> <span class=\"o\">=</span> <span class=\"n\">x</span><span class=\"o\">.</span><span class=\"n\">copy</span><span class=\"p\">()</span>\n",
        "        <span class=\"n\">x</span> <span class=\"o\">=</span> <span class=\"n\">bnorm</span> <span class=\"o\">+</span> <span class=\"n\">np</span><span class=\"o\">.</span><span class=\"n\">dot</span><span class=\"p\">(</span><span class=\"n\">AL</span> <span class=\"o\">+</span> <span class=\"n\">AU</span><span class=\"p\">,</span> <span class=\"n\">x</span><span class=\"p\">)</span>\n",
        "        <span class=\"k\">if</span> <span class=\"p\">(</span><span class=\"n\">la</span><span class=\"o\">.</span><span class=\"n\">norm</span><span class=\"p\">(</span><span class=\"n\">x</span> <span class=\"o\">-</span> <span class=\"n\">x_old</span><span class=\"p\">)</span> <span class=\"o\">&lt;</span> <span class=\"n\">tolerance</span><span class=\"p\">):</span>\n",
        "            <span class=\"k\">print</span> <span class=\"s\">&quot;Jacobi converged in &quot;</span><span class=\"p\">,</span> <span class=\"n\">j</span><span class=\"p\">,</span> <span class=\"s\">&quot; iterations.&quot;</span>\n",
        "            <span class=\"k\">break</span>\n",
        "    \n",
        "    <span class=\"k\">return</span> <span class=\"n\">x</span>\n",
        "</pre></div>\n",
        "</body>\n",
        "</html>\n"
       ],
       "metadata": {},
       "output_type": "pyout",
       "prompt_number": 10,
       "text": [
        "<IPython.core.display.HTML at 0x2d86f50>"
       ]
      }
     ],
     "prompt_number": 10
    },
    {
     "cell_type": "code",
     "collapsed": false,
     "input": [
      "B = np.array([[64.0, 8.0, 48.0], [24.0, 28.0, 53.0], [32.0, 49.0, 91.0]])\n",
      "C = np.array([[119.0/108.0, -14.0/27.0, -8.0/9.0], \\\n",
      "              [7.0/54.0, 46.0/27.0, 7.0/9.0], \\\n",
      "              [5.0/108.0, 1.0/27.0, 23.0/18.0]])\n",
      "b = np.array([3.0, 2.0, 1.0])\n",
      "\n",
      "x1 = w2.Jacobi(B, b)\n",
      "print(\"Jacobi method solution (fails to converge!) of A x = f where\"\\\n",
      "      \"\\n\\nA = {}\\n\\nf = {}\\n\\n is\\n\\nx = {}\".format(B, b, x1))\n",
      "print(\"True solution is\\n\\nx = {}\\n\\n\".format(la.solve(B, b)))\n",
      "x2 = w2.Jacobi(C, b)\n",
      "print(\"Jacobi method solution of A x = f where\"\\\n",
      "      \"\\n\\nA = {}\\n\\nf = {}\\n\\n is\\n\\nx = {}\".format(C, b, x2))\n",
      "print(\"True solution is\\n\\nx = {}\".format(la.solve(C, b)))\n"
     ],
     "language": "python",
     "metadata": {},
     "outputs": [
      {
       "output_type": "stream",
       "stream": "stdout",
       "text": [
        "Jacobi will not converge as the largest eigenvalue of the convergence matrix is 1.31061408063\n",
        "Jacobi method solution (fails to converge!) of A x = f where\n",
        "\n",
        "A = [[ 64.   8.  48.]\n",
        " [ 24.  28.  53.]\n",
        " [ 32.  49.  91.]]\n",
        "\n",
        "f = [ 3.  2.  1.]\n",
        "\n",
        " is\n",
        "\n",
        "x = [ -5.57434317e+09  -1.42774902e+10  -7.36150183e+09]\n",
        "True solution is\n",
        "\n",
        "x = [ 0.34078125  0.76125    -0.51875   ]\n",
        "\n",
        "\n",
        "Jacobi converged in  19  iterations.\n",
        "Jacobi method solution of A x = f where\n",
        "\n",
        "A = [[ 1.10185185 -0.51851852 -0.88888889]\n",
        " [ 0.12962963  1.7037037   0.77777778]\n",
        " [ 0.0462963   0.03703704  1.27777778]]\n",
        "\n",
        "f = [ 3.  2.  1.]\n",
        "\n",
        " is\n",
        "\n",
        "x = [ 3.52592593  0.61481481  0.63703704]\n",
        "True solution is\n",
        "\n",
        "x = [ 3.52592593  0.61481481  0.63703704]\n"
       ]
      }
     ],
     "prompt_number": 11
    },
    {
     "cell_type": "markdown",
     "metadata": {},
     "source": [
      "We note that the original problem failed to converge, as indicated by the spectral radius of the convergence matrix."
     ]
    },
    {
     "cell_type": "heading",
     "level": 2,
     "metadata": {},
     "source": [
      "Coding Question 4"
     ]
    },
    {
     "cell_type": "markdown",
     "metadata": {},
     "source": [
      "Implement the Gauss-Seidel method, applying it to the convergent problem above. Compare the convergence rate to Jacobi."
     ]
    },
    {
     "cell_type": "heading",
     "level": 3,
     "metadata": {},
     "source": [
      "Answer Coding Question 4"
     ]
    },
    {
     "cell_type": "code",
     "collapsed": false,
     "input": [
      "ngcm.highlight_source(\"Worksheet2_Functions\", \"GaussSeidel\")"
     ],
     "language": "python",
     "metadata": {},
     "outputs": [
      {
       "html": [
        "<!DOCTYPE html PUBLIC \"-//W3C//DTD HTML 4.01//EN\"\n",
        "   \"http://www.w3.org/TR/html4/strict.dtd\">\n",
        "\n",
        "<html>\n",
        "<head>\n",
        "  <title></title>\n",
        "  <meta http-equiv=\"content-type\" content=\"text/html; charset=None\">\n",
        "  <style type=\"text/css\">\n",
        "td.linenos { background-color: #f0f0f0; padding-right: 10px; }\n",
        "span.lineno { background-color: #f0f0f0; padding: 0 5px 0 5px; }\n",
        "pre { line-height: 125%; }\n",
        "body .hll { background-color: #ffffcc }\n",
        "body  { background: #f8f8f8; }\n",
        "body .c { color: #408080; font-style: italic } /* Comment */\n",
        "body .err { border: 1px solid #FF0000 } /* Error */\n",
        "body .k { color: #008000; font-weight: bold } /* Keyword */\n",
        "body .o { color: #666666 } /* Operator */\n",
        "body .cm { color: #408080; font-style: italic } /* Comment.Multiline */\n",
        "body .cp { color: #BC7A00 } /* Comment.Preproc */\n",
        "body .c1 { color: #408080; font-style: italic } /* Comment.Single */\n",
        "body .cs { color: #408080; font-style: italic } /* Comment.Special */\n",
        "body .gd { color: #A00000 } /* Generic.Deleted */\n",
        "body .ge { font-style: italic } /* Generic.Emph */\n",
        "body .gr { color: #FF0000 } /* Generic.Error */\n",
        "body .gh { color: #000080; font-weight: bold } /* Generic.Heading */\n",
        "body .gi { color: #00A000 } /* Generic.Inserted */\n",
        "body .go { color: #888888 } /* Generic.Output */\n",
        "body .gp { color: #000080; font-weight: bold } /* Generic.Prompt */\n",
        "body .gs { font-weight: bold } /* Generic.Strong */\n",
        "body .gu { color: #800080; font-weight: bold } /* Generic.Subheading */\n",
        "body .gt { color: #0044DD } /* Generic.Traceback */\n",
        "body .kc { color: #008000; font-weight: bold } /* Keyword.Constant */\n",
        "body .kd { color: #008000; font-weight: bold } /* Keyword.Declaration */\n",
        "body .kn { color: #008000; font-weight: bold } /* Keyword.Namespace */\n",
        "body .kp { color: #008000 } /* Keyword.Pseudo */\n",
        "body .kr { color: #008000; font-weight: bold } /* Keyword.Reserved */\n",
        "body .kt { color: #B00040 } /* Keyword.Type */\n",
        "body .m { color: #666666 } /* Literal.Number */\n",
        "body .s { color: #BA2121 } /* Literal.String */\n",
        "body .na { color: #7D9029 } /* Name.Attribute */\n",
        "body .nb { color: #008000 } /* Name.Builtin */\n",
        "body .nc { color: #0000FF; font-weight: bold } /* Name.Class */\n",
        "body .no { color: #880000 } /* Name.Constant */\n",
        "body .nd { color: #AA22FF } /* Name.Decorator */\n",
        "body .ni { color: #999999; font-weight: bold } /* Name.Entity */\n",
        "body .ne { color: #D2413A; font-weight: bold } /* Name.Exception */\n",
        "body .nf { color: #0000FF } /* Name.Function */\n",
        "body .nl { color: #A0A000 } /* Name.Label */\n",
        "body .nn { color: #0000FF; font-weight: bold } /* Name.Namespace */\n",
        "body .nt { color: #008000; font-weight: bold } /* Name.Tag */\n",
        "body .nv { color: #19177C } /* Name.Variable */\n",
        "body .ow { color: #AA22FF; font-weight: bold } /* Operator.Word */\n",
        "body .w { color: #bbbbbb } /* Text.Whitespace */\n",
        "body .mf { color: #666666 } /* Literal.Number.Float */\n",
        "body .mh { color: #666666 } /* Literal.Number.Hex */\n",
        "body .mi { color: #666666 } /* Literal.Number.Integer */\n",
        "body .mo { color: #666666 } /* Literal.Number.Oct */\n",
        "body .sb { color: #BA2121 } /* Literal.String.Backtick */\n",
        "body .sc { color: #BA2121 } /* Literal.String.Char */\n",
        "body .sd { color: #BA2121; font-style: italic } /* Literal.String.Doc */\n",
        "body .s2 { color: #BA2121 } /* Literal.String.Double */\n",
        "body .se { color: #BB6622; font-weight: bold } /* Literal.String.Escape */\n",
        "body .sh { color: #BA2121 } /* Literal.String.Heredoc */\n",
        "body .si { color: #BB6688; font-weight: bold } /* Literal.String.Interpol */\n",
        "body .sx { color: #008000 } /* Literal.String.Other */\n",
        "body .sr { color: #BB6688 } /* Literal.String.Regex */\n",
        "body .s1 { color: #BA2121 } /* Literal.String.Single */\n",
        "body .ss { color: #19177C } /* Literal.String.Symbol */\n",
        "body .bp { color: #008000 } /* Name.Builtin.Pseudo */\n",
        "body .vc { color: #19177C } /* Name.Variable.Class */\n",
        "body .vg { color: #19177C } /* Name.Variable.Global */\n",
        "body .vi { color: #19177C } /* Name.Variable.Instance */\n",
        "body .il { color: #666666 } /* Literal.Number.Integer.Long */\n",
        "\n",
        "  </style>\n",
        "</head>\n",
        "<body>\n",
        "<h2></h2>\n",
        "\n",
        "<div class=\"highlight\"><pre><span class=\"k\">def</span> <span class=\"nf\">GaussSeidel</span><span class=\"p\">(</span><span class=\"n\">A</span><span class=\"p\">,</span> <span class=\"n\">b</span><span class=\"p\">,</span> <span class=\"n\">tolerance</span> <span class=\"o\">=</span> <span class=\"mf\">1.e-10</span><span class=\"p\">,</span> <span class=\"n\">MaxSteps</span> <span class=\"o\">=</span> <span class=\"mi\">100</span><span class=\"p\">):</span>\n",
        "    <span class=\"sd\">&quot;&quot;&quot;Solve the linear system A x = b using the Gauss-Seidel method, </span>\n",
        "<span class=\"sd\">    starting from the trivial initial guess.&quot;&quot;&quot;</span>\n",
        "    \n",
        "    <span class=\"n\">x</span> <span class=\"o\">=</span> <span class=\"n\">np</span><span class=\"o\">.</span><span class=\"n\">zeros_like</span><span class=\"p\">(</span><span class=\"n\">b</span><span class=\"p\">)</span>\n",
        "    \n",
        "    <span class=\"n\">Anorm</span> <span class=\"o\">=</span> <span class=\"n\">A</span><span class=\"o\">.</span><span class=\"n\">copy</span><span class=\"p\">()</span>\n",
        "    <span class=\"n\">bnorm</span> <span class=\"o\">=</span> <span class=\"n\">b</span><span class=\"o\">.</span><span class=\"n\">copy</span><span class=\"p\">()</span>\n",
        "    <span class=\"n\">n</span> <span class=\"o\">=</span> <span class=\"nb\">len</span><span class=\"p\">(</span><span class=\"n\">b</span><span class=\"p\">)</span>\n",
        "    \n",
        "    <span class=\"k\">for</span> <span class=\"n\">i</span> <span class=\"ow\">in</span> <span class=\"nb\">range</span><span class=\"p\">(</span><span class=\"n\">n</span><span class=\"p\">):</span>\n",
        "        <span class=\"n\">bnorm</span><span class=\"p\">[</span><span class=\"n\">i</span><span class=\"p\">]</span> <span class=\"o\">/=</span> <span class=\"n\">A</span><span class=\"p\">[</span><span class=\"n\">i</span><span class=\"p\">,</span> <span class=\"n\">i</span><span class=\"p\">]</span>\n",
        "        <span class=\"n\">Anorm</span><span class=\"p\">[</span><span class=\"n\">i</span><span class=\"p\">,</span> <span class=\"p\">:]</span> <span class=\"o\">/=</span> <span class=\"n\">A</span><span class=\"p\">[</span><span class=\"n\">i</span><span class=\"p\">,</span> <span class=\"n\">i</span><span class=\"p\">]</span>\n",
        "    \n",
        "    <span class=\"c\"># Compute the split</span>\n",
        "    <span class=\"n\">D</span> <span class=\"o\">=</span> <span class=\"n\">np</span><span class=\"o\">.</span><span class=\"n\">eye</span><span class=\"p\">(</span><span class=\"n\">n</span><span class=\"p\">)</span>\n",
        "    <span class=\"n\">AL</span> <span class=\"o\">=</span> <span class=\"n\">la</span><span class=\"o\">.</span><span class=\"n\">tril</span><span class=\"p\">(</span><span class=\"n\">D</span> <span class=\"o\">-</span> <span class=\"n\">Anorm</span><span class=\"p\">)</span>\n",
        "    <span class=\"n\">AU</span> <span class=\"o\">=</span> <span class=\"n\">la</span><span class=\"o\">.</span><span class=\"n\">triu</span><span class=\"p\">(</span><span class=\"n\">D</span> <span class=\"o\">-</span> <span class=\"n\">Anorm</span><span class=\"p\">)</span>\n",
        "    <span class=\"n\">N</span> <span class=\"o\">=</span> <span class=\"n\">np</span><span class=\"o\">.</span><span class=\"n\">eye</span><span class=\"p\">(</span><span class=\"n\">n</span><span class=\"p\">)</span> <span class=\"o\">-</span> <span class=\"n\">AL</span>\n",
        "    <span class=\"n\">P</span> <span class=\"o\">=</span> <span class=\"n\">AU</span>\n",
        "    \n",
        "    <span class=\"c\"># Compute the convergence matrix and check its spectral radius</span>\n",
        "    <span class=\"n\">M</span> <span class=\"o\">=</span> <span class=\"n\">np</span><span class=\"o\">.</span><span class=\"n\">dot</span><span class=\"p\">(</span><span class=\"n\">la</span><span class=\"o\">.</span><span class=\"n\">inv</span><span class=\"p\">(</span><span class=\"n\">N</span><span class=\"p\">),</span> <span class=\"n\">P</span><span class=\"p\">)</span>\n",
        "    <span class=\"n\">eigenvalues</span><span class=\"p\">,</span> <span class=\"n\">eigenvectors</span> <span class=\"o\">=</span> <span class=\"n\">la</span><span class=\"o\">.</span><span class=\"n\">eig</span><span class=\"p\">(</span><span class=\"n\">M</span><span class=\"p\">)</span>\n",
        "    <span class=\"n\">rho</span> <span class=\"o\">=</span> <span class=\"n\">np</span><span class=\"o\">.</span><span class=\"n\">amax</span><span class=\"p\">(</span><span class=\"n\">np</span><span class=\"o\">.</span><span class=\"n\">absolute</span><span class=\"p\">(</span><span class=\"n\">eigenvalues</span><span class=\"p\">))</span>\n",
        "    <span class=\"k\">if</span> <span class=\"p\">(</span><span class=\"n\">rho</span> <span class=\"o\">&gt;</span> <span class=\"mi\">1</span><span class=\"p\">):</span>\n",
        "        <span class=\"k\">print</span><span class=\"p\">(</span><span class=\"s\">&quot;Gauss-Seidel will not converge as the&quot;</span>\\\n",
        "              <span class=\"s\">&quot; largest eigenvalue of the convergence matrix is {}&quot;</span><span class=\"o\">.</span><span class=\"n\">format</span><span class=\"p\">(</span><span class=\"n\">rho</span><span class=\"p\">))</span>\n",
        "    \n",
        "    <span class=\"k\">for</span> <span class=\"n\">j</span> <span class=\"ow\">in</span> <span class=\"nb\">range</span><span class=\"p\">(</span><span class=\"n\">MaxSteps</span><span class=\"p\">):</span>\n",
        "        <span class=\"n\">x_old</span> <span class=\"o\">=</span> <span class=\"n\">x</span><span class=\"o\">.</span><span class=\"n\">copy</span><span class=\"p\">()</span>\n",
        "        <span class=\"k\">for</span> <span class=\"n\">i</span> <span class=\"ow\">in</span> <span class=\"nb\">range</span><span class=\"p\">(</span><span class=\"n\">n</span><span class=\"p\">):</span>\n",
        "            <span class=\"n\">x</span><span class=\"p\">[</span><span class=\"n\">i</span><span class=\"p\">]</span> <span class=\"o\">=</span> <span class=\"n\">bnorm</span><span class=\"p\">[</span><span class=\"n\">i</span><span class=\"p\">]</span> <span class=\"o\">+</span> <span class=\"n\">np</span><span class=\"o\">.</span><span class=\"n\">dot</span><span class=\"p\">(</span><span class=\"n\">AL</span><span class=\"p\">[</span><span class=\"n\">i</span><span class=\"p\">,</span> <span class=\"p\">:],</span> <span class=\"n\">x</span><span class=\"p\">)</span> <span class=\"o\">+</span> <span class=\"n\">np</span><span class=\"o\">.</span><span class=\"n\">dot</span><span class=\"p\">(</span><span class=\"n\">AU</span><span class=\"p\">[</span><span class=\"n\">i</span><span class=\"p\">,</span> <span class=\"p\">:],</span> <span class=\"n\">x_old</span><span class=\"p\">)</span>\n",
        "        <span class=\"k\">if</span> <span class=\"p\">(</span><span class=\"n\">la</span><span class=\"o\">.</span><span class=\"n\">norm</span><span class=\"p\">(</span><span class=\"n\">x</span> <span class=\"o\">-</span> <span class=\"n\">x_old</span><span class=\"p\">)</span> <span class=\"o\">&lt;</span> <span class=\"n\">tolerance</span><span class=\"p\">):</span>\n",
        "            <span class=\"k\">print</span><span class=\"p\">(</span><span class=\"s\">&quot;Gauss-Seidel converged in {} iterations.&quot;</span><span class=\"o\">.</span><span class=\"n\">format</span><span class=\"p\">(</span><span class=\"n\">j</span><span class=\"p\">))</span>\n",
        "            <span class=\"k\">break</span>\n",
        "    \n",
        "    <span class=\"k\">return</span> <span class=\"n\">x</span>\n",
        "</pre></div>\n",
        "</body>\n",
        "</html>\n"
       ],
       "metadata": {},
       "output_type": "pyout",
       "prompt_number": 12,
       "text": [
        "<IPython.core.display.HTML at 0x2da9090>"
       ]
      }
     ],
     "prompt_number": 12
    },
    {
     "cell_type": "code",
     "collapsed": false,
     "input": [
      "C = np.array([[119.0/108.0, -14.0/27.0, -8.0/9.0], \\\n",
      "              [7.0/54.0, 46.0/27.0, 7.0/9.0], \\\n",
      "              [5.0/108.0, 1.0/27.0, 23.0/18.0]])\n",
      "b = np.array([3.0, 2.0, 1.0])\n",
      "\n",
      "x = w2.GaussSeidel(C, b)\n",
      "print(\"Gauss-Seidel method solution of A x = f where\"\\\n",
      "      \"\\n\\nA = {}\\n\\nf = {}\\n\\n is\\n\\nx = {}\".format(C, b, x))\n",
      "print(\"True solution is\\n\\nx = {}\".format(la.solve(C, b)))"
     ],
     "language": "python",
     "metadata": {},
     "outputs": [
      {
       "output_type": "stream",
       "stream": "stdout",
       "text": [
        "Gauss-Seidel converged in 12 iterations.\n",
        "Gauss-Seidel method solution of A x = f where\n",
        "\n",
        "A = [[ 1.10185185 -0.51851852 -0.88888889]\n",
        " [ 0.12962963  1.7037037   0.77777778]\n",
        " [ 0.0462963   0.03703704  1.27777778]]\n",
        "\n",
        "f = [ 3.  2.  1.]\n",
        "\n",
        " is\n",
        "\n",
        "x = [ 3.52592593  0.61481481  0.63703704]\n",
        "True solution is\n",
        "\n",
        "x = [ 3.52592593  0.61481481  0.63703704]\n"
       ]
      }
     ],
     "prompt_number": 13
    },
    {
     "cell_type": "markdown",
     "metadata": {},
     "source": [
      "As expected, the number of iterations to convergence is considerably reduced. Note that we could reduce the number of operations taken by the Gauss-Seidel algorithm - the dot products in the update term do not need to range over the entire row, as many of the entries are zero."
     ]
    },
    {
     "cell_type": "heading",
     "level": 2,
     "metadata": {},
     "source": [
      "Coding Question 5"
     ]
    },
    {
     "cell_type": "markdown",
     "metadata": {},
     "source": [
      "Implement the chord method to find the root of\n",
      "\n",
      "\\begin{equation}\n",
      "  f(x) = \\tan (x) - e^{-x}, \\quad x \\in [0, 1].\n",
      "\\end{equation}"
     ]
    },
    {
     "cell_type": "heading",
     "level": 3,
     "metadata": {},
     "source": [
      "Answer Coding Question 5"
     ]
    },
    {
     "cell_type": "code",
     "collapsed": false,
     "input": [
      "ngcm.highlight_source(\"Worksheet2_Functions\", \"chord\")"
     ],
     "language": "python",
     "metadata": {},
     "outputs": [
      {
       "html": [
        "<!DOCTYPE html PUBLIC \"-//W3C//DTD HTML 4.01//EN\"\n",
        "   \"http://www.w3.org/TR/html4/strict.dtd\">\n",
        "\n",
        "<html>\n",
        "<head>\n",
        "  <title></title>\n",
        "  <meta http-equiv=\"content-type\" content=\"text/html; charset=None\">\n",
        "  <style type=\"text/css\">\n",
        "td.linenos { background-color: #f0f0f0; padding-right: 10px; }\n",
        "span.lineno { background-color: #f0f0f0; padding: 0 5px 0 5px; }\n",
        "pre { line-height: 125%; }\n",
        "body .hll { background-color: #ffffcc }\n",
        "body  { background: #f8f8f8; }\n",
        "body .c { color: #408080; font-style: italic } /* Comment */\n",
        "body .err { border: 1px solid #FF0000 } /* Error */\n",
        "body .k { color: #008000; font-weight: bold } /* Keyword */\n",
        "body .o { color: #666666 } /* Operator */\n",
        "body .cm { color: #408080; font-style: italic } /* Comment.Multiline */\n",
        "body .cp { color: #BC7A00 } /* Comment.Preproc */\n",
        "body .c1 { color: #408080; font-style: italic } /* Comment.Single */\n",
        "body .cs { color: #408080; font-style: italic } /* Comment.Special */\n",
        "body .gd { color: #A00000 } /* Generic.Deleted */\n",
        "body .ge { font-style: italic } /* Generic.Emph */\n",
        "body .gr { color: #FF0000 } /* Generic.Error */\n",
        "body .gh { color: #000080; font-weight: bold } /* Generic.Heading */\n",
        "body .gi { color: #00A000 } /* Generic.Inserted */\n",
        "body .go { color: #888888 } /* Generic.Output */\n",
        "body .gp { color: #000080; font-weight: bold } /* Generic.Prompt */\n",
        "body .gs { font-weight: bold } /* Generic.Strong */\n",
        "body .gu { color: #800080; font-weight: bold } /* Generic.Subheading */\n",
        "body .gt { color: #0044DD } /* Generic.Traceback */\n",
        "body .kc { color: #008000; font-weight: bold } /* Keyword.Constant */\n",
        "body .kd { color: #008000; font-weight: bold } /* Keyword.Declaration */\n",
        "body .kn { color: #008000; font-weight: bold } /* Keyword.Namespace */\n",
        "body .kp { color: #008000 } /* Keyword.Pseudo */\n",
        "body .kr { color: #008000; font-weight: bold } /* Keyword.Reserved */\n",
        "body .kt { color: #B00040 } /* Keyword.Type */\n",
        "body .m { color: #666666 } /* Literal.Number */\n",
        "body .s { color: #BA2121 } /* Literal.String */\n",
        "body .na { color: #7D9029 } /* Name.Attribute */\n",
        "body .nb { color: #008000 } /* Name.Builtin */\n",
        "body .nc { color: #0000FF; font-weight: bold } /* Name.Class */\n",
        "body .no { color: #880000 } /* Name.Constant */\n",
        "body .nd { color: #AA22FF } /* Name.Decorator */\n",
        "body .ni { color: #999999; font-weight: bold } /* Name.Entity */\n",
        "body .ne { color: #D2413A; font-weight: bold } /* Name.Exception */\n",
        "body .nf { color: #0000FF } /* Name.Function */\n",
        "body .nl { color: #A0A000 } /* Name.Label */\n",
        "body .nn { color: #0000FF; font-weight: bold } /* Name.Namespace */\n",
        "body .nt { color: #008000; font-weight: bold } /* Name.Tag */\n",
        "body .nv { color: #19177C } /* Name.Variable */\n",
        "body .ow { color: #AA22FF; font-weight: bold } /* Operator.Word */\n",
        "body .w { color: #bbbbbb } /* Text.Whitespace */\n",
        "body .mf { color: #666666 } /* Literal.Number.Float */\n",
        "body .mh { color: #666666 } /* Literal.Number.Hex */\n",
        "body .mi { color: #666666 } /* Literal.Number.Integer */\n",
        "body .mo { color: #666666 } /* Literal.Number.Oct */\n",
        "body .sb { color: #BA2121 } /* Literal.String.Backtick */\n",
        "body .sc { color: #BA2121 } /* Literal.String.Char */\n",
        "body .sd { color: #BA2121; font-style: italic } /* Literal.String.Doc */\n",
        "body .s2 { color: #BA2121 } /* Literal.String.Double */\n",
        "body .se { color: #BB6622; font-weight: bold } /* Literal.String.Escape */\n",
        "body .sh { color: #BA2121 } /* Literal.String.Heredoc */\n",
        "body .si { color: #BB6688; font-weight: bold } /* Literal.String.Interpol */\n",
        "body .sx { color: #008000 } /* Literal.String.Other */\n",
        "body .sr { color: #BB6688 } /* Literal.String.Regex */\n",
        "body .s1 { color: #BA2121 } /* Literal.String.Single */\n",
        "body .ss { color: #19177C } /* Literal.String.Symbol */\n",
        "body .bp { color: #008000 } /* Name.Builtin.Pseudo */\n",
        "body .vc { color: #19177C } /* Name.Variable.Class */\n",
        "body .vg { color: #19177C } /* Name.Variable.Global */\n",
        "body .vi { color: #19177C } /* Name.Variable.Instance */\n",
        "body .il { color: #666666 } /* Literal.Number.Integer.Long */\n",
        "\n",
        "  </style>\n",
        "</head>\n",
        "<body>\n",
        "<h2></h2>\n",
        "\n",
        "<div class=\"highlight\"><pre><span class=\"k\">def</span> <span class=\"nf\">chord</span><span class=\"p\">(</span><span class=\"n\">f</span><span class=\"p\">,</span> <span class=\"n\">m</span><span class=\"p\">,</span> <span class=\"n\">x0</span><span class=\"p\">,</span> <span class=\"n\">tolerance</span> <span class=\"o\">=</span> <span class=\"mf\">1e-10</span><span class=\"p\">,</span> <span class=\"n\">MaxSteps</span> <span class=\"o\">=</span> <span class=\"mi\">100</span><span class=\"p\">):</span>\n",
        "    <span class=\"sd\">&quot;&quot;&quot;Implement the chord method to find the root of the equation f(x) = 0, </span>\n",
        "<span class=\"sd\">    starting from the initial guess x^{(0)} = x0.&quot;&quot;&quot;</span>\n",
        "    \n",
        "    <span class=\"n\">x</span> <span class=\"o\">=</span> <span class=\"n\">np</span><span class=\"o\">.</span><span class=\"n\">zeros</span><span class=\"p\">(</span><span class=\"n\">MaxSteps</span><span class=\"p\">)</span>\n",
        "    <span class=\"n\">x</span><span class=\"p\">[</span><span class=\"mi\">0</span><span class=\"p\">]</span> <span class=\"o\">=</span> <span class=\"n\">x0</span>\n",
        "    \n",
        "    <span class=\"c\"># Set up the map g</span>\n",
        "    <span class=\"n\">g</span> <span class=\"o\">=</span> <span class=\"k\">lambda</span> <span class=\"n\">x</span><span class=\"p\">:</span> <span class=\"n\">x</span> <span class=\"o\">-</span> <span class=\"n\">m</span> <span class=\"o\">*</span> <span class=\"n\">f</span><span class=\"p\">(</span><span class=\"n\">x</span><span class=\"p\">)</span>\n",
        "    \n",
        "    <span class=\"k\">for</span> <span class=\"n\">i</span> <span class=\"ow\">in</span> <span class=\"nb\">range</span><span class=\"p\">(</span><span class=\"mi\">1</span><span class=\"p\">,</span> <span class=\"n\">MaxSteps</span><span class=\"p\">):</span>\n",
        "        <span class=\"n\">x</span><span class=\"p\">[</span><span class=\"n\">i</span><span class=\"p\">]</span> <span class=\"o\">=</span> <span class=\"n\">g</span><span class=\"p\">(</span><span class=\"n\">x</span><span class=\"p\">[</span><span class=\"n\">i</span><span class=\"o\">-</span><span class=\"mi\">1</span><span class=\"p\">])</span>\n",
        "        <span class=\"k\">if</span> <span class=\"p\">(</span><span class=\"n\">np</span><span class=\"o\">.</span><span class=\"n\">absolute</span><span class=\"p\">(</span><span class=\"n\">f</span><span class=\"p\">(</span><span class=\"n\">x</span><span class=\"p\">[</span><span class=\"n\">i</span><span class=\"p\">]))</span> <span class=\"o\">&lt;</span> <span class=\"n\">tolerance</span><span class=\"p\">):</span>\n",
        "            <span class=\"k\">break</span>\n",
        "    <span class=\"k\">return</span> <span class=\"n\">x</span><span class=\"p\">[:</span><span class=\"n\">i</span><span class=\"o\">+</span><span class=\"mi\">1</span><span class=\"p\">]</span>\n",
        "</pre></div>\n",
        "</body>\n",
        "</html>\n"
       ],
       "metadata": {},
       "output_type": "pyout",
       "prompt_number": 14,
       "text": [
        "<IPython.core.display.HTML at 0x2da93d0>"
       ]
      }
     ],
     "prompt_number": 14
    },
    {
     "cell_type": "markdown",
     "metadata": {},
     "source": [
      "Note that we have already defined the function whose root we wish to find in worksheet 1:"
     ]
    },
    {
     "cell_type": "code",
     "collapsed": false,
     "input": [
      "import Worksheet1_Functions as w1\n",
      "ngcm.highlight_source(\"Worksheet1_Functions\", \"fn_worksheet1_q4\")"
     ],
     "language": "python",
     "metadata": {},
     "outputs": [
      {
       "html": [
        "<!DOCTYPE html PUBLIC \"-//W3C//DTD HTML 4.01//EN\"\n",
        "   \"http://www.w3.org/TR/html4/strict.dtd\">\n",
        "\n",
        "<html>\n",
        "<head>\n",
        "  <title></title>\n",
        "  <meta http-equiv=\"content-type\" content=\"text/html; charset=None\">\n",
        "  <style type=\"text/css\">\n",
        "td.linenos { background-color: #f0f0f0; padding-right: 10px; }\n",
        "span.lineno { background-color: #f0f0f0; padding: 0 5px 0 5px; }\n",
        "pre { line-height: 125%; }\n",
        "body .hll { background-color: #ffffcc }\n",
        "body  { background: #f8f8f8; }\n",
        "body .c { color: #408080; font-style: italic } /* Comment */\n",
        "body .err { border: 1px solid #FF0000 } /* Error */\n",
        "body .k { color: #008000; font-weight: bold } /* Keyword */\n",
        "body .o { color: #666666 } /* Operator */\n",
        "body .cm { color: #408080; font-style: italic } /* Comment.Multiline */\n",
        "body .cp { color: #BC7A00 } /* Comment.Preproc */\n",
        "body .c1 { color: #408080; font-style: italic } /* Comment.Single */\n",
        "body .cs { color: #408080; font-style: italic } /* Comment.Special */\n",
        "body .gd { color: #A00000 } /* Generic.Deleted */\n",
        "body .ge { font-style: italic } /* Generic.Emph */\n",
        "body .gr { color: #FF0000 } /* Generic.Error */\n",
        "body .gh { color: #000080; font-weight: bold } /* Generic.Heading */\n",
        "body .gi { color: #00A000 } /* Generic.Inserted */\n",
        "body .go { color: #888888 } /* Generic.Output */\n",
        "body .gp { color: #000080; font-weight: bold } /* Generic.Prompt */\n",
        "body .gs { font-weight: bold } /* Generic.Strong */\n",
        "body .gu { color: #800080; font-weight: bold } /* Generic.Subheading */\n",
        "body .gt { color: #0044DD } /* Generic.Traceback */\n",
        "body .kc { color: #008000; font-weight: bold } /* Keyword.Constant */\n",
        "body .kd { color: #008000; font-weight: bold } /* Keyword.Declaration */\n",
        "body .kn { color: #008000; font-weight: bold } /* Keyword.Namespace */\n",
        "body .kp { color: #008000 } /* Keyword.Pseudo */\n",
        "body .kr { color: #008000; font-weight: bold } /* Keyword.Reserved */\n",
        "body .kt { color: #B00040 } /* Keyword.Type */\n",
        "body .m { color: #666666 } /* Literal.Number */\n",
        "body .s { color: #BA2121 } /* Literal.String */\n",
        "body .na { color: #7D9029 } /* Name.Attribute */\n",
        "body .nb { color: #008000 } /* Name.Builtin */\n",
        "body .nc { color: #0000FF; font-weight: bold } /* Name.Class */\n",
        "body .no { color: #880000 } /* Name.Constant */\n",
        "body .nd { color: #AA22FF } /* Name.Decorator */\n",
        "body .ni { color: #999999; font-weight: bold } /* Name.Entity */\n",
        "body .ne { color: #D2413A; font-weight: bold } /* Name.Exception */\n",
        "body .nf { color: #0000FF } /* Name.Function */\n",
        "body .nl { color: #A0A000 } /* Name.Label */\n",
        "body .nn { color: #0000FF; font-weight: bold } /* Name.Namespace */\n",
        "body .nt { color: #008000; font-weight: bold } /* Name.Tag */\n",
        "body .nv { color: #19177C } /* Name.Variable */\n",
        "body .ow { color: #AA22FF; font-weight: bold } /* Operator.Word */\n",
        "body .w { color: #bbbbbb } /* Text.Whitespace */\n",
        "body .mf { color: #666666 } /* Literal.Number.Float */\n",
        "body .mh { color: #666666 } /* Literal.Number.Hex */\n",
        "body .mi { color: #666666 } /* Literal.Number.Integer */\n",
        "body .mo { color: #666666 } /* Literal.Number.Oct */\n",
        "body .sb { color: #BA2121 } /* Literal.String.Backtick */\n",
        "body .sc { color: #BA2121 } /* Literal.String.Char */\n",
        "body .sd { color: #BA2121; font-style: italic } /* Literal.String.Doc */\n",
        "body .s2 { color: #BA2121 } /* Literal.String.Double */\n",
        "body .se { color: #BB6622; font-weight: bold } /* Literal.String.Escape */\n",
        "body .sh { color: #BA2121 } /* Literal.String.Heredoc */\n",
        "body .si { color: #BB6688; font-weight: bold } /* Literal.String.Interpol */\n",
        "body .sx { color: #008000 } /* Literal.String.Other */\n",
        "body .sr { color: #BB6688 } /* Literal.String.Regex */\n",
        "body .s1 { color: #BA2121 } /* Literal.String.Single */\n",
        "body .ss { color: #19177C } /* Literal.String.Symbol */\n",
        "body .bp { color: #008000 } /* Name.Builtin.Pseudo */\n",
        "body .vc { color: #19177C } /* Name.Variable.Class */\n",
        "body .vg { color: #19177C } /* Name.Variable.Global */\n",
        "body .vi { color: #19177C } /* Name.Variable.Instance */\n",
        "body .il { color: #666666 } /* Literal.Number.Integer.Long */\n",
        "\n",
        "  </style>\n",
        "</head>\n",
        "<body>\n",
        "<h2></h2>\n",
        "\n",
        "<div class=\"highlight\"><pre><span class=\"k\">def</span> <span class=\"nf\">fn_worksheet1_q4</span><span class=\"p\">(</span><span class=\"n\">x</span><span class=\"p\">):</span>\n",
        "    <span class=\"sd\">&quot;&quot;&quot;Simple function defined in question, f(x) = tan(x) - exp(-x).&quot;&quot;&quot;</span>\n",
        "    \n",
        "    <span class=\"k\">return</span> <span class=\"n\">np</span><span class=\"o\">.</span><span class=\"n\">tan</span><span class=\"p\">(</span><span class=\"n\">x</span><span class=\"p\">)</span> <span class=\"o\">-</span> <span class=\"n\">np</span><span class=\"o\">.</span><span class=\"n\">exp</span><span class=\"p\">(</span><span class=\"o\">-</span><span class=\"n\">x</span><span class=\"p\">)</span>\n",
        "</pre></div>\n",
        "</body>\n",
        "</html>\n"
       ],
       "metadata": {},
       "output_type": "pyout",
       "prompt_number": 15,
       "text": [
        "<IPython.core.display.HTML at 0x2da98d0>"
       ]
      }
     ],
     "prompt_number": 15
    },
    {
     "cell_type": "code",
     "collapsed": false,
     "input": [
      "import matplotlib.pyplot as plt\n",
      "\n",
      "# Note that over the interval [0, 1] f' is between 2 and 4. We need 0 < m f' < 2, so choose m = 0.5\n",
      "# We will also start from x = 0.\n",
      "\n",
      "x = w2.chord(w1.fn_worksheet1_q4, 0.5, 0.0)\n",
      "print(\"The root is approximately {} where f is {} after {} steps.\\n\"\\\n",
      "    .format(x[-1], w1.fn_worksheet1_q4(x[-1]), len(x)))\n",
      "      \n",
      "fig = plt.figure(figsize = (12, 8), dpi = 50)\n",
      "plt.semilogy(range(len(x)-1), np.absolute(x[:-1] - x[-1]), 'kx')\n",
      "plt.xlabel('Iteration', size = 16)\n",
      "plt.ylabel('$|x_i - x_{final}|$', size = 16)\n",
      "plt.show()"
     ],
     "language": "python",
     "metadata": {},
     "outputs": [
      {
       "output_type": "stream",
       "stream": "stdout",
       "text": [
        "The root is approximately 0.53139085665 where f is -3.43569617201e-12 after 9 steps.\n",
        "\n"
       ]
      },
      {
       "metadata": {},
       "output_type": "display_data",
       "png": "[encoded data removed]",
       "text": [
        "<matplotlib.figure.Figure at 0x2dad650>"
       ]
      }
     ],
     "prompt_number": 16
    },
    {
     "cell_type": "code",
     "collapsed": false,
     "input": [
      "from IPython.core.display import HTML\n",
      "def css_styling():\n",
      "    styles = open(\"../../IPythonNotebookStyles/custom.css\", \"r\").read()\n",
      "    return HTML(styles)\n",
      "css_styling()"
     ],
     "language": "python",
     "metadata": {},
     "outputs": [
      {
       "html": [
        "<style>\n",
        "    @font-face {\n",
        "        font-family: \"Computer Modern\";\n",
        "        src: url('http://mirrors.ctan.org/fonts/cm-unicode/fonts/otf/cmunss.otf');\n",
        "    }\n",
        "    div.cell{\n",
        "        width:800px;\n",
        "        margin-left:16% !important;\n",
        "        margin-right:auto;\n",
        "    }\n",
        "    h1 {\n",
        "        font-family: Verdana, Arial, Helvetica, sans-serif;\n",
        "    }\n",
        "    h2 {\n",
        "        font-family: Verdana, Arial, Helvetica, sans-serif;\n",
        "    }\n",
        "    h3 {\n",
        "        font-family: Verdana, Arial, Helvetica, sans-serif;\n",
        "    }\n",
        "    div.text_cell_render{\n",
        "        font-family: Gill, Verdana, Arial, Helvetica, sans-serif;\n",
        "        line-height: 110%;\n",
        "        font-size: 120%;\n",
        "        width:700px;\n",
        "        margin-left:auto;\n",
        "        margin-right:auto;\n",
        "    }\n",
        "    .CodeMirror{\n",
        "            font-family: \"Source Code Pro\", source-code-pro,Consolas, monospace;\n",
        "    }\n",
        "/*    .prompt{\n",
        "        display: None;\n",
        "    }*/\n",
        "    .text_cell_render h5 {\n",
        "        font-weight: 300;\n",
        "        font-size: 12pt;\n",
        "        color: #4057A1;\n",
        "        font-style: italic;\n",
        "        margin-bottom: .5em;\n",
        "        margin-top: 0.5em;\n",
        "        display: block;\n",
        "    }\n",
        "    \n",
        "    .warning{\n",
        "        color: rgb( 240, 20, 20 )\n",
        "        }  \n",
        "</style>\n",
        "<script>\n",
        "    MathJax.Hub.Config({\n",
        "                        TeX: {\n",
        "                           extensions: [\"AMSmath.js\"]\n",
        "                           },\n",
        "                tex2jax: {\n",
        "                    inlineMath: [ ['$','$'], [\"\\\\(\",\"\\\\)\"] ],\n",
        "                    displayMath: [ ['$$','$$'], [\"\\\\[\",\"\\\\]\"] ]\n",
        "                },\n",
        "                displayAlign: 'center', // Change this to 'center' to center equations.\n",
        "                \"HTML-CSS\": {\n",
        "                    styles: {'.MathJax_Display': {\"margin\": 4}}\n",
        "                }\n",
        "        });\n",
        "</script>"
       ],
       "metadata": {},
       "output_type": "pyout",
       "prompt_number": 17,
       "text": [
        "<IPython.core.display.HTML at 0x2da9ed0>"
       ]
      }
     ],
     "prompt_number": 17
    },
    {
     "cell_type": "markdown",
     "metadata": {},
     "source": [
      "> (The cell above executes the style for this notebook. It closely follows the style used in the [12 Steps to Navier Stokes](http://lorenabarba.com/blog/cfd-python-12-steps-to-navier-stokes/) course.)"
     ]
    }
   ],
   "metadata": {}
  }
 ]
}