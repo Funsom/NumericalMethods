{
 "metadata": {
  "name": "",
  "signature": "sha256:d47568e6bfd10b143855c5e55c29aef6ed6e8924c127abc6c29095b880d656d8"
 },
 "nbformat": 3,
 "nbformat_minor": 0,
 "worksheets": [
  {
   "cells": [
    {
     "cell_type": "heading",
     "level": 1,
     "metadata": {},
     "source": [
      "Worksheet 1"
     ]
    },
    {
     "cell_type": "code",
     "collapsed": false,
     "input": [
      "%matplotlib inline"
     ],
     "language": "python",
     "metadata": {},
     "outputs": [],
     "prompt_number": 1
    },
    {
     "cell_type": "code",
     "collapsed": false,
     "input": [
      "import ngcm_utils as ngcm"
     ],
     "language": "python",
     "metadata": {},
     "outputs": [],
     "prompt_number": 2
    },
    {
     "cell_type": "markdown",
     "metadata": {},
     "source": [
      "The first worksheet covers basic topics in linear algebra. There is also a basic question on nonlinear root-finding."
     ]
    },
    {
     "cell_type": "heading",
     "level": 2,
     "metadata": {},
     "source": [
      "Question 1"
     ]
    },
    {
     "cell_type": "markdown",
     "metadata": {},
     "source": [
      "Write down the 1, 2 and $\\infty$ vector norms of\n",
      "\n",
      "\\begin{equation}\n",
      "  {\\bf v}_1 = \\begin{pmatrix} 1 \\\\ 3 \\\\ -1 \\end{pmatrix}, \\quad {\\bf v}_2 = \\begin{pmatrix} 1 \\\\ -2 \\end{pmatrix}, \\quad {\\bf v}_3 = \\begin{pmatrix} 1 \\\\ 6 \\\\ -3 \\\\ 1 \\end{pmatrix}.\n",
      "\\end{equation}"
     ]
    },
    {
     "cell_type": "heading",
     "level": 3,
     "metadata": {},
     "source": [
      "Answer Question 1"
     ]
    },
    {
     "cell_type": "markdown",
     "metadata": {},
     "source": [
      "We know that the 1-norm is the sum of the absolute values, so\n",
      "\n",
      "\\begin{align}\n",
      "  | {\\bf v}_{1} |_1 &= 1 + 3 + 1 = 5, \\\\\n",
      "  | {\\bf v}_{2} |_1 &= 1 + 2 = 3, \\\\\n",
      "  | {\\bf v}_{2} |_1 &= 1 + 6 + 3 + 1 = 11.\n",
      "\\end{align}\n",
      "\n",
      "The 2-norm is the square root of the sum of the squares, so\n",
      "\n",
      "\\begin{align}\n",
      "  | {\\bf v}_{1} |_2 &= \\sqrt{1^2 + 3^2 + 1^2} = \\sqrt{11} \\approx 3.3166, \\\\\n",
      "  | {\\bf v}_{2} |_2 &= \\sqrt{1^2 + 3^2} = \\sqrt{10} \\approx 2.2361, \\\\\n",
      "  | {\\bf v}_{2} |_2 &= \\sqrt{1^2 + 6^2 + 3^2 + 1^2} = \\sqrt{47} \\approx 6.8557.\n",
      "\\end{align}\n",
      "\n",
      "The $\\infty$-norm is the maximum absolute value, so \n",
      "\n",
      "\\begin{align}\n",
      "  | {\\bf v}_{1} |_{\\infty} &= 3, \\\\\n",
      "  | {\\bf v}_{2} |_{\\infty} &= 2, \\\\\n",
      "  | {\\bf v}_{2} |_{\\infty} &= 6.\n",
      "\\end{align}\n"
     ]
    },
    {
     "cell_type": "markdown",
     "metadata": {},
     "source": [
      "Next we calculate the condition numbers numerically using python, as a cross-check. Use numpy for this, via its linear algebra subpackage `numpy.linalg`."
     ]
    },
    {
     "cell_type": "code",
     "collapsed": false,
     "input": [
      "import numpy as np\n",
      "import numpy.linalg as la\n",
      "\n",
      "v1 = np.array([1.0,  3.0, -1.0])\n",
      "v2 = np.array([1.0, -2.0])\n",
      "v3 = np.array([1.0,  6.0, -3.0, 1.0])\n",
      "\n",
      "for norm in [1, 2, np.inf]:\n",
      "    for v in [v1, v2, v3]:\n",
      "        print(\"The {0} norm of {1} is {2:.3}\".\\\n",
      "              format(norm, v, la.norm(v, norm)))"
     ],
     "language": "python",
     "metadata": {},
     "outputs": [
      {
       "output_type": "stream",
       "stream": "stdout",
       "text": [
        "The 1 norm of [ 1.  3. -1.] is 5.0\n",
        "The 1 norm of [ 1. -2.] is 3.0\n",
        "The 1 norm of [ 1.  6. -3.  1.] is 11.0\n",
        "The 2 norm of [ 1.  3. -1.] is 3.32\n",
        "The 2 norm of [ 1. -2.] is 2.24\n",
        "The 2 norm of [ 1.  6. -3.  1.] is 6.86\n",
        "The inf norm of [ 1.  3. -1.] is 3.0\n",
        "The inf norm of [ 1. -2.] is 2.0\n",
        "The inf norm of [ 1.  6. -3.  1.] is 6.0\n"
       ]
      }
     ],
     "prompt_number": 3
    },
    {
     "cell_type": "markdown",
     "metadata": {},
     "source": [
      "To show how this would be done in Matlab, we use the Octave mode here (note that Octave is a free software Matlab clone: not as full featured, but using very similar syntax)."
     ]
    },
    {
     "cell_type": "code",
     "collapsed": false,
     "input": [
      "%load_ext octavemagic"
     ],
     "language": "python",
     "metadata": {},
     "outputs": [],
     "prompt_number": 4
    },
    {
     "cell_type": "code",
     "collapsed": false,
     "input": [
      "%%octave\n",
      "\n",
      "v1 = [1,  3, -1];\n",
      "v2 = [1, -2];\n",
      "v3 = [1,  6, -3, 1];\n",
      "\n",
      "printf(\"The 1 norm of v1 is %f.\\n\", norm(v1, 1))\n",
      "printf(\"The 1 norm of v2 is %f.\\n\", norm(v2, 1))\n",
      "printf(\"The 1 norm of v3 is %f.\\n\", norm(v3, 1))\n",
      "printf(\"The 2 norm of v1 is %f.\\n\", norm(v1, 2))\n",
      "printf(\"The 2 norm of v2 is %f.\\n\", norm(v2, 2))\n",
      "printf(\"The 2 norm of v3 is %f.\\n\", norm(v3, 2))\n",
      "printf(\"The inf norm of v1 is %f.\\n\", norm(v1, \"inf\"))\n",
      "printf(\"The inf norm of v2 is %f.\\n\", norm(v2, \"inf\"))\n",
      "printf(\"The inf norm of v3 is %f.\\n\", norm(v3, \"inf\"))"
     ],
     "language": "python",
     "metadata": {},
     "outputs": [
      {
       "metadata": {},
       "output_type": "display_data",
       "text": [
        "The 1 norm of v1 is 5.000000.\n",
        "The 1 norm of v2 is 3.000000.\n",
        "The 1 norm of v3 is 11.000000.\n",
        "The 2 norm of v1 is 3.316625.\n",
        "The 2 norm of v2 is 2.236068.\n",
        "The 2 norm of v3 is 6.855655.\n",
        "The inf norm of v1 is 3.000000.\n",
        "The inf norm of v2 is 2.000000.\n",
        "The inf norm of v3 is 6.000000."
       ]
      }
     ],
     "prompt_number": 5
    },
    {
     "cell_type": "heading",
     "level": 2,
     "metadata": {},
     "source": [
      "Question 2"
     ]
    },
    {
     "cell_type": "markdown",
     "metadata": {},
     "source": [
      "Find the 1 and $\\infty$ norms of\n",
      "\n",
      "\\begin{equation}\n",
      "  A_1 = \\begin{pmatrix} 1 & 2 \\\\ 3 & 4 \\end{pmatrix}, \\quad A_2 = \\begin{pmatrix} -3 & 2 \\\\ 3 & 6 \\end{pmatrix}.\n",
      "\\end{equation}"
     ]
    },
    {
     "cell_type": "heading",
     "level": 3,
     "metadata": {},
     "source": [
      "Answer Question 2"
     ]
    },
    {
     "cell_type": "markdown",
     "metadata": {},
     "source": [
      "The 1-norm of a matrix is the maximum of the 1-norms of the **column** vectors. For $A_1$ the 1-norms of the column vectors are 4 and 6 respectively. For $A_2$ they are 6 and 8 respectively. So we have\n",
      "\n",
      "\\begin{align}\n",
      "  \\| A_1 \\|_1 &= 6, \\\\\n",
      "  \\| A_2 \\|_1 & = 8.\n",
      "\\end{align}\n",
      "\n",
      "The $\\infty$ norm of a matrix is the maximum of the 1-norms of the **row** vectors. For $A_1$ the 1-norms of the row vectors are 3 and 7 respectively. For $A_2$ they are 5 and 9 respectively. So we have\n",
      "\n",
      "\\begin{align}\n",
      "  \\| A_1 \\|_{\\infty} &= 7, \\\\\n",
      "  \\| A_2 \\|_{\\infty} & = 9.\n",
      "\\end{align}\n"
     ]
    },
    {
     "cell_type": "markdown",
     "metadata": {},
     "source": [
      "It is equally straightforward to repeat this calculation with python, using the same approach."
     ]
    },
    {
     "cell_type": "code",
     "collapsed": false,
     "input": [
      "A1 = np.array([[ 1.0, 2.0],[3.0, 4.0]])\n",
      "A2 = np.array([[-3.0, 2.0],[3.0, 6.0]])\n",
      "\n",
      "for norm in [1, np.inf]:\n",
      "    for A in [A1, A2]:\n",
      "        print(\"The {0} norm of \\n{1}\\nis {2:.3}\\n\".\\\n",
      "              format(norm, A, la.norm(A, norm)))"
     ],
     "language": "python",
     "metadata": {},
     "outputs": [
      {
       "output_type": "stream",
       "stream": "stdout",
       "text": [
        "The 1 norm of \n",
        "[[ 1.  2.]\n",
        " [ 3.  4.]]\n",
        "is 6.0\n",
        "\n",
        "The 1 norm of \n",
        "[[-3.  2.]\n",
        " [ 3.  6.]]\n",
        "is 8.0\n",
        "\n",
        "The inf norm of \n",
        "[[ 1.  2.]\n",
        " [ 3.  4.]]\n",
        "is 7.0\n",
        "\n",
        "The inf norm of \n",
        "[[-3.  2.]\n",
        " [ 3.  6.]]\n",
        "is 9.0\n",
        "\n"
       ]
      }
     ],
     "prompt_number": 6
    },
    {
     "cell_type": "markdown",
     "metadata": {},
     "source": [
      "Again, using Matlab syntax we would do the following."
     ]
    },
    {
     "cell_type": "code",
     "collapsed": false,
     "input": [
      "%%octave\n",
      "\n",
      "A1 = [ 1 2; 3 4];\n",
      "A2 = [-3 2; 3 6];\n",
      "\n",
      "printf(\"The 1 norm of A1 is %f.\\n\", norm(A1, 1))\n",
      "printf(\"The 1 norm of A2 is %f.\\n\", norm(A2, 1))\n",
      "printf(\"The inf norm of A1 is %f.\\n\", norm(A1, \"inf\"))\n",
      "printf(\"The inf norm of A2 is %f.\\n\", norm(A2, \"inf\"))"
     ],
     "language": "python",
     "metadata": {},
     "outputs": [
      {
       "metadata": {},
       "output_type": "display_data",
       "text": [
        "The 1 norm of A1 is 6.000000.\n",
        "The 1 norm of A2 is 8.000000.\n",
        "The inf norm of A1 is 7.000000.\n",
        "The inf norm of A2 is 9.000000."
       ]
      }
     ],
     "prompt_number": 7
    },
    {
     "cell_type": "heading",
     "level": 2,
     "metadata": {},
     "source": [
      "Question 3"
     ]
    },
    {
     "cell_type": "markdown",
     "metadata": {},
     "source": [
      "Find the condition number of the above matrices."
     ]
    },
    {
     "cell_type": "heading",
     "level": 3,
     "metadata": {},
     "source": [
      "Answer Question 3"
     ]
    },
    {
     "cell_type": "markdown",
     "metadata": {},
     "source": [
      "The analytic calculation of the condition number requires the norm of the inverse matrices, which is **not** the inverse of the norm of the matrix. This is, of course, not useful for the numerical work.\n",
      "\n",
      "The inverse matrices are\n",
      "\n",
      "\\begin{align}\n",
      "  A_1^{-1} & = - \\frac{1}{2} \\begin{pmatrix} 4 & -2 \\\\ -3 & 1 \\end{pmatrix}, \\\\\n",
      "  A_2^{-1} & = - \\frac{1}{24} \\begin{pmatrix} 6 & -2 \\\\ -3 & -3 \\end{pmatrix}.\n",
      "\\end{align}\n",
      "\n",
      "It follows that the matrix norms of the inverse matrices are\n",
      "\n",
      "\\begin{align}\n",
      "  \\| A_1^{-1} \\| & = \\frac{7}{2}, & \\| A_2^{-1} \\|_1 & = \\frac{3}{8}, \\\\\n",
      "  \\| A_1^{-1} \\|_{\\infty} & = 3, & \\| A_2^{-1} \\|_{\\infty} & = \\frac{1}{3}.\n",
      "\\end{align}\n",
      "\n",
      "Therefore the condition numbers with respect to the 1-norm are\n",
      "\n",
      "\\begin{align}\n",
      "  K(A_1) & = \\| A_1 \\|_1 \\| A_1^{-1} \\|_1 \\\\ & = 21, \\\\\n",
      "  K(A_2) & = \\| A_2 \\|_1 \\| A_2^{-1} \\|_1 \\\\ & = 3,\n",
      "\\end{align}\n",
      "\n",
      "and the condition numbers with respect to the $\\infty$-norm are\n",
      "\n",
      "\\begin{align}\n",
      "  K(A_1) & = \\| A_1 \\|_{\\infty} \\| A_1^{-1} \\|_{\\infty} \\\\ & = 21, \\\\\n",
      "  K(A_2) & = \\| A_2 \\|_{\\infty} \\| A_2^{-1} \\|_{\\infty} \\\\ & = 3.\n",
      "\\end{align}\n",
      "\n",
      "Note that it is chance that, in this case, they are identical: this will not be true in general.\n",
      "\n",
      "This suggests that, if the solution of a linear system is needed as part of a numerical method, any intrinsic errors will be increased more by the matrix $A_1$ than by the matrix $A_2$, by a factor $\\sim 10$."
     ]
    },
    {
     "cell_type": "markdown",
     "metadata": {},
     "source": [
      "When calculating the condition number numerically, the Singular Value Decomposition (SVD) is typically used, which does not require inverting the matrix. Thus calculating the condition number of fast, and should be done before any matrix operation to check the condition of the matrix. Within python, this is straightforward."
     ]
    },
    {
     "cell_type": "code",
     "collapsed": false,
     "input": [
      "A1 = np.array([[ 1.0, 2.0],[3.0, 4.0]])\n",
      "A2 = np.array([[-3.0, 2.0],[3.0, 6.0]])\n",
      "\n",
      "for norm in [1, 2, np.inf]:\n",
      "    for A in [A1, A2]:\n",
      "        print(\"The condition number with respect to the\"\\\n",
      "              \" {0} norm of\\n{1}\\nis {2:.3}\\n\"\\\n",
      "              .format(norm, A, la.cond(A, norm)))"
     ],
     "language": "python",
     "metadata": {},
     "outputs": [
      {
       "output_type": "stream",
       "stream": "stdout",
       "text": [
        "The condition number with respect to the 1 norm of\n",
        "[[ 1.  2.]\n",
        " [ 3.  4.]]\n",
        "is 21.0\n",
        "\n",
        "The condition number with respect to the 1 norm of\n",
        "[[-3.  2.]\n",
        " [ 3.  6.]]\n",
        "is 3.0\n",
        "\n",
        "The condition number with respect to the 2 norm of\n",
        "[[ 1.  2.]\n",
        " [ 3.  4.]]\n",
        "is 14.9\n"
       ]
      },
      {
       "output_type": "stream",
       "stream": "stdout",
       "text": [
        "\n",
        "The condition number with respect to the 2 norm of\n",
        "[[-3.  2.]\n",
        " [ 3.  6.]]\n",
        "is 1.89\n",
        "\n",
        "The condition number with respect to the inf norm of\n",
        "[[ 1.  2.]\n",
        " [ 3.  4.]]\n",
        "is 21.0\n",
        "\n",
        "The condition number with respect to the inf norm of\n",
        "[[-3.  2.]\n",
        " [ 3.  6.]]\n",
        "is 3.0\n",
        "\n"
       ]
      }
     ],
     "prompt_number": 8
    },
    {
     "cell_type": "markdown",
     "metadata": {},
     "source": [
      "Again, similar functions exist in Matlab."
     ]
    },
    {
     "cell_type": "code",
     "collapsed": false,
     "input": [
      "%%octave\n",
      "\n",
      "A1 = [ 1 2; 3 4];\n",
      "A2 = [-3 2; 3 6];\n",
      "\n",
      "printf(\"The condition number with respect to the 1 norm of A1 is %f.\\n\", \\\n",
      "       cond(A1, 1))\n",
      "printf(\"The condition number with respect to the 1 norm of A2 is %f.\\n\", \\\n",
      "       cond(A2, 1))\n",
      "printf(\"The condition number with respect to the 2 norm of A1 is %f.\\n\", \\\n",
      "       cond(A1, 2))\n",
      "printf(\"The condition number with respect to the 2 norm of A2 is %f.\\n\", \\\n",
      "       cond(A2, 2))\n",
      "printf(\"The condition number with respect to the inf norm of A1 is %f.\\n\", \\\n",
      "       cond(A1, \"inf\"))\n",
      "printf(\"The condition number with respect to the inf norm of A2 is %f.\\n\", \\\n",
      "       cond(A2, \"inf\"))\n"
     ],
     "language": "python",
     "metadata": {},
     "outputs": [
      {
       "metadata": {},
       "output_type": "display_data",
       "text": [
        "The condition number with respect to the 1 norm of A1 is 21.000000.\n",
        "The condition number with respect to the 1 norm of A2 is 3.000000.\n",
        "The condition number with respect to the 2 norm of A1 is 14.933034.\n",
        "The condition number with respect to the 2 norm of A2 is 1.886618.\n",
        "The condition number with respect to the inf norm of A1 is 21.000000.\n",
        "The condition number with respect to the inf norm of A2 is 3.000000."
       ]
      }
     ],
     "prompt_number": 9
    },
    {
     "cell_type": "heading",
     "level": 2,
     "metadata": {},
     "source": [
      "Question 4"
     ]
    },
    {
     "cell_type": "markdown",
     "metadata": {},
     "source": [
      "Explain the difference between direct and indirect methods for solving linear systems. Give an example of when the latter may be more useful.\n",
      "\n",
      "*This is a standard part of an exam question: see, e.g., 07/08*."
     ]
    },
    {
     "cell_type": "heading",
     "level": 3,
     "metadata": {},
     "source": [
      "Answer Question 4"
     ]
    },
    {
     "cell_type": "markdown",
     "metadata": {},
     "source": [
      "*Direct methods* consist of a finite list of transformations of the original matrix of the coefficients that reduce the linear systems to one that is easily solved. \n",
      "\n",
      "*Indirect* or *iterative methods*, consist of algorithms that specify a series of steps, possibly infinite, that lead closer and closer to the solution; there may not be a guarantee that they ever exactly reach it. This may not seem a very desirable feature until we remember that we cannot in any case perfectly represent an exact solution: most iterative methods provide us with a highly accurate solution in relatively few iterations.\n",
      "\n",
      "Large, sparse matrices are ideally solved using iterative methods."
     ]
    },
    {
     "cell_type": "heading",
     "level": 2,
     "metadata": {},
     "source": [
      "Coding Question 1"
     ]
    },
    {
     "cell_type": "markdown",
     "metadata": {},
     "source": [
      "For each of the matrices above, work out their transpose and inverse using standard python commands."
     ]
    },
    {
     "cell_type": "heading",
     "level": 3,
     "metadata": {},
     "source": [
      "Answer Coding Question 1"
     ]
    },
    {
     "cell_type": "code",
     "collapsed": false,
     "input": [
      "A1 = np.array([[ 1.0, 2.0],[3.0, 4.0]])\n",
      "A2 = np.array([[-3.0, 2.0],[3.0, 6.0]])\n",
      "\n",
      "for A in [A1, A2]:\n",
      "    print(\"The transpose of \\n{0}\\nis \\n{1}\\n\".format(A, np.transpose(A)))\n",
      "    print(\"The inverse of \\n{0}\\nis \\n{1}\\n\".format(A, la.inv(A)))"
     ],
     "language": "python",
     "metadata": {},
     "outputs": [
      {
       "output_type": "stream",
       "stream": "stdout",
       "text": [
        "The transpose of \n",
        "[[ 1.  2.]\n",
        " [ 3.  4.]]\n",
        "is \n",
        "[[ 1.  3.]\n",
        " [ 2.  4.]]\n",
        "\n",
        "The inverse of \n",
        "[[ 1.  2.]\n",
        " [ 3.  4.]]\n",
        "is \n",
        "[[-2.   1. ]\n",
        " [ 1.5 -0.5]]\n",
        "\n",
        "The transpose of \n",
        "[[-3.  2.]\n",
        " [ 3.  6.]]\n",
        "is \n",
        "[[-3.  3.]\n",
        " [ 2.  6.]]\n",
        "\n",
        "The inverse of \n",
        "[[-3.  2.]\n",
        " [ 3.  6.]]\n",
        "is \n",
        "[[-0.25        0.08333333]\n",
        " [ 0.125       0.125     ]]\n",
        "\n"
       ]
      }
     ],
     "prompt_number": 10
    },
    {
     "cell_type": "markdown",
     "metadata": {},
     "source": [
      "Once again, we can use Matlab functions to do this."
     ]
    },
    {
     "cell_type": "code",
     "collapsed": false,
     "input": [
      "%%octave\n",
      "\n",
      "A1 = [ 1 2; 3 4];\n",
      "A2 = [-3 2; 3 6];\n",
      "\n",
      "printf(\"The transpose of A1 is \\n\")\n",
      "disp(A1.')\n",
      "printf(\"The inverse of A1 is \\n\")\n",
      "disp(inv(A1))\n",
      "printf(\"The transpose of A2 is \\n\")\n",
      "disp(A2.')\n",
      "printf(\"The inverse of A2 is \\n\")\n",
      "disp(inv(A2))"
     ],
     "language": "python",
     "metadata": {},
     "outputs": [
      {
       "metadata": {},
       "output_type": "display_data",
       "text": [
        "The transpose of A1 is\n",
        "        1        3\n",
        "        2        4\n",
        "The inverse of A1 is\n",
        "  -2.00000  1.00000\n",
        "  1.50000  -0.50000\n",
        "The transpose of A2 is\n",
        "       -3        3\n",
        "        2        6\n",
        "The inverse of A2 is\n",
        "  -0.25000  0.08333\n",
        "  0.12500  0.12500"
       ]
      }
     ],
     "prompt_number": 11
    },
    {
     "cell_type": "heading",
     "level": 2,
     "metadata": {},
     "source": [
      "Coding Question 3"
     ]
    },
    {
     "cell_type": "markdown",
     "metadata": {},
     "source": [
      "Note that coding question 2 has been effectively answered above, in the \"theory\" section."
     ]
    },
    {
     "cell_type": "markdown",
     "metadata": {},
     "source": [
      "Write a function that takes a matrix, computes its condition number, and reports whether the matrix is suitably well-conditions. The choice of criteria is up to you."
     ]
    },
    {
     "cell_type": "heading",
     "level": 3,
     "metadata": {},
     "source": [
      "Answer Coding Question 3"
     ]
    },
    {
     "cell_type": "markdown",
     "metadata": {},
     "source": [
      "As we are now starting to use functions, we could define them in the notebook, or in a separate file. Here I have used a separate file : `Worksheet1_Functions.py`. The function is defined as follows."
     ]
    },
    {
     "cell_type": "code",
     "collapsed": false,
     "input": [
      "ngcm.highlight_source(\"Worksheet1_Functions\", \"MatrixConditionCheck\")"
     ],
     "language": "python",
     "metadata": {},
     "outputs": [
      {
       "html": [
        "<!DOCTYPE html PUBLIC \"-//W3C//DTD HTML 4.01//EN\"\n",
        "   \"http://www.w3.org/TR/html4/strict.dtd\">\n",
        "\n",
        "<html>\n",
        "<head>\n",
        "  <title></title>\n",
        "  <meta http-equiv=\"content-type\" content=\"text/html; charset=None\">\n",
        "  <style type=\"text/css\">\n",
        "td.linenos { background-color: #f0f0f0; padding-right: 10px; }\n",
        "span.lineno { background-color: #f0f0f0; padding: 0 5px 0 5px; }\n",
        "pre { line-height: 125%; }\n",
        "body .hll { background-color: #ffffcc }\n",
        "body  { background: #f8f8f8; }\n",
        "body .c { color: #408080; font-style: italic } /* Comment */\n",
        "body .err { border: 1px solid #FF0000 } /* Error */\n",
        "body .k { color: #008000; font-weight: bold } /* Keyword */\n",
        "body .o { color: #666666 } /* Operator */\n",
        "body .cm { color: #408080; font-style: italic } /* Comment.Multiline */\n",
        "body .cp { color: #BC7A00 } /* Comment.Preproc */\n",
        "body .c1 { color: #408080; font-style: italic } /* Comment.Single */\n",
        "body .cs { color: #408080; font-style: italic } /* Comment.Special */\n",
        "body .gd { color: #A00000 } /* Generic.Deleted */\n",
        "body .ge { font-style: italic } /* Generic.Emph */\n",
        "body .gr { color: #FF0000 } /* Generic.Error */\n",
        "body .gh { color: #000080; font-weight: bold } /* Generic.Heading */\n",
        "body .gi { color: #00A000 } /* Generic.Inserted */\n",
        "body .go { color: #888888 } /* Generic.Output */\n",
        "body .gp { color: #000080; font-weight: bold } /* Generic.Prompt */\n",
        "body .gs { font-weight: bold } /* Generic.Strong */\n",
        "body .gu { color: #800080; font-weight: bold } /* Generic.Subheading */\n",
        "body .gt { color: #0044DD } /* Generic.Traceback */\n",
        "body .kc { color: #008000; font-weight: bold } /* Keyword.Constant */\n",
        "body .kd { color: #008000; font-weight: bold } /* Keyword.Declaration */\n",
        "body .kn { color: #008000; font-weight: bold } /* Keyword.Namespace */\n",
        "body .kp { color: #008000 } /* Keyword.Pseudo */\n",
        "body .kr { color: #008000; font-weight: bold } /* Keyword.Reserved */\n",
        "body .kt { color: #B00040 } /* Keyword.Type */\n",
        "body .m { color: #666666 } /* Literal.Number */\n",
        "body .s { color: #BA2121 } /* Literal.String */\n",
        "body .na { color: #7D9029 } /* Name.Attribute */\n",
        "body .nb { color: #008000 } /* Name.Builtin */\n",
        "body .nc { color: #0000FF; font-weight: bold } /* Name.Class */\n",
        "body .no { color: #880000 } /* Name.Constant */\n",
        "body .nd { color: #AA22FF } /* Name.Decorator */\n",
        "body .ni { color: #999999; font-weight: bold } /* Name.Entity */\n",
        "body .ne { color: #D2413A; font-weight: bold } /* Name.Exception */\n",
        "body .nf { color: #0000FF } /* Name.Function */\n",
        "body .nl { color: #A0A000 } /* Name.Label */\n",
        "body .nn { color: #0000FF; font-weight: bold } /* Name.Namespace */\n",
        "body .nt { color: #008000; font-weight: bold } /* Name.Tag */\n",
        "body .nv { color: #19177C } /* Name.Variable */\n",
        "body .ow { color: #AA22FF; font-weight: bold } /* Operator.Word */\n",
        "body .w { color: #bbbbbb } /* Text.Whitespace */\n",
        "body .mf { color: #666666 } /* Literal.Number.Float */\n",
        "body .mh { color: #666666 } /* Literal.Number.Hex */\n",
        "body .mi { color: #666666 } /* Literal.Number.Integer */\n",
        "body .mo { color: #666666 } /* Literal.Number.Oct */\n",
        "body .sb { color: #BA2121 } /* Literal.String.Backtick */\n",
        "body .sc { color: #BA2121 } /* Literal.String.Char */\n",
        "body .sd { color: #BA2121; font-style: italic } /* Literal.String.Doc */\n",
        "body .s2 { color: #BA2121 } /* Literal.String.Double */\n",
        "body .se { color: #BB6622; font-weight: bold } /* Literal.String.Escape */\n",
        "body .sh { color: #BA2121 } /* Literal.String.Heredoc */\n",
        "body .si { color: #BB6688; font-weight: bold } /* Literal.String.Interpol */\n",
        "body .sx { color: #008000 } /* Literal.String.Other */\n",
        "body .sr { color: #BB6688 } /* Literal.String.Regex */\n",
        "body .s1 { color: #BA2121 } /* Literal.String.Single */\n",
        "body .ss { color: #19177C } /* Literal.String.Symbol */\n",
        "body .bp { color: #008000 } /* Name.Builtin.Pseudo */\n",
        "body .vc { color: #19177C } /* Name.Variable.Class */\n",
        "body .vg { color: #19177C } /* Name.Variable.Global */\n",
        "body .vi { color: #19177C } /* Name.Variable.Instance */\n",
        "body .il { color: #666666 } /* Literal.Number.Integer.Long */\n",
        "\n",
        "  </style>\n",
        "</head>\n",
        "<body>\n",
        "<h2></h2>\n",
        "\n",
        "<div class=\"highlight\"><pre><span class=\"k\">def</span> <span class=\"nf\">MatrixConditionCheck</span><span class=\"p\">(</span><span class=\"n\">A</span><span class=\"p\">,</span> <span class=\"n\">MaxConditionNumber</span> <span class=\"o\">=</span> <span class=\"mf\">10.0</span><span class=\"p\">):</span>\n",
        "    <span class=\"sd\">&quot;&quot;&quot;Check the condition number of a matrix.</span>\n",
        "<span class=\"sd\">    Only write output to screen if the condition number is too high.</span>\n",
        "<span class=\"sd\">    Should return something, really.&quot;&quot;&quot;</span>\n",
        "\n",
        "    <span class=\"n\">ConditionNumber</span> <span class=\"o\">=</span> <span class=\"n\">la</span><span class=\"o\">.</span><span class=\"n\">cond</span><span class=\"p\">(</span><span class=\"n\">A</span><span class=\"p\">)</span>\n",
        "    <span class=\"k\">if</span> <span class=\"n\">ConditionNumber</span> <span class=\"o\">&gt;</span> <span class=\"n\">MaxConditionNumber</span><span class=\"p\">:</span>\n",
        "        <span class=\"k\">print</span><span class=\"p\">(</span><span class=\"s\">&quot;The condition number of the matrix</span><span class=\"se\">\\n</span><span class=\"s\">{0}</span><span class=\"se\">\\n</span><span class=\"s\">&quot;</span>\\\n",
        "              <span class=\"s\">&quot;is too large (i.e., it is {1:.4} which is larger&quot;</span>\\\n",
        "              <span class=\"s\">&quot; than {2:.4}).</span><span class=\"se\">\\n</span><span class=\"s\">&quot;</span><span class=\"o\">.</span>\\\n",
        "              <span class=\"n\">format</span><span class=\"p\">(</span><span class=\"n\">A</span><span class=\"p\">,</span> <span class=\"n\">ConditionNumber</span><span class=\"p\">,</span> <span class=\"n\">MaxConditionNumber</span><span class=\"p\">))</span>\n",
        "</pre></div>\n",
        "</body>\n",
        "</html>\n"
       ],
       "metadata": {},
       "output_type": "pyout",
       "prompt_number": 12,
       "text": [
        "<IPython.core.display.HTML at 0x4312d10>"
       ]
      }
     ],
     "prompt_number": 12
    },
    {
     "cell_type": "markdown",
     "metadata": {},
     "source": [
      "We can then import the module and check the function using the earlier input matrices."
     ]
    },
    {
     "cell_type": "code",
     "collapsed": false,
     "input": [
      "import Worksheet1_Functions as w1\n",
      "\n",
      "\n",
      "A1 = np.array([[ 1.0, 2.0],[3.0, 4.0]])\n",
      "A2 = np.array([[-3.0, 2.0],[3.0, 6.0]])\n",
      "\n",
      "w1.MatrixConditionCheck(A1)\n",
      "w1.MatrixConditionCheck(A2)"
     ],
     "language": "python",
     "metadata": {},
     "outputs": [
      {
       "output_type": "stream",
       "stream": "stdout",
       "text": [
        "The condition number of the matrix\n",
        "[[ 1.  2.]\n",
        " [ 3.  4.]]\n",
        "is too large (i.e., it is 14.93 which is larger than 10.0).\n",
        "\n"
       ]
      }
     ],
     "prompt_number": 13
    },
    {
     "cell_type": "markdown",
     "metadata": {},
     "source": [
      "Note the Matlab implementation in `Worksheet1_MyConditionNumber.m`."
     ]
    },
    {
     "cell_type": "code",
     "collapsed": false,
     "input": [
      "ngcm.highlight_source_matlab(\"Worksheet1_MyConditionNumber.m\")"
     ],
     "language": "python",
     "metadata": {},
     "outputs": [
      {
       "html": [
        "<!DOCTYPE html PUBLIC \"-//W3C//DTD HTML 4.01//EN\"\n",
        "   \"http://www.w3.org/TR/html4/strict.dtd\">\n",
        "\n",
        "<html>\n",
        "<head>\n",
        "  <title></title>\n",
        "  <meta http-equiv=\"content-type\" content=\"text/html; charset=None\">\n",
        "  <style type=\"text/css\">\n",
        "td.linenos { background-color: #f0f0f0; padding-right: 10px; }\n",
        "span.lineno { background-color: #f0f0f0; padding: 0 5px 0 5px; }\n",
        "pre { line-height: 125%; }\n",
        "body .hll { background-color: #ffffcc }\n",
        "body  { background: #f8f8f8; }\n",
        "body .c { color: #408080; font-style: italic } /* Comment */\n",
        "body .err { border: 1px solid #FF0000 } /* Error */\n",
        "body .k { color: #008000; font-weight: bold } /* Keyword */\n",
        "body .o { color: #666666 } /* Operator */\n",
        "body .cm { color: #408080; font-style: italic } /* Comment.Multiline */\n",
        "body .cp { color: #BC7A00 } /* Comment.Preproc */\n",
        "body .c1 { color: #408080; font-style: italic } /* Comment.Single */\n",
        "body .cs { color: #408080; font-style: italic } /* Comment.Special */\n",
        "body .gd { color: #A00000 } /* Generic.Deleted */\n",
        "body .ge { font-style: italic } /* Generic.Emph */\n",
        "body .gr { color: #FF0000 } /* Generic.Error */\n",
        "body .gh { color: #000080; font-weight: bold } /* Generic.Heading */\n",
        "body .gi { color: #00A000 } /* Generic.Inserted */\n",
        "body .go { color: #888888 } /* Generic.Output */\n",
        "body .gp { color: #000080; font-weight: bold } /* Generic.Prompt */\n",
        "body .gs { font-weight: bold } /* Generic.Strong */\n",
        "body .gu { color: #800080; font-weight: bold } /* Generic.Subheading */\n",
        "body .gt { color: #0044DD } /* Generic.Traceback */\n",
        "body .kc { color: #008000; font-weight: bold } /* Keyword.Constant */\n",
        "body .kd { color: #008000; font-weight: bold } /* Keyword.Declaration */\n",
        "body .kn { color: #008000; font-weight: bold } /* Keyword.Namespace */\n",
        "body .kp { color: #008000 } /* Keyword.Pseudo */\n",
        "body .kr { color: #008000; font-weight: bold } /* Keyword.Reserved */\n",
        "body .kt { color: #B00040 } /* Keyword.Type */\n",
        "body .m { color: #666666 } /* Literal.Number */\n",
        "body .s { color: #BA2121 } /* Literal.String */\n",
        "body .na { color: #7D9029 } /* Name.Attribute */\n",
        "body .nb { color: #008000 } /* Name.Builtin */\n",
        "body .nc { color: #0000FF; font-weight: bold } /* Name.Class */\n",
        "body .no { color: #880000 } /* Name.Constant */\n",
        "body .nd { color: #AA22FF } /* Name.Decorator */\n",
        "body .ni { color: #999999; font-weight: bold } /* Name.Entity */\n",
        "body .ne { color: #D2413A; font-weight: bold } /* Name.Exception */\n",
        "body .nf { color: #0000FF } /* Name.Function */\n",
        "body .nl { color: #A0A000 } /* Name.Label */\n",
        "body .nn { color: #0000FF; font-weight: bold } /* Name.Namespace */\n",
        "body .nt { color: #008000; font-weight: bold } /* Name.Tag */\n",
        "body .nv { color: #19177C } /* Name.Variable */\n",
        "body .ow { color: #AA22FF; font-weight: bold } /* Operator.Word */\n",
        "body .w { color: #bbbbbb } /* Text.Whitespace */\n",
        "body .mf { color: #666666 } /* Literal.Number.Float */\n",
        "body .mh { color: #666666 } /* Literal.Number.Hex */\n",
        "body .mi { color: #666666 } /* Literal.Number.Integer */\n",
        "body .mo { color: #666666 } /* Literal.Number.Oct */\n",
        "body .sb { color: #BA2121 } /* Literal.String.Backtick */\n",
        "body .sc { color: #BA2121 } /* Literal.String.Char */\n",
        "body .sd { color: #BA2121; font-style: italic } /* Literal.String.Doc */\n",
        "body .s2 { color: #BA2121 } /* Literal.String.Double */\n",
        "body .se { color: #BB6622; font-weight: bold } /* Literal.String.Escape */\n",
        "body .sh { color: #BA2121 } /* Literal.String.Heredoc */\n",
        "body .si { color: #BB6688; font-weight: bold } /* Literal.String.Interpol */\n",
        "body .sx { color: #008000 } /* Literal.String.Other */\n",
        "body .sr { color: #BB6688 } /* Literal.String.Regex */\n",
        "body .s1 { color: #BA2121 } /* Literal.String.Single */\n",
        "body .ss { color: #19177C } /* Literal.String.Symbol */\n",
        "body .bp { color: #008000 } /* Name.Builtin.Pseudo */\n",
        "body .vc { color: #19177C } /* Name.Variable.Class */\n",
        "body .vg { color: #19177C } /* Name.Variable.Global */\n",
        "body .vi { color: #19177C } /* Name.Variable.Instance */\n",
        "body .il { color: #666666 } /* Literal.Number.Integer.Long */\n",
        "\n",
        "  </style>\n",
        "</head>\n",
        "<body>\n",
        "<h2></h2>\n",
        "\n",
        "<div class=\"highlight\"><pre><span class=\"c\">%</span>\n",
        "<span class=\"c\">% function ConditionNumber = Worksheet1_MyConditionNumber(A)</span>\n",
        "<span class=\"c\">%</span>\n",
        "<span class=\"c\">% Computes the condition number of the input matrix A.</span>\n",
        "<span class=\"c\">%</span>\n",
        "<span class=\"c\">% Expects a square 2-D matrix A. It will complain if the condition number</span>\n",
        "<span class=\"c\">% is larger than 10 (this is a ludicrously low bound, but tests that the</span>\n",
        "<span class=\"c\">% function actually works with the default input).</span>\n",
        "<span class=\"c\">%</span>\n",
        "<span class=\"k\">function</span><span class=\"w\"> </span>ConditionNumber <span class=\"p\">=</span><span class=\"w\"> </span><span class=\"nf\">Worksheet1_MyConditionNumber</span><span class=\"p\">(</span>A<span class=\"p\">)</span><span class=\"w\"></span>\n",
        "\n",
        "<span class=\"c\">% Check the input is reasonable</span>\n",
        "<span class=\"k\">if</span> <span class=\"p\">(</span><span class=\"n\">not</span><span class=\"p\">(</span><span class=\"n\">isnumeric</span><span class=\"p\">(</span><span class=\"n\">A</span><span class=\"p\">)))</span>\n",
        "    <span class=\"n\">error</span><span class=\"p\">(</span><span class=\"s\">&#39;The input must be a numerical array!&#39;</span><span class=\"p\">);</span>\n",
        "<span class=\"k\">elseif</span> <span class=\"p\">(</span><span class=\"nb\">ndims</span><span class=\"p\">(</span><span class=\"n\">A</span><span class=\"p\">)</span><span class=\"o\">~=</span><span class=\"mi\">2</span><span class=\"p\">)</span>\n",
        "    <span class=\"n\">error</span><span class=\"p\">(</span><span class=\"s\">&#39;The input must be a 2-d array!&#39;</span><span class=\"p\">);</span>\n",
        "<span class=\"k\">elseif</span> <span class=\"p\">(</span><span class=\"nb\">size</span><span class=\"p\">(</span><span class=\"n\">A</span><span class=\"p\">,</span><span class=\"mi\">1</span><span class=\"p\">)</span><span class=\"o\">~=</span><span class=\"nb\">size</span><span class=\"p\">(</span><span class=\"n\">A</span><span class=\"p\">,</span><span class=\"mi\">2</span><span class=\"p\">))</span>\n",
        "    <span class=\"n\">error</span><span class=\"p\">(</span><span class=\"s\">&#39;The input must be a square 2-d array!&#39;</span><span class=\"p\">);</span>\n",
        "<span class=\"k\">end</span>\n",
        "\n",
        "<span class=\"c\">% Set up the maximum condition number</span>\n",
        "<span class=\"n\">Max_ConditionNumber</span> <span class=\"p\">=</span> <span class=\"mi\">10</span><span class=\"p\">;</span>\n",
        "\n",
        "<span class=\"c\">% Compute the condition number</span>\n",
        "<span class=\"n\">ConditionNumber</span> <span class=\"p\">=</span> <span class=\"n\">cond</span><span class=\"p\">(</span><span class=\"n\">A</span><span class=\"p\">);</span>\n",
        "\n",
        "<span class=\"k\">if</span> <span class=\"p\">(</span><span class=\"n\">ConditionNumber</span> <span class=\"o\">&gt;</span> <span class=\"n\">Max_ConditionNumber</span><span class=\"p\">)</span>\n",
        "    <span class=\"nb\">disp</span><span class=\"p\">(</span><span class=\"n\">sprintf</span><span class=\"p\">(</span><span class=\"s\">&#39;The condition number, %g, of the matrix makes it not suitably well-conditioned (bigger than %g)&#39;</span><span class=\"p\">,</span> <span class=\"c\">...</span>\n",
        "        <span class=\"n\">ConditionNumber</span><span class=\"p\">,</span> <span class=\"n\">Max_ConditionNumber</span><span class=\"p\">));</span>\n",
        "<span class=\"k\">end</span>\n",
        "\n",
        "<span class=\"k\">end</span>\n",
        "</pre></div>\n",
        "</body>\n",
        "</html>\n"
       ],
       "metadata": {},
       "output_type": "pyout",
       "prompt_number": 14,
       "text": [
        "<IPython.core.display.HTML at 0x436e490>"
       ]
      }
     ],
     "prompt_number": 14
    },
    {
     "cell_type": "code",
     "collapsed": false,
     "input": [
      "%%octave\n",
      "\n",
      "A1 = [ 1 2; 3 4];\n",
      "A2 = [-3 2; 3 6];\n",
      "\n",
      "Worksheet1_MyConditionNumber(A1);\n",
      "Worksheet1_MyConditionNumber(A2);"
     ],
     "language": "python",
     "metadata": {},
     "outputs": [
      {
       "metadata": {},
       "output_type": "display_data",
       "text": [
        "The condition number, 14.933, of the matrix makes it not suitably well-conditioned (bigger than 10)"
       ]
      }
     ],
     "prompt_number": 15
    },
    {
     "cell_type": "heading",
     "level": 2,
     "metadata": {},
     "source": [
      "Coding Question 4"
     ]
    },
    {
     "cell_type": "markdown",
     "metadata": {},
     "source": [
      "Write a bisection method to find the root of\n",
      "\n",
      "\\begin{equation}\n",
      "  f(x) = \\tan (x) - e^{-x}, \\quad x \\in [0, 1].\n",
      "\\end{equation}"
     ]
    },
    {
     "cell_type": "heading",
     "level": 3,
     "metadata": {},
     "source": [
      "Answer Coding Question 4"
     ]
    },
    {
     "cell_type": "markdown",
     "metadata": {},
     "source": [
      "Again we have defined the function in the separate file."
     ]
    },
    {
     "cell_type": "code",
     "collapsed": false,
     "input": [
      "ngcm.highlight_source(\"Worksheet1_Functions\", \"bisection\")"
     ],
     "language": "python",
     "metadata": {},
     "outputs": [
      {
       "html": [
        "<!DOCTYPE html PUBLIC \"-//W3C//DTD HTML 4.01//EN\"\n",
        "   \"http://www.w3.org/TR/html4/strict.dtd\">\n",
        "\n",
        "<html>\n",
        "<head>\n",
        "  <title></title>\n",
        "  <meta http-equiv=\"content-type\" content=\"text/html; charset=None\">\n",
        "  <style type=\"text/css\">\n",
        "td.linenos { background-color: #f0f0f0; padding-right: 10px; }\n",
        "span.lineno { background-color: #f0f0f0; padding: 0 5px 0 5px; }\n",
        "pre { line-height: 125%; }\n",
        "body .hll { background-color: #ffffcc }\n",
        "body  { background: #f8f8f8; }\n",
        "body .c { color: #408080; font-style: italic } /* Comment */\n",
        "body .err { border: 1px solid #FF0000 } /* Error */\n",
        "body .k { color: #008000; font-weight: bold } /* Keyword */\n",
        "body .o { color: #666666 } /* Operator */\n",
        "body .cm { color: #408080; font-style: italic } /* Comment.Multiline */\n",
        "body .cp { color: #BC7A00 } /* Comment.Preproc */\n",
        "body .c1 { color: #408080; font-style: italic } /* Comment.Single */\n",
        "body .cs { color: #408080; font-style: italic } /* Comment.Special */\n",
        "body .gd { color: #A00000 } /* Generic.Deleted */\n",
        "body .ge { font-style: italic } /* Generic.Emph */\n",
        "body .gr { color: #FF0000 } /* Generic.Error */\n",
        "body .gh { color: #000080; font-weight: bold } /* Generic.Heading */\n",
        "body .gi { color: #00A000 } /* Generic.Inserted */\n",
        "body .go { color: #888888 } /* Generic.Output */\n",
        "body .gp { color: #000080; font-weight: bold } /* Generic.Prompt */\n",
        "body .gs { font-weight: bold } /* Generic.Strong */\n",
        "body .gu { color: #800080; font-weight: bold } /* Generic.Subheading */\n",
        "body .gt { color: #0044DD } /* Generic.Traceback */\n",
        "body .kc { color: #008000; font-weight: bold } /* Keyword.Constant */\n",
        "body .kd { color: #008000; font-weight: bold } /* Keyword.Declaration */\n",
        "body .kn { color: #008000; font-weight: bold } /* Keyword.Namespace */\n",
        "body .kp { color: #008000 } /* Keyword.Pseudo */\n",
        "body .kr { color: #008000; font-weight: bold } /* Keyword.Reserved */\n",
        "body .kt { color: #B00040 } /* Keyword.Type */\n",
        "body .m { color: #666666 } /* Literal.Number */\n",
        "body .s { color: #BA2121 } /* Literal.String */\n",
        "body .na { color: #7D9029 } /* Name.Attribute */\n",
        "body .nb { color: #008000 } /* Name.Builtin */\n",
        "body .nc { color: #0000FF; font-weight: bold } /* Name.Class */\n",
        "body .no { color: #880000 } /* Name.Constant */\n",
        "body .nd { color: #AA22FF } /* Name.Decorator */\n",
        "body .ni { color: #999999; font-weight: bold } /* Name.Entity */\n",
        "body .ne { color: #D2413A; font-weight: bold } /* Name.Exception */\n",
        "body .nf { color: #0000FF } /* Name.Function */\n",
        "body .nl { color: #A0A000 } /* Name.Label */\n",
        "body .nn { color: #0000FF; font-weight: bold } /* Name.Namespace */\n",
        "body .nt { color: #008000; font-weight: bold } /* Name.Tag */\n",
        "body .nv { color: #19177C } /* Name.Variable */\n",
        "body .ow { color: #AA22FF; font-weight: bold } /* Operator.Word */\n",
        "body .w { color: #bbbbbb } /* Text.Whitespace */\n",
        "body .mf { color: #666666 } /* Literal.Number.Float */\n",
        "body .mh { color: #666666 } /* Literal.Number.Hex */\n",
        "body .mi { color: #666666 } /* Literal.Number.Integer */\n",
        "body .mo { color: #666666 } /* Literal.Number.Oct */\n",
        "body .sb { color: #BA2121 } /* Literal.String.Backtick */\n",
        "body .sc { color: #BA2121 } /* Literal.String.Char */\n",
        "body .sd { color: #BA2121; font-style: italic } /* Literal.String.Doc */\n",
        "body .s2 { color: #BA2121 } /* Literal.String.Double */\n",
        "body .se { color: #BB6622; font-weight: bold } /* Literal.String.Escape */\n",
        "body .sh { color: #BA2121 } /* Literal.String.Heredoc */\n",
        "body .si { color: #BB6688; font-weight: bold } /* Literal.String.Interpol */\n",
        "body .sx { color: #008000 } /* Literal.String.Other */\n",
        "body .sr { color: #BB6688 } /* Literal.String.Regex */\n",
        "body .s1 { color: #BA2121 } /* Literal.String.Single */\n",
        "body .ss { color: #19177C } /* Literal.String.Symbol */\n",
        "body .bp { color: #008000 } /* Name.Builtin.Pseudo */\n",
        "body .vc { color: #19177C } /* Name.Variable.Class */\n",
        "body .vg { color: #19177C } /* Name.Variable.Global */\n",
        "body .vi { color: #19177C } /* Name.Variable.Instance */\n",
        "body .il { color: #666666 } /* Literal.Number.Integer.Long */\n",
        "\n",
        "  </style>\n",
        "</head>\n",
        "<body>\n",
        "<h2></h2>\n",
        "\n",
        "<div class=\"highlight\"><pre><span class=\"k\">def</span> <span class=\"nf\">bisection</span><span class=\"p\">(</span><span class=\"n\">f</span><span class=\"p\">,</span> <span class=\"n\">interval</span><span class=\"p\">,</span> <span class=\"n\">tolerance</span> <span class=\"o\">=</span> <span class=\"mf\">1.e-10</span><span class=\"p\">):</span>\n",
        "    <span class=\"sd\">&quot;&quot;&quot;General bisection method for a function f of one variable.     </span>\n",
        "<span class=\"sd\">    There must be at least one root within the interval.     </span>\n",
        "<span class=\"sd\">    Default tolerance (width of the interval) is 1e-10.&quot;&quot;&quot;</span>\n",
        "    \n",
        "    <span class=\"k\">assert</span> <span class=\"nb\">len</span><span class=\"p\">(</span><span class=\"n\">interval</span><span class=\"p\">)</span> <span class=\"o\">==</span> <span class=\"mi\">2</span>\n",
        "    \n",
        "    <span class=\"c\"># Get the endpoints of the interval</span>\n",
        "    <span class=\"p\">[</span><span class=\"n\">x_min</span><span class=\"p\">,</span> <span class=\"n\">x_max</span><span class=\"p\">]</span> <span class=\"o\">=</span> <span class=\"n\">interval</span>\n",
        "    \n",
        "    <span class=\"c\"># Values at the ends of the domain</span>\n",
        "    <span class=\"n\">f_min</span> <span class=\"o\">=</span> <span class=\"n\">f</span><span class=\"p\">(</span><span class=\"n\">x_min</span><span class=\"p\">)</span>\n",
        "    <span class=\"n\">f_max</span> <span class=\"o\">=</span> <span class=\"n\">f</span><span class=\"p\">(</span><span class=\"n\">x_max</span><span class=\"p\">)</span>\n",
        "    \n",
        "    <span class=\"c\"># Check that at least one root lies within the interval</span>\n",
        "    <span class=\"k\">assert</span><span class=\"p\">(</span><span class=\"n\">f_min</span> <span class=\"o\">*</span> <span class=\"n\">f_max</span> <span class=\"o\">&lt;</span> <span class=\"mf\">0.0</span><span class=\"p\">)</span>\n",
        "    \n",
        "    <span class=\"c\"># The loop</span>\n",
        "    <span class=\"n\">x_c</span> <span class=\"o\">=</span> <span class=\"p\">(</span><span class=\"n\">x_min</span> <span class=\"o\">+</span> <span class=\"n\">x_max</span><span class=\"p\">)</span> <span class=\"o\">/</span> <span class=\"mf\">2.0</span>\n",
        "    <span class=\"n\">f_c</span> <span class=\"o\">=</span> <span class=\"n\">f</span><span class=\"p\">(</span><span class=\"n\">x_c</span><span class=\"p\">)</span>\n",
        "    <span class=\"n\">iteration</span> <span class=\"o\">=</span> <span class=\"mi\">0</span>\n",
        "    <span class=\"k\">while</span> <span class=\"p\">((</span><span class=\"n\">x_max</span> <span class=\"o\">-</span> <span class=\"n\">x_min</span> <span class=\"o\">&gt;</span> <span class=\"n\">tolerance</span><span class=\"p\">)</span> <span class=\"ow\">and</span> \\\n",
        "               <span class=\"p\">(</span><span class=\"n\">np</span><span class=\"o\">.</span><span class=\"n\">abs</span><span class=\"p\">(</span><span class=\"n\">f_c</span><span class=\"p\">)</span> <span class=\"o\">&gt;</span> <span class=\"n\">tolerance</span><span class=\"p\">)</span> <span class=\"ow\">and</span> \\\n",
        "               <span class=\"p\">(</span><span class=\"n\">iteration</span> <span class=\"o\">&lt;</span> <span class=\"mi\">100</span><span class=\"p\">)):</span>\n",
        "        <span class=\"n\">iteration</span> <span class=\"o\">=</span> <span class=\"n\">iteration</span><span class=\"o\">+</span><span class=\"mi\">1</span>    \n",
        "        <span class=\"k\">if</span> <span class=\"n\">f_min</span> <span class=\"o\">*</span> <span class=\"n\">f_c</span> <span class=\"o\">&lt;</span> <span class=\"mf\">0.0</span><span class=\"p\">:</span>\n",
        "            <span class=\"n\">x_max</span> <span class=\"o\">=</span> <span class=\"n\">x_c</span>\n",
        "            <span class=\"n\">f_max</span> <span class=\"o\">=</span> <span class=\"n\">f_c</span>\n",
        "        <span class=\"k\">else</span><span class=\"p\">:</span>\n",
        "            <span class=\"n\">x_min</span> <span class=\"o\">=</span> <span class=\"n\">x_c</span>\n",
        "            <span class=\"n\">f_min</span> <span class=\"o\">=</span> <span class=\"n\">f_c</span>\n",
        "        <span class=\"n\">x_c</span> <span class=\"o\">=</span> <span class=\"p\">(</span><span class=\"n\">x_min</span> <span class=\"o\">+</span> <span class=\"n\">x_max</span><span class=\"p\">)</span> <span class=\"o\">/</span> <span class=\"mf\">2.0</span>\n",
        "        <span class=\"n\">f_c</span> <span class=\"o\">=</span> <span class=\"n\">f</span><span class=\"p\">(</span><span class=\"n\">x_c</span><span class=\"p\">)</span>\n",
        "\n",
        "    <span class=\"k\">print</span><span class=\"p\">(</span><span class=\"s\">&quot;The root is approximately {0} where &quot;</span>\\\n",
        "          <span class=\"s\">&quot;f is {1:.4} (tolerance {2:.4})&quot;</span><span class=\"o\">.</span><span class=\"n\">format</span><span class=\"p\">(</span><span class=\"n\">x_c</span><span class=\"p\">,</span> <span class=\"n\">f_c</span><span class=\"p\">,</span> <span class=\"n\">tolerance</span><span class=\"p\">))</span>\n",
        "    <span class=\"k\">return</span> <span class=\"n\">x_c</span>\n",
        "</pre></div>\n",
        "</body>\n",
        "</html>\n"
       ],
       "metadata": {},
       "output_type": "pyout",
       "prompt_number": 16,
       "text": [
        "<IPython.core.display.HTML at 0x43e7b10>"
       ]
      }
     ],
     "prompt_number": 16
    },
    {
     "cell_type": "markdown",
     "metadata": {},
     "source": [
      "We have already imported the module. Also within that module is the function whose root we are trying to find."
     ]
    },
    {
     "cell_type": "code",
     "collapsed": false,
     "input": [
      "ngcm.highlight_source(\"Worksheet1_Functions\", \"fn_worksheet1_q4\")"
     ],
     "language": "python",
     "metadata": {},
     "outputs": [
      {
       "html": [
        "<!DOCTYPE html PUBLIC \"-//W3C//DTD HTML 4.01//EN\"\n",
        "   \"http://www.w3.org/TR/html4/strict.dtd\">\n",
        "\n",
        "<html>\n",
        "<head>\n",
        "  <title></title>\n",
        "  <meta http-equiv=\"content-type\" content=\"text/html; charset=None\">\n",
        "  <style type=\"text/css\">\n",
        "td.linenos { background-color: #f0f0f0; padding-right: 10px; }\n",
        "span.lineno { background-color: #f0f0f0; padding: 0 5px 0 5px; }\n",
        "pre { line-height: 125%; }\n",
        "body .hll { background-color: #ffffcc }\n",
        "body  { background: #f8f8f8; }\n",
        "body .c { color: #408080; font-style: italic } /* Comment */\n",
        "body .err { border: 1px solid #FF0000 } /* Error */\n",
        "body .k { color: #008000; font-weight: bold } /* Keyword */\n",
        "body .o { color: #666666 } /* Operator */\n",
        "body .cm { color: #408080; font-style: italic } /* Comment.Multiline */\n",
        "body .cp { color: #BC7A00 } /* Comment.Preproc */\n",
        "body .c1 { color: #408080; font-style: italic } /* Comment.Single */\n",
        "body .cs { color: #408080; font-style: italic } /* Comment.Special */\n",
        "body .gd { color: #A00000 } /* Generic.Deleted */\n",
        "body .ge { font-style: italic } /* Generic.Emph */\n",
        "body .gr { color: #FF0000 } /* Generic.Error */\n",
        "body .gh { color: #000080; font-weight: bold } /* Generic.Heading */\n",
        "body .gi { color: #00A000 } /* Generic.Inserted */\n",
        "body .go { color: #888888 } /* Generic.Output */\n",
        "body .gp { color: #000080; font-weight: bold } /* Generic.Prompt */\n",
        "body .gs { font-weight: bold } /* Generic.Strong */\n",
        "body .gu { color: #800080; font-weight: bold } /* Generic.Subheading */\n",
        "body .gt { color: #0044DD } /* Generic.Traceback */\n",
        "body .kc { color: #008000; font-weight: bold } /* Keyword.Constant */\n",
        "body .kd { color: #008000; font-weight: bold } /* Keyword.Declaration */\n",
        "body .kn { color: #008000; font-weight: bold } /* Keyword.Namespace */\n",
        "body .kp { color: #008000 } /* Keyword.Pseudo */\n",
        "body .kr { color: #008000; font-weight: bold } /* Keyword.Reserved */\n",
        "body .kt { color: #B00040 } /* Keyword.Type */\n",
        "body .m { color: #666666 } /* Literal.Number */\n",
        "body .s { color: #BA2121 } /* Literal.String */\n",
        "body .na { color: #7D9029 } /* Name.Attribute */\n",
        "body .nb { color: #008000 } /* Name.Builtin */\n",
        "body .nc { color: #0000FF; font-weight: bold } /* Name.Class */\n",
        "body .no { color: #880000 } /* Name.Constant */\n",
        "body .nd { color: #AA22FF } /* Name.Decorator */\n",
        "body .ni { color: #999999; font-weight: bold } /* Name.Entity */\n",
        "body .ne { color: #D2413A; font-weight: bold } /* Name.Exception */\n",
        "body .nf { color: #0000FF } /* Name.Function */\n",
        "body .nl { color: #A0A000 } /* Name.Label */\n",
        "body .nn { color: #0000FF; font-weight: bold } /* Name.Namespace */\n",
        "body .nt { color: #008000; font-weight: bold } /* Name.Tag */\n",
        "body .nv { color: #19177C } /* Name.Variable */\n",
        "body .ow { color: #AA22FF; font-weight: bold } /* Operator.Word */\n",
        "body .w { color: #bbbbbb } /* Text.Whitespace */\n",
        "body .mf { color: #666666 } /* Literal.Number.Float */\n",
        "body .mh { color: #666666 } /* Literal.Number.Hex */\n",
        "body .mi { color: #666666 } /* Literal.Number.Integer */\n",
        "body .mo { color: #666666 } /* Literal.Number.Oct */\n",
        "body .sb { color: #BA2121 } /* Literal.String.Backtick */\n",
        "body .sc { color: #BA2121 } /* Literal.String.Char */\n",
        "body .sd { color: #BA2121; font-style: italic } /* Literal.String.Doc */\n",
        "body .s2 { color: #BA2121 } /* Literal.String.Double */\n",
        "body .se { color: #BB6622; font-weight: bold } /* Literal.String.Escape */\n",
        "body .sh { color: #BA2121 } /* Literal.String.Heredoc */\n",
        "body .si { color: #BB6688; font-weight: bold } /* Literal.String.Interpol */\n",
        "body .sx { color: #008000 } /* Literal.String.Other */\n",
        "body .sr { color: #BB6688 } /* Literal.String.Regex */\n",
        "body .s1 { color: #BA2121 } /* Literal.String.Single */\n",
        "body .ss { color: #19177C } /* Literal.String.Symbol */\n",
        "body .bp { color: #008000 } /* Name.Builtin.Pseudo */\n",
        "body .vc { color: #19177C } /* Name.Variable.Class */\n",
        "body .vg { color: #19177C } /* Name.Variable.Global */\n",
        "body .vi { color: #19177C } /* Name.Variable.Instance */\n",
        "body .il { color: #666666 } /* Literal.Number.Integer.Long */\n",
        "\n",
        "  </style>\n",
        "</head>\n",
        "<body>\n",
        "<h2></h2>\n",
        "\n",
        "<div class=\"highlight\"><pre><span class=\"k\">def</span> <span class=\"nf\">fn_worksheet1_q4</span><span class=\"p\">(</span><span class=\"n\">x</span><span class=\"p\">):</span>\n",
        "    <span class=\"sd\">&quot;&quot;&quot;Simple function defined in question, f(x) = tan(x) - exp(-x).&quot;&quot;&quot;</span>\n",
        "    \n",
        "    <span class=\"k\">return</span> <span class=\"n\">np</span><span class=\"o\">.</span><span class=\"n\">tan</span><span class=\"p\">(</span><span class=\"n\">x</span><span class=\"p\">)</span> <span class=\"o\">-</span> <span class=\"n\">np</span><span class=\"o\">.</span><span class=\"n\">exp</span><span class=\"p\">(</span><span class=\"o\">-</span><span class=\"n\">x</span><span class=\"p\">)</span>\n",
        "</pre></div>\n",
        "</body>\n",
        "</html>\n"
       ],
       "metadata": {},
       "output_type": "pyout",
       "prompt_number": 17,
       "text": [
        "<IPython.core.display.HTML at 0x43e7c10>"
       ]
      }
     ],
     "prompt_number": 17
    },
    {
     "cell_type": "markdown",
     "metadata": {},
     "source": [
      "Test the bisection method using various tolerances."
     ]
    },
    {
     "cell_type": "code",
     "collapsed": false,
     "input": [
      "# Now find the root.\n",
      "x_root = w1.bisection(w1.fn_worksheet1_q4, [0, 1])\n",
      "# Try changing the precision to see what difference it makes\n",
      "x_root_e6 = w1.bisection(w1.fn_worksheet1_q4, [0, 1], 1e-6)\n",
      "x_root_e6 = w1.bisection(w1.fn_worksheet1_q4, [0, 1], 1e-15)"
     ],
     "language": "python",
     "metadata": {},
     "outputs": [
      {
       "output_type": "stream",
       "stream": "stdout",
       "text": [
        "The root is approximately 0.531390856602 where f is -9.652e-11 (tolerance 1e-10)\n",
        "The root is approximately 0.531391143799 where f is 5.551e-07 (tolerance 1e-06)\n",
        "The root is approximately 0.531390856652 where f is 1.11e-16 (tolerance 1e-15)\n"
       ]
      }
     ],
     "prompt_number": 18
    },
    {
     "cell_type": "markdown",
     "metadata": {},
     "source": [
      "A quick and dirty Matlab implementation of the bisection algorithm follows. Note that it is not implemented as a function, but directly as a script: it would be straightforward, in a similar fashion to the python above, to implement it as a function."
     ]
    },
    {
     "cell_type": "code",
     "collapsed": false,
     "input": [
      "%%octave\n",
      "\n",
      "% Set up the tolerance in the width of the interval\n",
      "tolerance = 1e-15;\n",
      "\n",
      "% Set up the initial bracketing interval\n",
      "x_lo = 0;\n",
      "x_hi = 1;\n",
      "\n",
      "% Set up the function and the initial function values.\n",
      "f = @(x)(tan(x) - exp(-x));\n",
      "f_lo = f(x_lo);\n",
      "f_hi = f(x_hi);\n",
      "\n",
      "% Set up the bisection loop.\n",
      "x_guess = (x_lo + x_hi) / 2;\n",
      "f_guess = f(x_guess);\n",
      "% Loop until the root is bracketed within the tolerance.\n",
      "while (x_hi - x_lo > tolerance)\n",
      "   \n",
      "    if (f_lo * f_guess < 0)\n",
      "       % The root is between the guessed value and the lower bound\n",
      "       x_hi = x_guess;\n",
      "       f_hi = f_guess;\n",
      "    else\n",
      "       % The root is between the guessed value and the upper bound\n",
      "       x_lo = x_guess;\n",
      "       f_lo = f_guess;\n",
      "    end\n",
      "    \n",
      "    % Set the new bisection estimate\n",
      "    x_guess = (x_lo + x_hi) / 2;\n",
      "    f_guess = f(x_guess);\n",
      "    \n",
      "end\n",
      "\n",
      "printf(\"The root is approximately %f where f is %g.\\n\", x_guess, f_guess)"
     ],
     "language": "python",
     "metadata": {},
     "outputs": [
      {
       "metadata": {},
       "output_type": "display_data",
       "text": [
        "The root is approximately 0.531391 where f is -7.77156e-16."
       ]
      }
     ],
     "prompt_number": 19
    },
    {
     "cell_type": "code",
     "collapsed": false,
     "input": [
      "from IPython.core.display import HTML\n",
      "def css_styling():\n",
      "    styles = open(\"../../IPythonNotebookStyles/custom.css\", \"r\").read()\n",
      "    return HTML(styles)\n",
      "css_styling()"
     ],
     "language": "python",
     "metadata": {},
     "outputs": [
      {
       "html": [
        "<style>\n",
        "    @font-face {\n",
        "        font-family: \"Computer Modern\";\n",
        "        src: url('http://mirrors.ctan.org/fonts/cm-unicode/fonts/otf/cmunss.otf');\n",
        "    }\n",
        "    div.cell{\n",
        "        width:80%;\n",
        "        margin-left:10% !important;\n",
        "        margin-right:auto;\n",
        "    }\n",
        "    h1 {\n",
        "        font-family: Verdana, Arial, Helvetica, sans-serif;\n",
        "\ttext-align: center;\n",
        "    }\n",
        "    h2 {\n",
        "        font-family: Verdana, Arial, Helvetica, sans-serif;\n",
        "    }\n",
        "    h3 {\n",
        "        font-family: Verdana, Arial, Helvetica, sans-serif;\n",
        "    }\n",
        "    div.text_cell_render{\n",
        "        font-family: Gill, Verdana, Arial, Helvetica, sans-serif;\n",
        "        line-height: 110%;\n",
        "        font-size: 120%;\n",
        "        width:75%;\n",
        "        margin-left:auto;\n",
        "        margin-right:auto;\n",
        "    }\n",
        "    .CodeMirror{\n",
        "            font-family: \"Source Code Pro\", source-code-pro,Consolas, monospace;\n",
        "    }\n",
        "/*    .prompt{\n",
        "        display: None;\n",
        "    }*/\n",
        "    .text_cell_render h5 {\n",
        "        font-weight: 300;\n",
        "        font-size: 12pt;\n",
        "        color: #4057A1;\n",
        "        font-style: italic;\n",
        "        margin-bottom: .5em;\n",
        "        margin-top: 0.5em;\n",
        "        display: block;\n",
        "    }\n",
        "    \n",
        "    .warning{\n",
        "        color: rgb( 240, 20, 20 )\n",
        "        }  \n",
        "</style>\n",
        "<script>\n",
        "    MathJax.Hub.Config({\n",
        "                        TeX: {\n",
        "                           extensions: [\"AMSmath.js\"]\n",
        "                           },\n",
        "                tex2jax: {\n",
        "                    inlineMath: [ ['$','$'], [\"\\\\(\",\"\\\\)\"] ],\n",
        "                    displayMath: [ ['$$','$$'], [\"\\\\[\",\"\\\\]\"] ]\n",
        "                },\n",
        "                displayAlign: 'center', // Change this to 'center' to center equations.\n",
        "                \"HTML-CSS\": {\n",
        "                    styles: {'.MathJax_Display': {\"margin\": 4}}\n",
        "                }\n",
        "        });\n",
        "</script>"
       ],
       "metadata": {},
       "output_type": "pyout",
       "prompt_number": 20,
       "text": [
        "<IPython.core.display.HTML at 0x43e7fd0>"
       ]
      }
     ],
     "prompt_number": 20
    },
    {
     "cell_type": "markdown",
     "metadata": {},
     "source": [
      "> (The cell above executes the style for this notebook. It closely follows the style used in the [12 Steps to Navier Stokes](http://lorenabarba.com/blog/cfd-python-12-steps-to-navier-stokes/) course.)"
     ]
    }
   ],
   "metadata": {}
  }
 ]
}