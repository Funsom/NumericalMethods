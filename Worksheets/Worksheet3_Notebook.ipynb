{
 "metadata": {
  "name": ""
 },
 "nbformat": 3,
 "nbformat_minor": 0,
 "worksheets": [
  {
   "cells": [
    {
     "cell_type": "heading",
     "level": 1,
     "metadata": {},
     "source": [
      "Worksheet 3"
     ]
    },
    {
     "cell_type": "code",
     "collapsed": false,
     "input": [
      "%matplotlib inline"
     ],
     "language": "python",
     "metadata": {},
     "outputs": [],
     "prompt_number": 2
    },
    {
     "cell_type": "heading",
     "level": 2,
     "metadata": {},
     "source": [
      "Question 1"
     ]
    },
    {
     "cell_type": "markdown",
     "metadata": {},
     "source": [
      "Apply Simpson's rule to compute\n",
      "\n",
      "\\begin{equation}\n",
      "  \\int_0^{\\pi/2} \\cos (x) \\, dx\n",
      "\\end{equation}\n",
      "\n",
      "using 3 points (so $h = \\pi/4$) and 5 points (so $h = \\pi/8$)."
     ]
    },
    {
     "cell_type": "heading",
     "level": 3,
     "metadata": {},
     "source": [
      "Answer Question 1"
     ]
    },
    {
     "cell_type": "markdown",
     "metadata": {},
     "source": [
      "The exact solution is, of course, 1.\n",
      "\n",
      "Simpson\u2019s rule (composite version) is\n",
      "\n",
      "\\begin{equation}\n",
      "  I = \\frac{h}{3} \\left[ f(a) + f(b) + 2 \\sum_{j = 1}^{N/2 - 1} f(x_{2 j}) + 4 \\sum_{j = 1}^{N/2} f(x_{2 j-1})  \\right]\n",
      "\\end{equation}\n",
      "\n",
      "where we are using $N + 1$ points with $N$ even, with $x_0 = a, x_N = b$, equally spaced with grid spacing $h = (b \u2212 a)/N$.\n",
      "\n",
      "With 3 points we have $N = 2$ and $h = (\\pi/2)/2 = \\pi/4$, and so we have nodes and samples given by\n",
      "\n",
      "\\begin{equation}\n",
      "  \\begin{array}{c|c|c}\n",
      "    i & x_i & f(x_i) \\\\ \\hline\n",
      "    0 & 0 & 1 \\\\\n",
      "    1 & \\pi/4 & 1 / \\sqrt{2} \\\\\n",
      "    2 & \\pi/2 & 0\n",
      "  \\end{array}\n",
      "\\end{equation}\n",
      "\n",
      "Using Simpson's rule we then get\n",
      "\n",
      "\\begin{align}\n",
      "  I &= \\frac{h}{3} \\left[ f_0 + f_2 + 4 f_1 \\right] \\\\\n",
      "    & = \\frac{\\pi}{12} \\left[ 1 + 2 \\sqrt{2} \\right] \\\\\n",
      "    & \\approx 1.0023. \n",
      "\\end{align}\n",
      "\n",
      "With 5 points we have $N = 4$ and $h = (\\pi/2)/4 = \\pi/8$, and so we have nodes and samples given by\n",
      "\n",
      "\\begin{equation}\n",
      "  \\begin{array}{c|c|c}\n",
      "    i & x_i & f(x_i) \\\\ \\hline\n",
      "    0 & 0 & 1 \\\\\n",
      "    1 & \\pi/8 & \\cos ( \\pi / 8 ) \\approx 0.9239 \\\\\n",
      "    2 & \\pi/4 & 1 / \\sqrt{2} \\\\\n",
      "    3 & 3\\pi/8 & \\cos ( 3 \\pi / 8 ) \\approx 0.9239 \\\\\n",
      "    4 & \\pi/2 & 0\n",
      "  \\end{array}\n",
      "\\end{equation}\n",
      "\n",
      "Using Simpson's rule we then get\n",
      "\n",
      "\\begin{align}\n",
      "  I &= \\frac{h}{3} \\left[ f_0 + f_4 + 4 (f_1 + f_3) + 2 f_2 \\right] \\\\\n",
      "    & = \\frac{\\pi}{24} \\left[ 1 + 4 \\left( \\cos ( \\pi / 8 ) + \\cos ( 3 \\pi / 8 ) \\right) + \\sqrt{2} \\right] \\\\\n",
      "    & \\approx 1.00013. \n",
      "\\end{align}"
     ]
    },
    {
     "cell_type": "heading",
     "level": 2,
     "metadata": {},
     "source": [
      "Question 2"
     ]
    },
    {
     "cell_type": "markdown",
     "metadata": {},
     "source": [
      "Apply Richardson extrapolation to the result above; does the answer improve?"
     ]
    },
    {
     "cell_type": "heading",
     "level": 3,
     "metadata": {},
     "source": [
      "Answer Question 2"
     ]
    },
    {
     "cell_type": "markdown",
     "metadata": {},
     "source": [
      "Simpson's rule has order of accuracy 4. We note that we have just computed the result using 3 ($N = 2$) and 5 ($N = 4$) points. Richardson extrapolation gives the result\n",
      "\n",
      "\\begin{align}\n",
      "  R_4 &= \\frac{2^4 I_{N=4} - I_{N=2}}{2^4 - 1} \\\\\n",
      "      &\\approx 0.999992.\n",
      "\\end{align}\n",
      "\n",
      "We note that the error has gone from $2.3 \\times 10^{\u22123}$ for $I_{N=2}$ to $1.3 \\times 10^{\u22124}$ for $I_{N=4}$ and now to $8.4 \\times 10^{\u22126}$ for the Richardson extrapolation $R_4$, a good improvement."
     ]
    },
    {
     "cell_type": "heading",
     "level": 2,
     "metadata": {},
     "source": [
      "Question 3"
     ]
    },
    {
     "cell_type": "markdown",
     "metadata": {},
     "source": [
      "State the rate of convergence of the trapezoidal rule and Simpson\u2019s rule, and sketch (or explain in words) the proof."
     ]
    },
    {
     "cell_type": "heading",
     "level": 3,
     "metadata": {},
     "source": [
      "Answer Question 3"
     ]
    },
    {
     "cell_type": "markdown",
     "metadata": {},
     "source": [
      "For the trapezoidal rule the error converges as $h^2$. For Simpson\u2019s rule the error converges as $h^4$.\n",
      "\n",
      "In both cases the proof takes a similar path. Consider the quadrature over a single subinterval. Taylor series expand the quadrature rule about a suitable point $x_j$ (left edge for trapezoidal rule, centre for Simpson\u2019s rule) to get an expression for the quadrature of the interval in terms of $h$ and the function $f$ and its derivatives as evaluated at $x_j$.\n",
      "\n",
      "Next write down the anti-derivative $F(t)$ of $f$ for the interval as a function of the width of the interval $t$. This, when evaluated at $t = h$, is the exact solution for the quadrature of the subinterval. Taylor series expand $F$ about $t = 0$ to get an expression for the exact result in terms of $h$ and the function $f$ and its derivatives as evaluated at $x_j$.\n",
      "\n",
      "By comparing the two expressions we have a bound on the error in terms of $h$ and derivatives of $f$. By summing over all intervals (note that at this stage we lose a power of $h$ as we have $N$ subintervals with $N \\propto h^{\u22121}$) we can bound the global error in terms of $h$ and the maximum value of a derivative of $f$.\n"
     ]
    },
    {
     "cell_type": "heading",
     "level": 2,
     "metadata": {},
     "source": [
      "Question 4"
     ]
    },
    {
     "cell_type": "markdown",
     "metadata": {},
     "source": [
      "Explain in words adaptive and Gaussian quadrature, in particular the aims of each and the times when one or the other is more useful."
     ]
    },
    {
     "cell_type": "heading",
     "level": 3,
     "metadata": {},
     "source": [
      "Answer Question 4"
     ]
    },
    {
     "cell_type": "markdown",
     "metadata": {},
     "source": [
      "Adaptive quadrature uses any standard quadrature method and some error estimator, such as Richardson extrapolation, to place additional nodes wherever required to ensure that the error is less than some desired tolerance. Each subinterval is tested to ensure that its (appropriately weighted) contribution to the total error is sufficiently small. If it is not, the subinterval is further subdivided by introducing more nodes in a fashion appropriate for the quadrature method used. This is a straightforward way of getting high accuracy for low computational cost using standard quadrature algorithms.\n",
      "\n",
      "Gaussian quadrature aims to get the best result for a *generic* function by allowing both the choice of nodes and weights to vary. The location of the nodes and the value of the weights is given by ensuring that the quadrature is exact for as many polynomials as possible; i.e., if we have $N$ nodes (and hence $N$ weights) we should be able to exactly integrate $x^s$ for $0 \\le s \\le 2 N \u2212 1$. By introducing a weighting function we can also deal with integrands that are (mildly) singular at the boundaries of the domain, or unbounded domains. Provided the function can be evaluated anywhere this is an effective way of getting high accuracy with few function evaluations for most functions."
     ]
    },
    {
     "cell_type": "heading",
     "level": 2,
     "metadata": {},
     "source": [
      "Question 5"
     ]
    },
    {
     "cell_type": "markdown",
     "metadata": {},
     "source": [
      "Show how the speed of convergence of a nonlinear root finding method depends and the derivatives of the map $g(x)$ near the fixed point $s$."
     ]
    },
    {
     "cell_type": "heading",
     "level": 3,
     "metadata": {},
     "source": [
      "Answer Question 5"
     ]
    },
    {
     "cell_type": "markdown",
     "metadata": {},
     "source": [
      "We assume we are constructing an iterative sequence $x_n$ where $x_{n+1} = g(x_n)$, and that the error at step $n$ is $e_n = x_n \u2212 s$. Then if we assume that the step $x_{n+1}$ is sufficiently close to the root $s$ then we can write\n",
      "\n",
      "\\begin{align}\n",
      "  e_{n+1} &= x_{n+1} \u2212 s \\\\\n",
      "  & = g(x_n) \u2212 g(s) \n",
      "\\end{align}\n",
      "which, using the definition of the sequence and the fixed point, gives\n",
      "\\begin{align}\n",
      "  e_{n+1} & = g(s) (x_n \u2212 s) + \\frac{g''(s)}{2!} (x_n \u2212 s)^2 + {\\mathcal O} \\left( (x_n \u2212 s)^3 \\right)\n",
      "\\end{align}\n",
      "and, by Taylor expanding\n",
      "\\begin{align}\n",
      "  e_{n+1} & = g(s) e_n + \\frac{g''(s)}{2!} e_n^2 + {\\mathcal O} \\left( e_n^3 \\right).\n",
      "\\end{align}\n",
      "\n",
      "Hence if $g(s) = 0$ we have that the error reduces by a constant amount proportional to the derivative at each step. If the derivative does vanish the error at each iteration is proportional to the square of the previous error which leads to faster convergence."
     ]
    },
    {
     "cell_type": "heading",
     "level": 2,
     "metadata": {},
     "source": [
      "Question 6"
     ]
    },
    {
     "cell_type": "markdown",
     "metadata": {},
     "source": [
      "Use Newton's method to find the root in $[0, 1]$ of\n",
      "\n",
      "\\begin{equation}\n",
      "  f(x) = \\sin (x) \u2212 e^x + 0.9 + x.\n",
      "\\end{equation}\n",
      "\n",
      "Start from $x_0 = 1/2$ and retain 3 significant figures. Take 3 steps."
     ]
    },
    {
     "cell_type": "heading",
     "level": 3,
     "metadata": {},
     "source": [
      "Answer Question 6"
     ]
    },
    {
     "cell_type": "markdown",
     "metadata": {},
     "source": [
      "For Newton's method we have\n",
      "\n",
      "\\begin{equation}\n",
      "  x_{n+1} = x_n - \\frac{f(x_n)}{f'(x_n)}.\n",
      "\\end{equation}\n",
      "\n",
      "So first we compute the derivative,\n",
      "\n",
      "\\begin{equation}\n",
      "f(x) = \\cos (x) \u2212 e^x + 1.\n",
      "\\end{equation}\n",
      "\n",
      "It follows that the iterative scheme is given by\n",
      "\n",
      "\\begin{equation}\n",
      "  x_{n+1} = x_n \u2212 \\frac{ \\sin (x_n) \u2212 e^{x_n} + 0.9 + x_n}{\\cos (x_n) \u2212 e^{x_n} + 1}.\n",
      "\\end{equation}\n",
      "\n",
      "We start from $x_0 = 1/2$ and compute with full precision but only retain 3 significant figures for the values of the $x_n$:\n",
      "\n",
      "\\begin{align}\n",
      "  x_1 & = x_0 \u2212 \\frac{ \\sin (x_0) \u2212 e^{x_0} + 0.9 + x_0}{\\cos (x_0) \u2212 e^{x_0} + 1} \\\\\n",
      "      & \\approx -0.508;\n",
      "\\end{align}\n",
      "\n",
      "retaining 3 s.f. we set $x_1 = \u22120.508$, and find\n",
      "\n",
      "\\begin{align}\n",
      "  x_2 & = x_1 \u2212 \\frac{ \\sin (x_1) \u2212 e^{x_1} + 0.9 + x_1}{\\cos (x_1) \u2212 e^{x_1} + 1} \\\\\n",
      "      & \\approx 0.0393;\n",
      "\\end{align}\n",
      "\n",
      "retaining 3 s.f. we set $x_2 = 0.0393$, and find\n",
      "\n",
      "\\begin{align}\n",
      "  x_3 & = x_2 \u2212 \\frac{ \\sin (x_2) \u2212 e^{x_2} + 0.9 + x_2}{\\cos (x_2) \u2212 e^{x_2} + 1} \\\\\n",
      "      & \\approx 0.103.\n",
      "\\end{align}\n",
      "\n",
      "After 5 steps you would see, to 3 s.f., that it has converged to 0.106, so after 3 steps it does quite\n",
      "well; a better approximation to the solution is $0.106022965\\dots$ ."
     ]
    },
    {
     "cell_type": "code",
     "collapsed": false,
     "input": [
      "def Newton(f, df, x0, tolerance = 1e-10, MaxSteps = 100):\n",
      "    \"\"\"Implementing Newton's method to solve f(x) = 0, where df is the derivative of f, starting from the guess x_0.\"\"\"\n",
      "    \n",
      "    import numpy as np\n",
      "    \n",
      "    x = np.zeros(MaxSteps)\n",
      "    x[0] = x0\n",
      "    \n",
      "    # Set up the map g\n",
      "    g = lambda x: x - f(x) / df(x)\n",
      "    \n",
      "    for i in range(1, MaxSteps):\n",
      "        x[i] = g(x[i-1])\n",
      "        if (np.absolute(f(x[i])) < tolerance):\n",
      "            break\n",
      "    return x[:i+1]\n",
      "\n",
      "def fn_q6(x):\n",
      "    \"\"\"Simple function defined in question, f(x) = sin(x) - e^x + 0.9 + x.\"\"\"\n",
      "    \n",
      "    import numpy as np\n",
      "    \n",
      "    return np.sin(x) - np.exp(x) + 0.9 + x\n",
      "\n",
      "def d_fn_q6(x):\n",
      "    \"\"\"Derivative of simple function defined in question, f(x) = sin(x) - e^x + 0.9 + x.\"\"\"\n",
      "    \n",
      "    import numpy as np\n",
      "    \n",
      "    return np.cos(x) - np.exp(x) + 1.0\n",
      "\n",
      "\n",
      "x = Newton(fn_q6, d_fn_q6, 0.5, tolerance = 1e-15)\n",
      "print \"The root is approximately {} where f is after {} steps.\\n\".format(x[-1], fn_q6(x[-1]), len(x))\n",
      "print \"The first three steps are {}\\n\".format(x[1:4])\n",
      "print \"The fifth step is \", x[5]\n",
      "\n",
      "import numpy as np\n",
      "import matplotlib.pyplot as plt\n",
      "fig = plt.figure(figsize = (12, 8), dpi = 50)\n",
      "plt.semilogy(range(len(x)-1), np.absolute(x[:-1] - x[-1]), 'kx')\n",
      "plt.xlabel('Iteration', size = 16)\n",
      "plt.ylabel('$|x_i - x_{final}|$', size = 16)\n",
      "\n",
      "plt.show()"
     ],
     "language": "python",
     "metadata": {},
     "outputs": [
      {
       "output_type": "stream",
       "stream": "stdout",
       "text": [
        "The root is approximately 0.106022964877 where f is after -9.71445146547e-17 steps.\n",
        "\n",
        "The first three steps are [-0.50805281  0.03925907  0.10340889]\n",
        "\n",
        "The fifth step is  0.106022964862\n"
       ]
      },
      {
       "metadata": {},
       "output_type": "display_data",
       "png": "[encoded data removed]",
       "text": [
        "<matplotlib.figure.Figure at 0x2f45090>"
       ]
      }
     ],
     "prompt_number": 8
    },
    {
     "cell_type": "heading",
     "level": 2,
     "metadata": {},
     "source": [
      "Coding Question 1"
     ]
    },
    {
     "cell_type": "markdown",
     "metadata": {},
     "source": [
      "Write a single function that, depending on an input argument, computes the integral of an input function $f(x)$ between the input arguments $a, b$, using either\n",
      "\n",
      "1. Simpson's rule, 3 points\n",
      "2. Trapezoidal rule, 3 points\n",
      "3. Gaussian Quadrature, 3 nodes.\n",
      "\n",
      "Test your code on\n",
      "\n",
      "\\begin{align}\n",
      "  \\int_0^1 \\sin^2 ( \\pi x ) & = \\frac{1}{2}, \\\\\n",
      "  \\int_0^1 e^{-x} \\sinh ( x ) d x & \\approx 0.283833821 \\\\\n",
      "  \\int_0^1 \\frac{1}{\\sqrt{x}} d x & = 2.\n",
      "\\end{align}\n",
      "\n",
      "Note that there are good reasons for some of the methods to fail on the final test!"
     ]
    },
    {
     "cell_type": "heading",
     "level": 3,
     "metadata": {},
     "source": [
      "Answer Coding Question 1"
     ]
    },
    {
     "cell_type": "code",
     "collapsed": false,
     "input": [
      "def integrate(f, a, b, method = 'Simpson'):\n",
      "    \"\"\"Integrate a given function f over [a, b] using 3 points/nodes using one of three methods (Simpson, Trapezoidal, Gauss).\"\"\"\n",
      "    import numpy as np\n",
      "    \n",
      "    if method == 'Simpson':\n",
      "        h = (b - a) / 2.0\n",
      "        I = h / 3.0 * (f(a) + f(b) + 4.0 * f( (a + b) / 2.0 ))\n",
      "    elif method == 'Trapezoidal':\n",
      "        h = (b - a) / 2.0\n",
      "        I = h / 2.0 * (f(a) + f(b) + 2.0 * f( (a + b) / 2.0 ))\n",
      "    elif method == 'Gauss':\n",
      "        nodes = np.array([-np.sqrt(3.0/5.0), 0.0, np.sqrt(3.0/5.0)])\n",
      "        weights = np.array([5.0/9.0, 8.0/9.0, 5.0/9.0])\n",
      "        # Remap [-1, 1] to the given interval\n",
      "        nodes = (nodes + 1.0) * (b - a) / 2.0 + a\n",
      "        I = 0\n",
      "        for i in range(len(nodes)):\n",
      "            I += weights[i] * f(nodes[i])\n",
      "        # Reweight\n",
      "        I *= (b - a) / 2.0\n",
      "    else:\n",
      "        raise Exception(\"method parameter unknown: must be one of ['Simpson', 'Trapezoidal', 'Gauss']\")\n",
      "    \n",
      "    return I\n",
      "\n",
      "def f1(x):\n",
      "    \"\"\"First integrand\"\"\"\n",
      "    import numpy as np\n",
      "    \n",
      "    return np.sin(np.pi * x)**2\n",
      "\n",
      "def f2(x):\n",
      "    \"\"\"Second integrand\"\"\"\n",
      "    import numpy as np\n",
      "    \n",
      "    return np.exp(-x) * np.sinh(x)\n",
      "\n",
      "def f3(x):\n",
      "    \"\"\"Third integrand\"\"\"\n",
      "    import numpy as np\n",
      "    \n",
      "    return 1.0 / np.sqrt(x)\n",
      "\n",
      "# Now look at the results\n",
      "import numpy as np\n",
      "\n",
      "exact_solutions = [0.5, 0.283833821, 2.0]\n",
      "\n",
      "integrand = 0\n",
      "for i in [f1, f2, f3]:\n",
      "    integrand +=1\n",
      "    for m in ['Simpson', 'Trapezoidal', 'Gauss']:\n",
      "        print \"For integrand number {} using method {} the result is {} (exact solution is {})\\n\".format(integrand, m, integrate(i, 0, 1, m), exact_solutions[integrand-1])\n"
     ],
     "language": "python",
     "metadata": {},
     "outputs": [
      {
       "output_type": "stream",
       "stream": "stdout",
       "text": [
        "For integrand number  1  using method  Simpson  the result is  0.666666666667  (exact solution is 0.5 )\n",
        "\n",
        "For integrand number  1  using method  Trapezoidal  the result is  0.5  (exact solution is 0.5 )\n",
        "\n",
        "For integrand number  1  using method  Gauss  the result is  0.511227100236  (exact solution is 0.5 )\n",
        "\n",
        "For integrand number  2  using method  Simpson  the result is  0.282762246006  (exact solution is 0.283833821 )\n",
        "\n",
        "For integrand number  2  using method  Trapezoidal  the result is  0.266113229303  (exact solution is 0.283833821 )\n",
        "\n",
        "For integrand number  2  using method  Gauss  the result is  0.283839841028  (exact solution is 0.283833821 )\n",
        "\n",
        "For integrand number  3  using method  Simpson  the result is  inf  (exact solution is 2.0 )\n",
        "\n",
        "For integrand number  3  using method  Trapezoidal  the result is  inf  (exact solution is 2.0 )\n",
        "\n",
        "For integrand number  3  using method  Gauss  the result is  1.75086317797  (exact solution is 2.0 )\n",
        "\n"
       ]
      },
      {
       "output_type": "stream",
       "stream": "stderr",
       "text": [
        "-c:42: RuntimeWarning: divide by zero encountered in double_scalars\n"
       ]
      }
     ],
     "prompt_number": 4
    },
    {
     "cell_type": "markdown",
     "metadata": {},
     "source": [
      "The results for the final integral will fail for those methods that evaluate the integral at $x = 0$."
     ]
    },
    {
     "cell_type": "heading",
     "level": 2,
     "metadata": {},
     "source": [
      "Coding Question 2"
     ]
    },
    {
     "cell_type": "markdown",
     "metadata": {},
     "source": [
      "Implement the secant method to find the root of\n",
      "\n",
      "\\begin{equation}\n",
      "  f(x) = \\tan (x) - e^{-x}, \\quad x \\in [0, 1].\n",
      "\\end{equation}"
     ]
    },
    {
     "cell_type": "heading",
     "level": 3,
     "metadata": {},
     "source": [
      "Answer Coding Question 2"
     ]
    },
    {
     "cell_type": "code",
     "collapsed": false,
     "input": [
      "def Secant(f, x0, x1, tolerance = 1e-10, MaxSteps = 100):\n",
      "    \"\"\"Implement the secant method to find the root of the equation f(x) = 0, starting from the initial guesses x^{(0,1)} = x0, x1\"\"\"\n",
      "    \n",
      "    import numpy as np\n",
      "    \n",
      "    x = np.zeros(MaxSteps)\n",
      "    x[0] = x0\n",
      "    x[1] = x1\n",
      "    \n",
      "    # There is no map!\n",
      "    for i in range(2, MaxSteps):\n",
      "        x[i] = x[i-1] - f(x[i-1]) * (x[i-1] - x[i-2]) / (f(x[i-1]) - f(x[i-2]))\n",
      "        if (np.absolute(f(x[i])) < tolerance):\n",
      "            break\n",
      "    return x[:i+1]\n",
      "\n",
      "# Now define the function whose root is to be found\n",
      "def fn_q2(x):\n",
      "    \"\"\"Simple function defined in question, f(x) = tan(x) - exp(-x).\"\"\"\n",
      "    \n",
      "    import numpy as np\n",
      "    \n",
      "    return np.tan(x) - np.exp(-x)\n",
      "\n",
      "\n",
      "x = Secant(fn_q2, 0.0, 1.0)\n",
      "print \"The root is approximately {} where f is {} after {} steps.\\n\".format(x[-1], fn_q2(x[-1]), len(x))\n",
      "\n",
      "import numpy as np\n",
      "import matplotlib.pyplot as plt\n",
      "fig = plt.figure(figsize = (12, 8), dpi = 50)\n",
      "plt.semilogy(range(len(x)-1), np.absolute(x[:-1] - x[-1]), 'kx')\n",
      "plt.xlabel('Iteration', size = 16)\n",
      "plt.ylabel('$|x_i - x_{final}|$', size = 16)\n",
      "\n",
      "plt.show()"
     ],
     "language": "python",
     "metadata": {},
     "outputs": [
      {
       "output_type": "stream",
       "stream": "stdout",
       "text": [
        "The root is approximately 0.531390856652 where f is 1.11022302463e-16 after 8 steps.\n",
        "\n"
       ]
      },
      {
       "metadata": {},
       "output_type": "display_data",
       "png": "[encoded data removed]",
       "text": [
        "<matplotlib.figure.Figure at 0x33939d0>"
       ]
      }
     ],
     "prompt_number": 9
    },
    {
     "cell_type": "code",
     "collapsed": false,
     "input": [
      "from IPython.core.display import HTML\n",
      "def css_styling():\n",
      "    styles = open(\"../../IPythonNotebookStyles/custom.css\", \"r\").read()\n",
      "    return HTML(styles)\n",
      "css_styling()"
     ],
     "language": "python",
     "metadata": {},
     "outputs": [
      {
       "html": [
        "<style>\n",
        "    @font-face {\n",
        "        font-family: \"Computer Modern\";\n",
        "        src: url('http://mirrors.ctan.org/fonts/cm-unicode/fonts/otf/cmunss.otf');\n",
        "    }\n",
        "    div.cell{\n",
        "        width:800px;\n",
        "        margin-left:16% !important;\n",
        "        margin-right:auto;\n",
        "    }\n",
        "    h1 {\n",
        "        font-family: Verdana, Arial, Helvetica, sans-serif;\n",
        "    }\n",
        "    h2 {\n",
        "        font-family: Verdana, Arial, Helvetica, sans-serif;\n",
        "    }\n",
        "    h3 {\n",
        "        font-family: Verdana, Arial, Helvetica, sans-serif;\n",
        "    }\n",
        "    div.text_cell_render{\n",
        "        font-family: Gill, Verdana, Arial, Helvetica, sans-serif;\n",
        "        line-height: 110%;\n",
        "        font-size: 120%;\n",
        "        width:700px;\n",
        "        margin-left:auto;\n",
        "        margin-right:auto;\n",
        "    }\n",
        "    .CodeMirror{\n",
        "            font-family: \"Source Code Pro\", source-code-pro,Consolas, monospace;\n",
        "    }\n",
        "/*    .prompt{\n",
        "        display: None;\n",
        "    }*/\n",
        "    .text_cell_render h5 {\n",
        "        font-weight: 300;\n",
        "        font-size: 12pt;\n",
        "        color: #4057A1;\n",
        "        font-style: italic;\n",
        "        margin-bottom: .5em;\n",
        "        margin-top: 0.5em;\n",
        "        display: block;\n",
        "    }\n",
        "    \n",
        "    .warning{\n",
        "        color: rgb( 240, 20, 20 )\n",
        "        }  \n",
        "</style>\n",
        "<script>\n",
        "    MathJax.Hub.Config({\n",
        "                        TeX: {\n",
        "                           extensions: [\"AMSmath.js\"]\n",
        "                           },\n",
        "                tex2jax: {\n",
        "                    inlineMath: [ ['$','$'], [\"\\\\(\",\"\\\\)\"] ],\n",
        "                    displayMath: [ ['$$','$$'], [\"\\\\[\",\"\\\\]\"] ]\n",
        "                },\n",
        "                displayAlign: 'center', // Change this to 'center' to center equations.\n",
        "                \"HTML-CSS\": {\n",
        "                    styles: {'.MathJax_Display': {\"margin\": 4}}\n",
        "                }\n",
        "        });\n",
        "</script>"
       ],
       "metadata": {},
       "output_type": "pyout",
       "prompt_number": 6,
       "text": [
        "<IPython.core.display.HTML at 0x28c0690>"
       ]
      }
     ],
     "prompt_number": 6
    },
    {
     "cell_type": "markdown",
     "metadata": {},
     "source": [
      "> (The cell above executes the style for this notebook. It closely follows the style used in the [12 Steps to Navier Stokes](http://lorenabarba.com/blog/cfd-python-12-steps-to-navier-stokes/) course.)"
     ]
    }
   ],
   "metadata": {}
  }
 ]
}